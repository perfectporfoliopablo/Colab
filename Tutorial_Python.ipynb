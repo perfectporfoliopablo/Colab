{
  "nbformat": 4,
  "nbformat_minor": 0,
  "metadata": {
    "colab": {
      "provenance": [],
      "authorship_tag": "ABX9TyPL8Ud2IGV79gAIk5M3a49+",
      "include_colab_link": true
    },
    "kernelspec": {
      "name": "python3",
      "display_name": "Python 3"
    },
    "language_info": {
      "name": "python"
    }
  },
  "cells": [
    {
      "cell_type": "markdown",
      "metadata": {
        "id": "view-in-github",
        "colab_type": "text"
      },
      "source": [
        "<a href=\"https://colab.research.google.com/github/perfectporfoliopablo/Curso-Lenguaje-Orientado-a-objetos-y-bases-de-datos/blob/main/Tutorial_Python.ipynb\" target=\"_parent\"><img src=\"https://colab.research.google.com/assets/colab-badge.svg\" alt=\"Open In Colab\"/></a>"
      ]
    },
    {
      "cell_type": "markdown",
      "source": [
        "😊"
      ],
      "metadata": {
        "id": "OBf71x90u6Au"
      }
    },
    {
      "cell_type": "code",
      "source": [
        "print('Hola Madrid')"
      ],
      "metadata": {
        "colab": {
          "base_uri": "https://localhost:8080/"
        },
        "id": "1fSa2LPouytf",
        "outputId": "f28226c8-a6dd-45ed-d968-b0c67ed115ed"
      },
      "execution_count": null,
      "outputs": [
        {
          "output_type": "stream",
          "name": "stdout",
          "text": [
            "Hola Madrid\n"
          ]
        }
      ]
    },
    {
      "cell_type": "code",
      "source": [
        "num1 = 10\n",
        "num2 = 5\n",
        "print(num1 + num2)\n",
        "print(num1*num2)\n",
        "print(num1/num2)\n",
        "print(num1//num2)\n",
        "print(num1**num2)\n",
        "print(num1**0.5) # raiz cuadrada\n",
        "print(num1**(1/2)) # otra forma raiz cuadrada\n",
        "print(num1**(0.25)) # raiz cuarta\n",
        "print(num1**(1/3)) # raiz cubica\n",
        "\n",
        "\n",
        "\n"
      ],
      "metadata": {
        "colab": {
          "base_uri": "https://localhost:8080/"
        },
        "id": "d-ZvAOoWwYtX",
        "outputId": "f29f93ec-e572-4a73-8b0e-244837e7d66b"
      },
      "execution_count": null,
      "outputs": [
        {
          "output_type": "stream",
          "name": "stdout",
          "text": [
            "15\n",
            "50\n",
            "2.0\n",
            "2\n",
            "100000\n",
            "3.1622776601683795\n",
            "3.1622776601683795\n",
            "1.7782794100389228\n"
          ]
        }
      ]
    },
    {
      "cell_type": "code",
      "source": [
        "a,b,c = 'banana','pera','uva'\n",
        "print(a,b,c)\n",
        "\n",
        "nombre_tio = 'Jesus'\n",
        "print ('Mi tio se llama', nombre_tio)\n",
        "\n",
        "nombre_tia = 'Almundena'\n",
        "print(f'mi tia se llama {nombre_tia}')\n",
        "\n",
        "x = 9\n",
        "y = 5\n",
        "print(x % y)\n",
        "\n"
      ],
      "metadata": {
        "colab": {
          "base_uri": "https://localhost:8080/"
        },
        "id": "Yp6BvS2q1C3X",
        "outputId": "dbe1e0a1-cf6e-45ff-b9a0-89fa773e04b4"
      },
      "execution_count": null,
      "outputs": [
        {
          "output_type": "stream",
          "name": "stdout",
          "text": [
            "banana pera uva\n",
            "Mi tio se llama Jesus\n",
            "mi tia se llama Almundena\n",
            "4\n"
          ]
        }
      ]
    },
    {
      "cell_type": "code",
      "source": [
        "print(type(3))\n",
        "print(type('Me llamo Pablo'))\n",
        "print(type(False))\n",
        "print(type(4.5))\n",
        "print('Buenos \\ndias \\nmi \\nquerida \\nmadre')\n"
      ],
      "metadata": {
        "colab": {
          "base_uri": "https://localhost:8080/"
        },
        "id": "s-qiBFpJ5xFv",
        "outputId": "ec684681-e0ab-4e88-fc6d-12a0cf2533d8"
      },
      "execution_count": null,
      "outputs": [
        {
          "output_type": "stream",
          "name": "stdout",
          "text": [
            "<class 'int'>\n",
            "<class 'str'>\n",
            "<class 'bool'>\n",
            "<class 'float'>\n",
            "Buenos \n",
            "dias \n",
            "mi \n",
            "querida \n",
            "madre\n"
          ]
        }
      ]
    },
    {
      "cell_type": "code",
      "source": [
        "#Concatenacion de Strings\n",
        "\n",
        "saludo = 'Que tal estas'\n",
        "print(saludo + ' esta mañana')\n",
        "\n",
        "#metodos mayúscula, minúsculas\n",
        "\n",
        "palabras = 'Me gusta mucho Madrid'\n",
        "print(palabras.upper())\n",
        "print(palabras.lower())\n",
        "print(palabras.replace('gusta','encanta'))"
      ],
      "metadata": {
        "colab": {
          "base_uri": "https://localhost:8080/"
        },
        "id": "b5reDq9a8u3B",
        "outputId": "299140ba-a158-47cf-fdbe-b8c914a17091"
      },
      "execution_count": null,
      "outputs": [
        {
          "output_type": "stream",
          "name": "stdout",
          "text": [
            "Que tal estas esta mañana\n",
            "ME GUSTA MUCHO MADRID\n",
            "me gusta mucho madrid\n",
            "Me encanta mucho Madrid\n"
          ]
        }
      ]
    },
    {
      "cell_type": "code",
      "source": [
        "#funciones para string\n",
        "\n",
        "print(len(palabras)) #largo de la frase numero de caracteres"
      ],
      "metadata": {
        "colab": {
          "base_uri": "https://localhost:8080/"
        },
        "id": "xbb4x_Nv-L84",
        "outputId": "41f74ae1-0e18-410b-d285-738bce789457"
      },
      "execution_count": null,
      "outputs": [
        {
          "output_type": "stream",
          "name": "stdout",
          "text": [
            "21\n"
          ]
        }
      ]
    },
    {
      "cell_type": "code",
      "source": [
        "lista = [0,1,2,3,4,5,]\n",
        "lista[2]\n",
        "lista[-3]\n",
        "lista[1:4]\n",
        "lista[:3]\n",
        "lista[3:]\n",
        "lista[::2]\n",
        "\n",
        "popurri = [1,2,3,'pera',4,5,('pepe','paco','Antonio'),True,1.3]\n",
        "popurri[::4]\n",
        "popurri[2:]\n",
        "print(popurri[-2])\n",
        "print(lista[2::2])\n",
        "\n"
      ],
      "metadata": {
        "colab": {
          "base_uri": "https://localhost:8080/"
        },
        "id": "AHFLMN0HJlKB",
        "outputId": "0fb2da4a-d3b5-4c8f-c333-dec70081cc41"
      },
      "execution_count": null,
      "outputs": [
        {
          "output_type": "execute_result",
          "data": {
            "text/plain": [
              "[2, 4]"
            ]
          },
          "metadata": {},
          "execution_count": 48
        }
      ]
    },
    {
      "cell_type": "code",
      "source": [
        "lista_de_listas = [[0,1,2],[4,5,6],[7,8,9]]\n",
        "lista_de_listas[0][1]\n",
        "lista_de_listas[1][-1]"
      ],
      "metadata": {
        "colab": {
          "base_uri": "https://localhost:8080/"
        },
        "id": "WatvG4jlSeuy",
        "outputId": "2724a589-969a-436e-c3f6-9440df050f8e"
      },
      "execution_count": null,
      "outputs": [
        {
          "output_type": "execute_result",
          "data": {
            "text/plain": [
              "6"
            ]
          },
          "metadata": {},
          "execution_count": 51
        }
      ]
    },
    {
      "cell_type": "code",
      "source": [
        "lista_de_sublistas=[[(1,2,3),(4,5,6)],[[7,8,9],[10,11,12]]]\n",
        "lista_de_sublistas[0][1][2]"
      ],
      "metadata": {
        "colab": {
          "base_uri": "https://localhost:8080/"
        },
        "id": "Skg1hRKvVsEL",
        "outputId": "6e014e43-b501-4906-b7b5-d952f436f15f"
      },
      "execution_count": null,
      "outputs": [
        {
          "output_type": "execute_result",
          "data": {
            "text/plain": [
              "5"
            ]
          },
          "metadata": {},
          "execution_count": 54
        }
      ]
    },
    {
      "cell_type": "code",
      "source": [
        "lenguaje = 'Python'\n",
        "print(lenguaje[1:6:2])"
      ],
      "metadata": {
        "colab": {
          "base_uri": "https://localhost:8080/"
        },
        "id": "prlYnqwHsOSm",
        "outputId": "c5642fbf-d4d4-4236-fc5b-3dabb2536886"
      },
      "execution_count": null,
      "outputs": [
        {
          "output_type": "stream",
          "name": "stdout",
          "text": [
            "yhn\n"
          ]
        }
      ]
    },
    {
      "cell_type": "code",
      "source": [
        "comentario = 'Que calor hace'\n",
        "print(comentario.index('hace')) #solo te da donde empieza el string"
      ],
      "metadata": {
        "colab": {
          "base_uri": "https://localhost:8080/"
        },
        "id": "RAVPOVUAvp9V",
        "outputId": "372b8669-bc4d-4ca5-a8d6-1908087ca848"
      },
      "execution_count": null,
      "outputs": [
        {
          "output_type": "stream",
          "name": "stdout",
          "text": [
            "11\n"
          ]
        }
      ]
    },
    {
      "cell_type": "code",
      "source": [
        "print(comentario[::-2])"
      ],
      "metadata": {
        "colab": {
          "base_uri": "https://localhost:8080/"
        },
        "id": "rO5zinp2xH_l",
        "outputId": "c404d458-9027-4d60-85c6-7626c0708d0d"
      },
      "execution_count": null,
      "outputs": [
        {
          "output_type": "stream",
          "name": "stdout",
          "text": [
            "ea oa u\n"
          ]
        }
      ]
    },
    {
      "cell_type": "code",
      "source": [
        "mi_numero = -8\n",
        "print(abs(mi_numero))\n",
        "\n",
        "mis_numeros = [2,3,4,5]\n",
        "resultado = max(mis_numeros)\n",
        "print(resultado)\n",
        "resultado_min = min(mis_numeros)\n",
        "print(resultado_min)\n",
        "resultado_sum = sum(mis_numeros)\n",
        "print(resultado_sum)\n",
        "\n",
        "print(pow(3,2))\n",
        "print(pow(2,4))\n"
      ],
      "metadata": {
        "colab": {
          "base_uri": "https://localhost:8080/"
        },
        "id": "LB1_7RL73H_5",
        "outputId": "bcc17357-716d-4a52-fe22-becff44c1f5b"
      },
      "execution_count": null,
      "outputs": [
        {
          "output_type": "stream",
          "name": "stdout",
          "text": [
            "8\n",
            "5\n",
            "2\n",
            "14\n",
            "9\n",
            "16\n"
          ]
        }
      ]
    },
    {
      "cell_type": "code",
      "source": [
        "from math import *"
      ],
      "metadata": {
        "id": "c5ZPz9pM52j6"
      },
      "execution_count": null,
      "outputs": []
    },
    {
      "cell_type": "code",
      "source": [
        "print(round(sqrt(25)))"
      ],
      "metadata": {
        "colab": {
          "base_uri": "https://localhost:8080/"
        },
        "id": "fGrzmvWr6NtJ",
        "outputId": "ebd9e1d3-d39b-4ddc-e4a3-7164a21dd3de"
      },
      "execution_count": null,
      "outputs": [
        {
          "output_type": "stream",
          "name": "stdout",
          "text": [
            "5\n"
          ]
        }
      ]
    },
    {
      "cell_type": "code",
      "source": [
        "print(perm(3, 2))"
      ],
      "metadata": {
        "colab": {
          "base_uri": "https://localhost:8080/"
        },
        "id": "wEYsr5FC7WQ5",
        "outputId": "e8c1e67e-3ac7-4c2b-d2bf-a6601eedbe77"
      },
      "execution_count": null,
      "outputs": [
        {
          "output_type": "stream",
          "name": "stdout",
          "text": [
            "6\n"
          ]
        }
      ]
    },
    {
      "cell_type": "code",
      "source": [
        "nombre = 'Ingrese su nombre: '\n",
        "input(nombre)"
      ],
      "metadata": {
        "colab": {
          "base_uri": "https://localhost:8080/",
          "height": 53
        },
        "id": "ScLiOUhE9CYA",
        "outputId": "092bef51-1d03-464b-b682-1acc7f951833"
      },
      "execution_count": null,
      "outputs": [
        {
          "name": "stdout",
          "output_type": "stream",
          "text": [
            "Ingrese su nombre: pablo\n"
          ]
        },
        {
          "output_type": "execute_result",
          "data": {
            "text/plain": [
              "'pablo'"
            ],
            "application/vnd.google.colaboratory.intrinsic+json": {
              "type": "string"
            }
          },
          "metadata": {},
          "execution_count": 17
        }
      ]
    },
    {
      "cell_type": "code",
      "source": [
        "print(f\"Ingrese su {nombre}\")"
      ],
      "metadata": {
        "colab": {
          "base_uri": "https://localhost:8080/"
        },
        "id": "ccT2yQg0-LvJ",
        "outputId": "dc3c2946-652d-4872-9d79-e72fc10865b9"
      },
      "execution_count": null,
      "outputs": [
        {
          "output_type": "stream",
          "name": "stdout",
          "text": [
            "Ingrese su Ingrese su nombre: \n"
          ]
        }
      ]
    },
    {
      "cell_type": "code",
      "source": [
        "num1 = int(input('Ingresa un numero '))\n",
        "num2 = int(input('Ingresa otro numero '))\n",
        "resultado = num1 + num2\n",
        "print(resultado)"
      ],
      "metadata": {
        "colab": {
          "base_uri": "https://localhost:8080/"
        },
        "id": "Kn3pJ1pm_sXY",
        "outputId": "2fd46b2a-13af-4325-dccd-33c40bf79e8e"
      },
      "execution_count": null,
      "outputs": [
        {
          "output_type": "stream",
          "name": "stdout",
          "text": [
            "Ingresa un numero 3\n",
            "Ingresa otro numero 4\n",
            "7\n"
          ]
        }
      ]
    },
    {
      "cell_type": "code",
      "source": [
        "num1 = (input('Ingresa un numero '))\n",
        "num2 = (input('Ingresa otro numero '))\n",
        "resultado = float(num1) + float(num2)\n",
        "print(resultado)"
      ],
      "metadata": {
        "colab": {
          "base_uri": "https://localhost:8080/"
        },
        "id": "Kl3xfzVkB_YJ",
        "outputId": "bd00bfd7-23cd-4c2a-faf8-a9af465a67c9"
      },
      "execution_count": null,
      "outputs": [
        {
          "output_type": "stream",
          "name": "stdout",
          "text": [
            "Ingresa un numero 3\n",
            "Ingresa otro numero 4\n",
            "7.0\n"
          ]
        }
      ]
    },
    {
      "cell_type": "code",
      "source": [
        "print(3<5)\n",
        "print(5>8)\n",
        "print(23>45)\n",
        "print(7==7)\n"
      ],
      "metadata": {
        "colab": {
          "base_uri": "https://localhost:8080/"
        },
        "id": "BU3aJoP_F03v",
        "outputId": "d5cc5d33-18c6-41ed-ac2d-db1cb3a90637"
      },
      "execution_count": null,
      "outputs": [
        {
          "output_type": "stream",
          "name": "stdout",
          "text": [
            "True\n",
            "False\n",
            "False\n",
            "True\n"
          ]
        }
      ]
    },
    {
      "cell_type": "code",
      "source": [
        "edad = 48\n",
        "edad += 3\n",
        "print(edad)\n",
        "\n",
        "edad2 = 50\n",
        "edad2 -=10\n",
        "print(edad2)\n",
        "\n",
        "edad3 = 30\n",
        "edad3 *= 3\n",
        "print(edad3)"
      ],
      "metadata": {
        "colab": {
          "base_uri": "https://localhost:8080/"
        },
        "id": "rCy55J5pHoRJ",
        "outputId": "77d97cc5-b8a4-4b22-ed7f-7b6881491934"
      },
      "execution_count": null,
      "outputs": [
        {
          "output_type": "stream",
          "name": "stdout",
          "text": [
            "51\n",
            "40\n",
            "90\n"
          ]
        }
      ]
    },
    {
      "cell_type": "code",
      "source": [
        "x = 5\n",
        "y = 7\n",
        "if x==y:\n",
        "  print('Los dos numeros son iguales')\n",
        "else:\n",
        "  print('Los dos numeros son distintos')\n"
      ],
      "metadata": {
        "colab": {
          "base_uri": "https://localhost:8080/"
        },
        "id": "f1Oney0oSVKN",
        "outputId": "1b84d0ea-fcfe-4a8a-ea95-9afaab2dc47f"
      },
      "execution_count": null,
      "outputs": [
        {
          "output_type": "stream",
          "name": "stdout",
          "text": [
            "Los dos numeros son distintos\n"
          ]
        }
      ]
    },
    {
      "cell_type": "code",
      "source": [
        "x = 7\n",
        "y = 5\n",
        "\n",
        "if x==7:\n",
        "  print('Los numeros son iguales')\n",
        "elif x<7:\n",
        "  print('x es menor que y')\n",
        "else:\n",
        "  print('x es mayor que x')\n"
      ],
      "metadata": {
        "colab": {
          "base_uri": "https://localhost:8080/"
        },
        "id": "DKrZtTYbS3jd",
        "outputId": "56e006f6-6fb8-45f1-d44d-db3e703d1994"
      },
      "execution_count": null,
      "outputs": [
        {
          "output_type": "stream",
          "name": "stdout",
          "text": [
            "Los numeros son iguales\n"
          ]
        }
      ]
    },
    {
      "cell_type": "code",
      "source": [
        "estas_casada = True\n",
        "eres_alta = True\n",
        "\n",
        "if estas_casada or eres_alta:\n",
        "  print('Tu eres alta y estas casada')\n",
        "else:\n",
        "  print('Tu ni estas casda, ni eres alta')\n",
        "\n"
      ],
      "metadata": {
        "id": "db5vMAQPT1UF"
      },
      "execution_count": null,
      "outputs": []
    },
    {
      "cell_type": "code",
      "source": [
        "num1 = float(input('Escribe un numero '))\n",
        "num2 = float(input('Escribe otro numero '))\n",
        "operador = (input('Escribe un operador '))\n",
        "if operador=='+':\n",
        "  print(num1+num2)\n",
        "elif operador=='-':\n",
        "  print(num1-num2)\n",
        "elif operador=='*':\n",
        "  print(num1*num2)\n",
        "elif operador=='/':\n",
        "  print(num1/num2)\n",
        "elif operador!=('+','-','*','/'):\n",
        "  print('Error, ponga el operador correcto')\n",
        "else:\n",
        "  print('Error fatal')\n"
      ],
      "metadata": {
        "colab": {
          "base_uri": "https://localhost:8080/"
        },
        "id": "iHJV2Zs0XT3N",
        "outputId": "791d7f86-028a-40ff-8f63-ef193577f737"
      },
      "execution_count": null,
      "outputs": [
        {
          "output_type": "stream",
          "name": "stdout",
          "text": [
            "Escribe un numero 3\n",
            "Escribe otro numero 4\n",
            "Escribe un operador `+\n",
            "Error, ponga el operador correcto\n"
          ]
        }
      ]
    },
    {
      "cell_type": "code",
      "source": [
        "nota=float(input('Diga su nota (1-10): '))\n",
        "if nota==10:\n",
        "  print('Su nota es extraordinario')\n",
        "elif nota==9:\n",
        "  print('Su nota es excelente')\n",
        "elif nota==8:\n",
        "  print('Su nota es sobresaliente')\n",
        "elif nota==7:\n",
        "  print('Su nota es notable')\n",
        "elif nota==6:\n",
        "  print('Su nota es bien')\n",
        "elif nota==5:\n",
        "  print('Su nota es suficiente')\n",
        "else:\n",
        "  print('Su nota es suspenso')\n"
      ],
      "metadata": {
        "colab": {
          "base_uri": "https://localhost:8080/"
        },
        "id": "uxr4YU4BtkZS",
        "outputId": "223de0d2-7c6b-46df-c12d-3a1c9c18a4cd"
      },
      "execution_count": null,
      "outputs": [
        {
          "output_type": "stream",
          "name": "stdout",
          "text": [
            "Diga su nota (1-10): 10\n",
            "Su nota es extraordinario\n"
          ]
        }
      ]
    },
    {
      "cell_type": "code",
      "source": [
        "palabra= input('introduce ua palabra: ')\n",
        "\n",
        "if len(palabra) > 7:\n",
        "  print('la palabra es larga')\n",
        "  if palabra[0].lower() == 'a':\n",
        "    print('Además, la palabra comienza con la letra a')\n",
        "    if palabra[-1].lower() == 'a':\n",
        "      print('Tambien la palabra termina con la letra a')\n",
        "elif len(palabra) >= 4:\n",
        "  print('la palabra es mediana')\n",
        "else:\n",
        "  print('la palabra es corta')\n"
      ],
      "metadata": {
        "colab": {
          "base_uri": "https://localhost:8080/"
        },
        "id": "EvfdK3QP-EAg",
        "outputId": "9d01fbd6-a64f-438a-e16d-d32bc85ec828"
      },
      "execution_count": null,
      "outputs": [
        {
          "output_type": "stream",
          "name": "stdout",
          "text": [
            "introduce ua palabra: pablo\n",
            "la palabra es mediana\n"
          ]
        }
      ]
    },
    {
      "cell_type": "code",
      "source": [
        "palabra1 = input('introduce una palabra ').lower()\n",
        "palabra2 = input('introduce otra palabra ').lower()\n",
        "if palabra1[::] == palabra2[::-1]:\n",
        "  print ('es un palindormo')\n",
        "  frase = palabra1 + palabra2\n",
        "  if  frase[::1] == frase[::-1]:\n",
        "    print('es una frase palindromo')\n",
        "else:\n",
        "  print('no es un palindromo')\n",
        "\n"
      ],
      "metadata": {
        "colab": {
          "base_uri": "https://localhost:8080/"
        },
        "id": "4JPQYiFEenZB",
        "outputId": "8ba43896-29b7-4a05-905e-18a20958efdf"
      },
      "execution_count": null,
      "outputs": [
        {
          "output_type": "stream",
          "name": "stdout",
          "text": [
            "introduce una palabra oro\n",
            "introduce otra palabra oro\n",
            "es un palindormo\n",
            "es una frase palindromo\n"
          ]
        }
      ]
    },
    {
      "cell_type": "code",
      "source": [
        "año=int(input('Escriba el año para saber si es bisiesto: ')) # esta mal el ejercicio\n",
        "if año %4==0:\n",
        "  if año %100!=0:\n",
        "    print('No es bisiesto')\n",
        "    if año %400==0:\n",
        "      print('Es bisiesto')\n",
        "    else:\n",
        "      print('No es bisiesto de todas, todas')\n",
        "  else:\n",
        "    print('No es bisisesto por que no es divisible por 100')\n",
        "else:\n",
        "  print('No es bisiesto por que no es dibisible por 4')"
      ],
      "metadata": {
        "colab": {
          "base_uri": "https://localhost:8080/"
        },
        "id": "a6_nP4EUpErw",
        "outputId": "cc49e6fb-d8bb-4886-dfa6-28c2f13c6111"
      },
      "execution_count": null,
      "outputs": [
        {
          "output_type": "stream",
          "name": "stdout",
          "text": [
            "Escriba el año para saber si es bisiesto: 1596\n",
            "No es bisiesto\n",
            "No es bisiesto de todas, todas\n"
          ]
        }
      ]
    },
    {
      "cell_type": "code",
      "source": [
        "flores = ['rosas','amapolas','tulipales']\n",
        "popurri = [True,'Me gusta el turron', 6.25, ['Lunes',('Martes','Miercoles')],flores, 24425]\n",
        "\n",
        "print(popurri)\n",
        "flores\n",
        "#popurri.replace[False]\n",
        "\n"
      ],
      "metadata": {
        "colab": {
          "base_uri": "https://localhost:8080/"
        },
        "id": "5pONyCy4GbTl",
        "outputId": "348db478-3ed1-4929-bc65-6785cc514c14"
      },
      "execution_count": null,
      "outputs": [
        {
          "output_type": "stream",
          "name": "stdout",
          "text": [
            "[True, 'Me gusta el turron', 6.25, ['Lunes', ('Martes', 'Miercoles')], ['rosas', 'amapolas', 'tulipales'], 24425]\n"
          ]
        },
        {
          "output_type": "execute_result",
          "data": {
            "text/plain": [
              "['rosas', 'amapolas', 'tulipales']"
            ]
          },
          "metadata": {},
          "execution_count": 14
        }
      ]
    },
    {
      "cell_type": "code",
      "source": [
        "numeros = (1,2,3,4)\n",
        "print(numeros[2])\n",
        "#numeros.replace(5,6,7,8)\n"
      ],
      "metadata": {
        "colab": {
          "base_uri": "https://localhost:8080/"
        },
        "id": "PiyXP0CoOPSV",
        "outputId": "b86716e5-ea7d-4242-c985-09b97f7ee9ce"
      },
      "execution_count": null,
      "outputs": [
        {
          "output_type": "stream",
          "name": "stdout",
          "text": [
            "3\n"
          ]
        }
      ]
    },
    {
      "cell_type": "code",
      "source": [
        "flores={'amapolas','rosas','margaritas','lirios'}\n",
        "print(flores)"
      ],
      "metadata": {
        "colab": {
          "base_uri": "https://localhost:8080/"
        },
        "id": "rpRN8Tw6SP-t",
        "outputId": "b222b58a-9694-4781-afca-9343e802be1a"
      },
      "execution_count": null,
      "outputs": [
        {
          "output_type": "stream",
          "name": "stdout",
          "text": [
            "{'amapolas', 'margaritas', 'lirios', 'rosas'}\n"
          ]
        }
      ]
    },
    {
      "cell_type": "code",
      "source": [
        "año=int(input('Introduce un año: '))\n",
        "if(año %4==0 and año %100!=0) or año %400==0:\n",
        "  print('es bisiesto')\n",
        "else:\n",
        "  print('no es bisiesto')"
      ],
      "metadata": {
        "colab": {
          "base_uri": "https://localhost:8080/"
        },
        "id": "SE7WqFSmkfkO",
        "outputId": "60c652ce-c0bb-4873-c6a3-bdfb92632d64"
      },
      "execution_count": null,
      "outputs": [
        {
          "output_type": "stream",
          "name": "stdout",
          "text": [
            "Introduce un año: 1800\n",
            "no es bisiesto\n"
          ]
        }
      ]
    },
    {
      "cell_type": "code",
      "source": [
        "coches=['seat','mercedes','bmw']\n",
        "for i in coches:\n",
        "  print(i)"
      ],
      "metadata": {
        "colab": {
          "base_uri": "https://localhost:8080/"
        },
        "id": "12gf749Fp6mu",
        "outputId": "a31b00a9-5381-4037-e8f8-4951500e2174"
      },
      "execution_count": null,
      "outputs": [
        {
          "output_type": "stream",
          "name": "stdout",
          "text": [
            "seat\n",
            "mercedes\n",
            "bmw\n"
          ]
        }
      ]
    },
    {
      "cell_type": "code",
      "source": [
        "for x in range(1,15,3):\n",
        " print(x)"
      ],
      "metadata": {
        "colab": {
          "base_uri": "https://localhost:8080/"
        },
        "id": "mAbKUH_yr3J-",
        "outputId": "d0ded8a6-dd03-408a-b57b-84fb8fd6e207"
      },
      "execution_count": null,
      "outputs": [
        {
          "output_type": "stream",
          "name": "stdout",
          "text": [
            "1\n",
            "4\n",
            "7\n",
            "10\n",
            "13\n"
          ]
        }
      ]
    },
    {
      "cell_type": "code",
      "source": [
        "for letra in 'Python mola':\n",
        "  print(letra)"
      ],
      "metadata": {
        "colab": {
          "base_uri": "https://localhost:8080/"
        },
        "id": "oM2LLu1SsqLe",
        "outputId": "74b99d14-c285-47b0-9dff-840d760d4bf1"
      },
      "execution_count": null,
      "outputs": [
        {
          "output_type": "stream",
          "name": "stdout",
          "text": [
            "P\n",
            "y\n",
            "t\n",
            "h\n",
            "o\n",
            "n\n",
            " \n",
            "m\n",
            "o\n",
            "l\n",
            "a\n"
          ]
        }
      ]
    },
    {
      "cell_type": "code",
      "source": [
        "for letra in 'Python mola':\n",
        "  print(letra, end='')"
      ],
      "metadata": {
        "colab": {
          "base_uri": "https://localhost:8080/"
        },
        "id": "VXQuxci-s9qF",
        "outputId": "9cdc5bfc-3e8f-45fb-b11e-15708e1e0f72"
      },
      "execution_count": null,
      "outputs": [
        {
          "output_type": "stream",
          "name": "stdout",
          "text": [
            "Python mola"
          ]
        }
      ]
    },
    {
      "cell_type": "code",
      "source": [
        "gente={'Pablo':5, 'Pedro':7, 'Salva':6}\n",
        "for i in gente:\n",
        "  print(i, end=' tiene ')\n",
        "  print(gente[i],end=' manzanas \\n')"
      ],
      "metadata": {
        "colab": {
          "base_uri": "https://localhost:8080/"
        },
        "id": "tDKMeA6UuvBd",
        "outputId": "de436bd8-8069-49a1-be17-bb9d3093022b"
      },
      "execution_count": null,
      "outputs": [
        {
          "output_type": "stream",
          "name": "stdout",
          "text": [
            "Pablo tiene 5 manzanas \n",
            "Pedro tiene 7 manzanas \n",
            "Salva tiene 6 manzanas \n"
          ]
        }
      ]
    },
    {
      "cell_type": "code",
      "source": [
        "for i in range(1,25):\n",
        "  if(i%2==0):\n",
        "    print(i)\n",
        "  elif(i%2!=0):\n",
        "    print(i)"
      ],
      "metadata": {
        "colab": {
          "base_uri": "https://localhost:8080/"
        },
        "id": "slLubI9px6ic",
        "outputId": "6c55b013-45b3-4d86-96c1-af02261cadde"
      },
      "execution_count": null,
      "outputs": [
        {
          "output_type": "stream",
          "name": "stdout",
          "text": [
            "1\n",
            "2\n",
            "3\n",
            "4\n",
            "5\n",
            "6\n",
            "7\n",
            "8\n",
            "9\n",
            "10\n",
            "11\n",
            "12\n",
            "13\n",
            "14\n",
            "15\n",
            "16\n",
            "17\n",
            "18\n",
            "19\n",
            "20\n",
            "21\n",
            "22\n",
            "23\n",
            "24\n"
          ]
        }
      ]
    },
    {
      "cell_type": "code",
      "source": [
        "num=int(input('Escribe un numero entero: '))\n",
        "for i in range (num,1,-1):\n",
        "  print('$'*i)\n"
      ],
      "metadata": {
        "colab": {
          "base_uri": "https://localhost:8080/"
        },
        "id": "zQhhNhh21YQ0",
        "outputId": "5e3d67b0-bfa6-4a36-a1bb-ff767aa705df"
      },
      "execution_count": null,
      "outputs": [
        {
          "output_type": "stream",
          "name": "stdout",
          "text": [
            "Escribe un numero entero: 10\n",
            "$$$$$$$$$$\n",
            "$$$$$$$$$\n",
            "$$$$$$$$\n",
            "$$$$$$$\n",
            "$$$$$$\n",
            "$$$$$\n",
            "$$$$\n",
            "$$$\n",
            "$$\n"
          ]
        }
      ]
    },
    {
      "cell_type": "code",
      "source": [
        "palabra=input('Escribe una palabra: ')\n",
        "for i in range (0,10):\n",
        "  print(palabra)"
      ],
      "metadata": {
        "colab": {
          "base_uri": "https://localhost:8080/"
        },
        "id": "bV7xBkhGFPph",
        "outputId": "ae728de6-4e1a-4ac2-a3c2-03a2894a519c"
      },
      "execution_count": null,
      "outputs": [
        {
          "output_type": "stream",
          "name": "stdout",
          "text": [
            "Escribe una palabra: pepe\n",
            "pepe\n",
            "pepe\n",
            "pepe\n",
            "pepe\n",
            "pepe\n",
            "pepe\n",
            "pepe\n",
            "pepe\n",
            "pepe\n",
            "pepe\n"
          ]
        }
      ]
    },
    {
      "cell_type": "code",
      "source": [
        "pais=['Canada','Usa','Maxico','Cuba']\n",
        "for i in pais:\n",
        "  print(i, end=' ')\n"
      ],
      "metadata": {
        "colab": {
          "base_uri": "https://localhost:8080/"
        },
        "id": "7oFXBd6KGuyh",
        "outputId": "f8125311-a947-4369-9bac-ac2ef6f68e96"
      },
      "execution_count": null,
      "outputs": [
        {
          "output_type": "stream",
          "name": "stdout",
          "text": [
            "Canada Usa Maxico Cuba "
          ]
        }
      ]
    },
    {
      "cell_type": "code",
      "source": [
        "\n",
        "for i in range (0,-5000,-500):\n",
        "  print(i)"
      ],
      "metadata": {
        "colab": {
          "base_uri": "https://localhost:8080/"
        },
        "id": "3PamSzZJKFIx",
        "outputId": "f0862409-7085-4687-e04d-0d5d393fb395"
      },
      "execution_count": null,
      "outputs": [
        {
          "output_type": "stream",
          "name": "stdout",
          "text": [
            "0\n",
            "-500\n",
            "-1000\n",
            "-1500\n",
            "-2000\n",
            "-2500\n",
            "-3000\n",
            "-3500\n",
            "-4000\n",
            "-4500\n"
          ]
        }
      ]
    },
    {
      "cell_type": "code",
      "source": [
        "numero=int(input('ingresa un numero: '))\n",
        "for i in range(1,numero+1):\n",
        "  print('El numero es: ',i,' y el cubo es ',i**3)"
      ],
      "metadata": {
        "colab": {
          "base_uri": "https://localhost:8080/"
        },
        "id": "_ScIB9lhMr_A",
        "outputId": "3b9d36f2-4a3f-4e2e-8d70-b6ef9fb19fc8"
      },
      "execution_count": null,
      "outputs": [
        {
          "output_type": "stream",
          "name": "stdout",
          "text": [
            "ingresa un numero: 5\n",
            "El numero es:  1  y el cubo es  1\n",
            "El numero es:  2  y el cubo es  8\n",
            "El numero es:  3  y el cubo es  27\n",
            "El numero es:  4  y el cubo es  64\n",
            "El numero es:  5  y el cubo es  125\n"
          ]
        }
      ]
    },
    {
      "cell_type": "code",
      "source": [
        "for i in range (10,55):\n",
        "  if i!=16 and(i%3!=0 and i%2==0 ):\n",
        "    print(i)\n",
        "\n"
      ],
      "metadata": {
        "colab": {
          "base_uri": "https://localhost:8080/"
        },
        "id": "dWDRdgKpdvLV",
        "outputId": "e0bde19c-1084-4980-a3e5-9f1f1c835f22"
      },
      "execution_count": null,
      "outputs": [
        {
          "output_type": "stream",
          "name": "stdout",
          "text": [
            "10\n",
            "14\n",
            "20\n",
            "22\n",
            "26\n",
            "28\n",
            "32\n",
            "34\n",
            "38\n",
            "40\n",
            "44\n",
            "46\n",
            "50\n",
            "52\n"
          ]
        }
      ]
    },
    {
      "cell_type": "code",
      "source": [
        "lista=[10,45,356,10,10,10,46,67,45,10,10,43,10,65,10,10]\n",
        "lista.sort()\n",
        "for i in lista:\n",
        "  if i==10:\n",
        "    continue\n",
        "  elif i==356:\n",
        "    break\n",
        "  print(i)"
      ],
      "metadata": {
        "colab": {
          "base_uri": "https://localhost:8080/"
        },
        "id": "uFLQcFEkhMH7",
        "outputId": "6ffb8d71-3624-460a-ee5e-8808b4e84f31"
      },
      "execution_count": null,
      "outputs": [
        {
          "output_type": "stream",
          "name": "stdout",
          "text": [
            "356\n"
          ]
        }
      ]
    },
    {
      "cell_type": "code",
      "source": [
        "numero=int(input('Escribe un numero '))\n",
        "for i in range(numero ,-1,-1):\n",
        "  print(i ,end=', ')\n"
      ],
      "metadata": {
        "colab": {
          "base_uri": "https://localhost:8080/"
        },
        "id": "ShfBZGKxoGMj",
        "outputId": "804cc560-f2db-425f-94fb-4beee9268dc6"
      },
      "execution_count": null,
      "outputs": [
        {
          "output_type": "stream",
          "name": "stdout",
          "text": [
            "Escribe un numero 10\n",
            "10, 9, 8, 7, 6, 5, 4, 3, 2, 1, 0, "
          ]
        }
      ]
    },
    {
      "cell_type": "code",
      "source": [
        "contador_cinco = 0\n",
        "for i in range(5):\n",
        "  numero=int(input('Ingresa un numero: '))\n",
        "  if numero ==5:\n",
        "    contador_cinco +=1\n",
        "print('Has ingresado', contador_cinco, 'veces el numero 5')"
      ],
      "metadata": {
        "colab": {
          "base_uri": "https://localhost:8080/"
        },
        "id": "T-0n7EgrwDfs",
        "outputId": "7b4d151e-9bc2-4750-dd9a-6ebff8fdc3ce"
      },
      "execution_count": null,
      "outputs": [
        {
          "output_type": "stream",
          "name": "stdout",
          "text": [
            "Ingresa un numero: 5\n",
            "Ingresa un numero: 4\n",
            "Ingresa un numero: 3\n",
            "Ingresa un numero: 4\n",
            "Ingresa un numero: 5\n",
            "Has ingresado 2 veces el numero 5\n"
          ]
        }
      ]
    },
    {
      "cell_type": "code",
      "source": [
        "lista_paises = []\n",
        "for i in range(4):\n",
        "  pais=input('Ingresa un pais: ')\n",
        "  lista_paises.append(pais)\n",
        "print('Los paises son: ', lista_paises)"
      ],
      "metadata": {
        "colab": {
          "base_uri": "https://localhost:8080/"
        },
        "id": "4Po7E6DR38sj",
        "outputId": "42c048ec-7668-4ea1-b021-a5fbf178e411"
      },
      "execution_count": null,
      "outputs": [
        {
          "output_type": "stream",
          "name": "stdout",
          "text": [
            "Ingresa un pais: españa\n",
            "Ingresa un pais: inglaterra\n",
            "Ingresa un pais: peru\n",
            "Ingresa un pais: ecuador\n",
            "Los paises son:  ['españa', 'inglaterra', 'peru', 'ecuador']\n"
          ]
        }
      ]
    },
    {
      "cell_type": "code",
      "source": [
        "lista_letras=['a','b','c']\n",
        "lista_letras.append('d')\n",
        "lista_letras.append('e')\n",
        "print(lista_letras)"
      ],
      "metadata": {
        "colab": {
          "base_uri": "https://localhost:8080/"
        },
        "id": "VJe-RmF78DsK",
        "outputId": "3fcf4fbb-42f0-4b3b-f7aa-c984e297d657"
      },
      "execution_count": null,
      "outputs": [
        {
          "output_type": "stream",
          "name": "stdout",
          "text": [
            "['a', 'b', 'c', 'd', 'e']\n"
          ]
        }
      ]
    },
    {
      "cell_type": "code",
      "source": [
        "lista_nombres = []\n",
        "for i in range (4):\n",
        "  nombre=input('ingresa un nombre: ')\n",
        "  lista_nombres.append(nombre)\n",
        "  print('nombre de la lista', lista_nombres)\n"
      ],
      "metadata": {
        "colab": {
          "base_uri": "https://localhost:8080/"
        },
        "id": "WSP-SyouOMTH",
        "outputId": "0e277381-a957-49e5-c214-f6c26c3d1be1"
      },
      "execution_count": null,
      "outputs": [
        {
          "output_type": "stream",
          "name": "stdout",
          "text": [
            "ingresa un nombrepablo\n",
            "nombre de la lista ['pablo']\n",
            "ingresa un nombrepedro\n",
            "nombre de la lista ['pablo', 'pedro']\n",
            "ingresa un nombrearturo\n",
            "nombre de la lista ['pablo', 'pedro', 'arturo']\n",
            "ingresa un nombrekasty\n",
            "nombre de la lista ['pablo', 'pedro', 'arturo', 'kasty']\n"
          ]
        }
      ]
    },
    {
      "cell_type": "code",
      "source": [
        "edad=int(input('¿cuantos años tienes?'))\n",
        "edad_minima=1\n",
        "for i in range(edad):\n",
        "  print('tienes ', edad_minima, 'años')\n",
        "  edad_minima+=1\n"
      ],
      "metadata": {
        "colab": {
          "base_uri": "https://localhost:8080/"
        },
        "id": "etoVAWdJQ5ym",
        "outputId": "60a32890-5de6-4c8e-ea9e-1d18025cc1f7"
      },
      "execution_count": null,
      "outputs": [
        {
          "output_type": "stream",
          "name": "stdout",
          "text": [
            "¿cuantos años tienes?12\n",
            "tienes  1 años\n",
            "tienes  2 años\n",
            "tienes  3 años\n",
            "tienes  4 años\n",
            "tienes  5 años\n",
            "tienes  6 años\n",
            "tienes  7 años\n",
            "tienes  8 años\n",
            "tienes  9 años\n",
            "tienes  10 años\n",
            "tienes  11 años\n",
            "tienes  12 años\n"
          ]
        }
      ]
    },
    {
      "cell_type": "code",
      "source": [
        "lista_semanas=['Lunes','Martes','Miercoles','Jueves','Viernes','Sabado','Domingo']\n",
        "for i in lista_semanas:\n",
        "  print(i,': ',len(i))"
      ],
      "metadata": {
        "colab": {
          "base_uri": "https://localhost:8080/"
        },
        "id": "mcW8RvYVT0E-",
        "outputId": "36bec68b-2083-4ff4-c74c-048ec2f64bc3"
      },
      "execution_count": null,
      "outputs": [
        {
          "output_type": "stream",
          "name": "stdout",
          "text": [
            "Lunes :  5\n",
            "Martes :  6\n",
            "Miercoles :  9\n",
            "Jueves :  6\n",
            "Viernes :  7\n",
            "Sabado :  6\n",
            "Domingo :  7\n"
          ]
        }
      ]
    },
    {
      "cell_type": "code",
      "source": [
        "lista_partes_cuerpo=['cabeza','brazos','piernas','torso']\n",
        "for i in lista_partes_cuerpo:\n",
        "  if i=='cabeza':\n",
        "    print('En la',i,'Tenemos el cerebro')\n",
        "  elif i=='brazos':\n",
        "    print('Con los',i,'con ellos abrazamos')\n",
        "  elif i=='piernas':\n",
        "    print('Con las',i,'con ellas andamos')\n",
        "  elif i=='torso':\n",
        "    print('Con el',i,'tenemos los organos')\n",
        "\n"
      ],
      "metadata": {
        "colab": {
          "base_uri": "https://localhost:8080/"
        },
        "id": "7riUTb_aWj9W",
        "outputId": "5d468414-c1b2-45b8-caa6-9effd1934b35"
      },
      "execution_count": null,
      "outputs": [
        {
          "output_type": "stream",
          "name": "stdout",
          "text": [
            "En la cabeza Tenemos el cerebro\n",
            "Con los brazos con ellos abrazamos\n",
            "Con las piernas con ellas andamos\n",
            "Con el torso tenemos los organos\n"
          ]
        }
      ]
    },
    {
      "cell_type": "code",
      "source": [
        "numero=6\n",
        "for i in range (0,numero):\n",
        "  print((i+1)*'$')\n",
        "for x in range (numero,0,-1):\n",
        "  print((x)*'$')\n"
      ],
      "metadata": {
        "colab": {
          "base_uri": "https://localhost:8080/"
        },
        "id": "y84_uVzMde8M",
        "outputId": "c9f33b28-4522-4860-a6d9-2f586fcb44d8"
      },
      "execution_count": null,
      "outputs": [
        {
          "output_type": "stream",
          "name": "stdout",
          "text": [
            "$\n",
            "$$\n",
            "$$$\n",
            "$$$$\n",
            "$$$$$\n",
            "$$$$$$\n",
            "$$$$$$\n",
            "$$$$$\n",
            "$$$$\n",
            "$$$\n",
            "$$\n",
            "$\n"
          ]
        }
      ]
    },
    {
      "cell_type": "code",
      "source": [
        "cosas_feliz=[]\n",
        "for i in range(3):\n",
        "  cosa=input('cosa que te hace feliz: ')\n",
        "  cosas_feliz.append(cosa)\n",
        "for x in cosas_feliz:\n",
        "    print(x,'me hace feliz')"
      ],
      "metadata": {
        "colab": {
          "base_uri": "https://localhost:8080/"
        },
        "id": "6_KlMTlGnyqz",
        "outputId": "3a3903cb-d438-4427-be9f-af4b6dbd80f0"
      },
      "execution_count": null,
      "outputs": [
        {
          "output_type": "stream",
          "name": "stdout",
          "text": [
            "cosa que te hace feliz: salud\n",
            "cosa que te hace feliz: dinero\n",
            "cosa que te hace feliz: amor\n",
            "salud me hace feliz\n",
            "dinero me hace feliz\n",
            "amor me hace feliz\n"
          ]
        }
      ]
    },
    {
      "cell_type": "code",
      "source": [
        "letra=input('Escribe tu nombre: ')\n",
        "for i in letra:\n",
        "  binario=(bin(ord(i))[2:])\n",
        "  print(binario)"
      ],
      "metadata": {
        "colab": {
          "base_uri": "https://localhost:8080/"
        },
        "id": "rHpFgeiywXAS",
        "outputId": "52e99eb0-dba2-400a-f293-0c3ae05d132f"
      },
      "execution_count": null,
      "outputs": [
        {
          "output_type": "stream",
          "name": "stdout",
          "text": [
            "Escribe tu nombre: pablo\n",
            "1110000\n",
            "1100001\n",
            "1100010\n",
            "1101100\n",
            "1101111\n"
          ]
        }
      ]
    },
    {
      "cell_type": "code",
      "source": [
        "numero=int(input('Escribe un numero: '))\n",
        "for i in range(0,11):\n",
        "  print(numero,'x',i,'=',i*numero)"
      ],
      "metadata": {
        "colab": {
          "base_uri": "https://localhost:8080/"
        },
        "id": "1EJqVk_NyepK",
        "outputId": "f8fefa69-06de-4aa7-d48d-9a7aecd5628b"
      },
      "execution_count": null,
      "outputs": [
        {
          "output_type": "stream",
          "name": "stdout",
          "text": [
            "Escribe un numero: 8\n",
            "8 x 0 = 0\n",
            "8 x 1 = 8\n",
            "8 x 2 = 16\n",
            "8 x 3 = 24\n",
            "8 x 4 = 32\n",
            "8 x 5 = 40\n",
            "8 x 6 = 48\n",
            "8 x 7 = 56\n",
            "8 x 8 = 64\n",
            "8 x 9 = 72\n",
            "8 x 10 = 80\n"
          ]
        }
      ]
    },
    {
      "cell_type": "code",
      "source": [
        "numero = 0\n",
        "while numero <=10:\n",
        "  if numero % 2 == 0:\n",
        "    print(\"Número par:\", numero)\n",
        "  numero +=1"
      ],
      "metadata": {
        "colab": {
          "base_uri": "https://localhost:8080/"
        },
        "id": "NYpYMcGaDDXo",
        "outputId": "71dd22c4-d39d-424c-ab69-f5d2a9d113cf"
      },
      "execution_count": null,
      "outputs": [
        {
          "output_type": "stream",
          "name": "stdout",
          "text": [
            "Número par: 0\n",
            "Número par: 2\n",
            "Número par: 4\n",
            "Número par: 6\n",
            "Número par: 8\n",
            "Número par: 10\n"
          ]
        }
      ]
    },
    {
      "cell_type": "code",
      "source": [
        "numero=int(input('escribe un numero para el primer lado: '))\n",
        "numero2=int(input('escribe un segundo numero para el segundo lado: '))\n",
        "numero3=int(input('escribe un tercer numero para el tercer lado: '))\n",
        "if (numero == numero2 == numero3):\n",
        "  print('Es un triangulo equilátero')\n",
        "elif(numero == numero2 or numero2 == numero3 or numero == numero3):\n",
        "  print('Es un triangulo isósceles')\n",
        "else:\n",
        "  print('Es un triangulo escaleno')"
      ],
      "metadata": {
        "colab": {
          "base_uri": "https://localhost:8080/"
        },
        "id": "PH6Pqty5Nbgv",
        "outputId": "7fa42c63-8f00-4a37-b573-092a6b3977e6"
      },
      "execution_count": null,
      "outputs": [
        {
          "output_type": "stream",
          "name": "stdout",
          "text": [
            "escribe un numero para el primer lado: 4\n",
            "escribe un segundo numero para el segundo lado: 3\n",
            "escribe un tercer numero para el tercer lado: 4\n",
            "Es un triangulo isósceles\n"
          ]
        }
      ]
    },
    {
      "cell_type": "code",
      "source": [
        "numero=int(input('Escribe un numero: '))\n",
        "i=0\n",
        "for i in range(1,numero):\n",
        "  numero*=i\n",
        "print('factorial es: ',numero)"
      ],
      "metadata": {
        "colab": {
          "base_uri": "https://localhost:8080/"
        },
        "id": "LNCC8gJtQY2n",
        "outputId": "6bae103e-0d95-4bf8-ff44-45f0065c6515"
      },
      "execution_count": null,
      "outputs": [
        {
          "output_type": "stream",
          "name": "stdout",
          "text": [
            "Escribe un numero: 5\n",
            "factorial es:  120\n"
          ]
        }
      ]
    },
    {
      "cell_type": "code",
      "source": [
        "numero=int(input('Escribe un numero: '))\n",
        "primo=True\n",
        "for i in range(2,numero):\n",
        "  if numero%i==0:\n",
        "    primo = False\n",
        "    break\n",
        "if primo:\n",
        "  print('Es primo')\n",
        "else:\n",
        "  print('no es primo')"
      ],
      "metadata": {
        "colab": {
          "base_uri": "https://localhost:8080/"
        },
        "id": "xRWxz1yZUD5H",
        "outputId": "3988be29-1eaa-4f9f-953e-b3b6571ddbb5"
      },
      "execution_count": null,
      "outputs": [
        {
          "output_type": "stream",
          "name": "stdout",
          "text": [
            "Escribe un numero: 5\n",
            "Es primo\n"
          ]
        }
      ]
    },
    {
      "cell_type": "code",
      "source": [
        "print('Escribe un palabra y yo la repetiré, escribe \"salir\" para termniar el programa')\n",
        "\n",
        "while True:\n",
        "  palabra = input('Escribe una palabra ')\n",
        "  if palabra.lower()== 'salir':\n",
        "    print('Has salido')\n",
        "    break\n",
        "  else:\n",
        "    print('Dijiste: ', palabra)"
      ],
      "metadata": {
        "colab": {
          "base_uri": "https://localhost:8080/"
        },
        "id": "OwtcTqxXqvMC",
        "outputId": "7d047b0a-2670-4172-8706-b3f09bb99de2"
      },
      "execution_count": null,
      "outputs": [
        {
          "output_type": "stream",
          "name": "stdout",
          "text": [
            "Escribe un palabra y yo la repetiré, escribe \"salir\" para termniar el programa\n",
            "Escribe una palabra pablo\n",
            "Dijiste:  pablo\n",
            "Escribe una palabra es\n",
            "Dijiste:  es\n",
            "Escribe una palabra el\n",
            "Dijiste:  el\n",
            "Escribe una palabra mejor\n",
            "Dijiste:  mejor\n",
            "Escribe una palabra salir\n",
            "has salido\n"
          ]
        }
      ]
    },
    {
      "cell_type": "code",
      "source": [
        "\n",
        "\n",
        "while True:\n",
        "  palabra = input('Escribe la contraseña ')\n",
        "  if palabra.lower()== 'pablo':\n",
        "    print('Has entrado al programa')\n",
        "    break\n",
        "  else:\n",
        "    print('La contraseña no es valida')"
      ],
      "metadata": {
        "colab": {
          "base_uri": "https://localhost:8080/"
        },
        "id": "RQ6y9D_qs53h",
        "outputId": "2a40d3bf-d38c-4945-ffb0-f856551b23af"
      },
      "execution_count": null,
      "outputs": [
        {
          "output_type": "stream",
          "name": "stdout",
          "text": [
            "Escribe la contraseña salir\n",
            "La contraseña no es valida\n",
            "Escribe la contraseña pablo\n",
            "Has entrado al programa\n"
          ]
        }
      ]
    },
    {
      "cell_type": "code",
      "source": [
        "palabra=\"\"\n",
        "while True:\n",
        "  letra = input('Escribe la palabra: acumulando ')\n",
        "  if palabra=='acumuland'and letra=='o':\n",
        "    print('Esta completo: ',palabra+'o')\n",
        "    break\n",
        "  else:\n",
        "    palabra+=letra\n",
        "    print('sigue construyendo la palabra', palabra)"
      ],
      "metadata": {
        "colab": {
          "base_uri": "https://localhost:8080/"
        },
        "id": "F_jI2LcCwN2x",
        "outputId": "e92a00a6-ec48-4944-94a2-8f14ae7abccf"
      },
      "execution_count": null,
      "outputs": [
        {
          "output_type": "stream",
          "name": "stdout",
          "text": [
            "Escribe la palabra: acumulando a\n",
            "sigue construyendo la palabra a\n",
            "Escribe la palabra: acumulando c\n",
            "sigue construyendo la palabra ac\n",
            "Escribe la palabra: acumulando u\n",
            "sigue construyendo la palabra acu\n",
            "Escribe la palabra: acumulando m\n",
            "sigue construyendo la palabra acum\n",
            "Escribe la palabra: acumulando u\n",
            "sigue construyendo la palabra acumu\n",
            "Escribe la palabra: acumulando l\n",
            "sigue construyendo la palabra acumul\n",
            "Escribe la palabra: acumulando a\n",
            "sigue construyendo la palabra acumula\n",
            "Escribe la palabra: acumulando n\n",
            "sigue construyendo la palabra acumulan\n",
            "Escribe la palabra: acumulando d\n",
            "sigue construyendo la palabra acumuland\n",
            "Escribe la palabra: acumulando o\n",
            "Esta completo:  acumulando\n"
          ]
        }
      ]
    },
    {
      "cell_type": "code",
      "source": [
        "numero=0\n",
        "while True:\n",
        "  numero+=1\n",
        "  print(numero)\n",
        "  if numero==10:\n",
        "    print('Has llegado a 10')\n",
        "    break\n"
      ],
      "metadata": {
        "colab": {
          "base_uri": "https://localhost:8080/"
        },
        "id": "AeQGCvLT07mh",
        "outputId": "c398bfb4-4e22-4f78-f49b-900823f7e110"
      },
      "execution_count": null,
      "outputs": [
        {
          "output_type": "stream",
          "name": "stdout",
          "text": [
            "1\n",
            "2\n",
            "3\n",
            "4\n",
            "5\n",
            "6\n",
            "7\n",
            "8\n",
            "9\n",
            "10\n",
            "Has llegado a 10\n"
          ]
        }
      ]
    },
    {
      "cell_type": "code",
      "source": [
        "numero=0\n",
        "final=int(input('Introduce un numero:'))\n",
        "while numero <= final:\n",
        "  if numero % 2 == 0:\n",
        "    print(numero)\n",
        "  numero+= 1"
      ],
      "metadata": {
        "colab": {
          "base_uri": "https://localhost:8080/"
        },
        "id": "TDqp5BJk34Q4",
        "outputId": "bc8c6628-6d4e-4f95-d856-3f95aa44fd11"
      },
      "execution_count": null,
      "outputs": [
        {
          "output_type": "stream",
          "name": "stdout",
          "text": [
            "Introduce un numero:20\n",
            "0\n",
            "2\n",
            "4\n",
            "6\n",
            "8\n",
            "10\n",
            "12\n",
            "14\n",
            "16\n",
            "18\n",
            "20\n"
          ]
        }
      ]
    },
    {
      "cell_type": "code",
      "source": [
        "lista=[]\n",
        "i=0\n",
        "numero=int(input('ingrese el numero de datos que desea ingresar: '))\n",
        "while i < numero:\n",
        "  palabra=input('ingrese una palabra: ')\n",
        "  lista.append(palabra)\n",
        "  i+=1\n",
        "print(lista[::-1])"
      ],
      "metadata": {
        "colab": {
          "base_uri": "https://localhost:8080/"
        },
        "id": "02mXy_30Egdm",
        "outputId": "00bf8c51-abf8-4260-a6b6-25ed7bc8ee5c"
      },
      "execution_count": null,
      "outputs": [
        {
          "output_type": "stream",
          "name": "stdout",
          "text": [
            "ingrese el numero de datos que desea ingresar: 2\n",
            "ingrese una palabra: casa\n",
            "ingrese una palabra: pelota\n",
            "['pelota', 'casa']\n"
          ]
        }
      ]
    },
    {
      "cell_type": "code",
      "source": [
        "def mostrar_mensaje():\n",
        "  print('Hola mundo')\n",
        "\n",
        "mostrar_mensaje()"
      ],
      "metadata": {
        "colab": {
          "base_uri": "https://localhost:8080/"
        },
        "id": "6g-sRLZnmzro",
        "outputId": "0fffbc17-c709-4d86-b76f-2f754c624628"
      },
      "execution_count": null,
      "outputs": [
        {
          "output_type": "stream",
          "name": "stdout",
          "text": [
            "Hola mundo\n"
          ]
        }
      ]
    },
    {
      "cell_type": "code",
      "source": [
        "def di_hola(nombre):\n",
        "  print('Hola',nombre)\n",
        "\n",
        "di_hola('Pablo')\n",
        "di_hola('Pedro')"
      ],
      "metadata": {
        "colab": {
          "base_uri": "https://localhost:8080/"
        },
        "id": "n57xTZUOnkC4",
        "outputId": "0a8c4fe3-288e-44a1-b0cd-c2fad58809bf"
      },
      "execution_count": null,
      "outputs": [
        {
          "output_type": "stream",
          "name": "stdout",
          "text": [
            "Hola Pablo\n",
            "Hola Pedro\n"
          ]
        }
      ]
    },
    {
      "cell_type": "code",
      "source": [
        "def di_hola(nombre,apellido,edad):\n",
        "  print('Hola',nombre, apellido,'tienes',edad,'años')\n",
        "di_hola('Pablo','Acebron',32)"
      ],
      "metadata": {
        "colab": {
          "base_uri": "https://localhost:8080/"
        },
        "id": "CiHyAITdou4f",
        "outputId": "4ae115d7-ed1c-43d4-b431-18ea38616b48"
      },
      "execution_count": null,
      "outputs": [
        {
          "output_type": "stream",
          "name": "stdout",
          "text": [
            "Hola Pablo Acebron tienes 32 años\n"
          ]
        }
      ]
    },
    {
      "cell_type": "code",
      "source": [
        "def mi_funcion(*chicas):\n",
        "  print('La chica mas joven es', chicas[0])\n",
        "\n",
        "mi_funcion('Rosa','Ana','Petra')"
      ],
      "metadata": {
        "colab": {
          "base_uri": "https://localhost:8080/"
        },
        "id": "DhBrxOpYrID-",
        "outputId": "67a898b1-7756-4c6c-8bb3-2a08a42f65e6"
      },
      "execution_count": null,
      "outputs": [
        {
          "output_type": "stream",
          "name": "stdout",
          "text": [
            "La chica mas joven es Rosa\n"
          ]
        }
      ]
    },
    {
      "cell_type": "code",
      "source": [
        "def mostrar_doble(num):\n",
        "  print(num*2)\n",
        "mostrar_doble(2)"
      ],
      "metadata": {
        "colab": {
          "base_uri": "https://localhost:8080/"
        },
        "id": "tokiN5WqsBtH",
        "outputId": "774a8994-48d2-4123-9b84-4ad3a1ed7955"
      },
      "execution_count": null,
      "outputs": [
        {
          "output_type": "stream",
          "name": "stdout",
          "text": [
            "2\n"
          ]
        }
      ]
    },
    {
      "cell_type": "code",
      "source": [
        "def sumar(x, y):\n",
        "  print(x+y)\n",
        "sumar(4,7)"
      ],
      "metadata": {
        "id": "QBDFyxbftU3m"
      },
      "execution_count": null,
      "outputs": []
    },
    {
      "cell_type": "code",
      "source": [
        "def cube(num):\n",
        "  return num*num*num\n",
        "\n",
        "print(cube(2))"
      ],
      "metadata": {
        "colab": {
          "base_uri": "https://localhost:8080/"
        },
        "id": "9UhXYgRst-su",
        "outputId": "cffc2f28-f883-4440-9dd1-f2c707691abe"
      },
      "execution_count": null,
      "outputs": [
        {
          "output_type": "stream",
          "name": "stdout",
          "text": [
            "8\n"
          ]
        }
      ]
    },
    {
      "cell_type": "code",
      "source": [
        "def multiplicacion(x):\n",
        "  return 3*x\n",
        "print(multiplicacion(4))"
      ],
      "metadata": {
        "colab": {
          "base_uri": "https://localhost:8080/"
        },
        "id": "H2ZnJMglvJ-O",
        "outputId": "a5547e29-bfd6-4d64-e394-08f7d3d84bf2"
      },
      "execution_count": null,
      "outputs": [
        {
          "output_type": "stream",
          "name": "stdout",
          "text": [
            "12\n"
          ]
        }
      ]
    },
    {
      "cell_type": "code",
      "source": [
        "def funcion(paises):\n",
        "  for pais in paises:\n",
        "    print(pais)\n",
        "\n",
        "ciudades= ['Sevilla','Vigo','Valencia']\n",
        "\n",
        "funcion (ciudades)"
      ],
      "metadata": {
        "colab": {
          "base_uri": "https://localhost:8080/"
        },
        "id": "LtlM9JmQvl32",
        "outputId": "3cf3c6f9-5580-484d-ae52-c3c1241f96a7"
      },
      "execution_count": null,
      "outputs": [
        {
          "output_type": "stream",
          "name": "stdout",
          "text": [
            "Sevilla\n",
            "Vigo\n",
            "Valencia\n"
          ]
        }
      ]
    },
    {
      "cell_type": "code",
      "source": [
        "def max_num(num1,num2,num3):\n",
        "  if num1>=num2 and num1>=num3:\n",
        "    return num1\n",
        "  elif num2>=num1 and num2>=num3:\n",
        "    return num2\n",
        "  else:\n",
        "    return num3\n",
        "\n",
        "print(max_num(3,7,4))"
      ],
      "metadata": {
        "colab": {
          "base_uri": "https://localhost:8080/"
        },
        "id": "JT48IN8iw0S1",
        "outputId": "246ba75b-58c5-44f6-89ac-01b3cfb0bfb0"
      },
      "execution_count": null,
      "outputs": [
        {
          "output_type": "stream",
          "name": "stdout",
          "text": [
            "7\n"
          ]
        }
      ]
    },
    {
      "cell_type": "code",
      "source": [
        "def potencia(x, y):\n",
        "  print(x**y)\n",
        "potencia (3,2)"
      ],
      "metadata": {
        "colab": {
          "base_uri": "https://localhost:8080/"
        },
        "id": "3SuIE5rEyjm9",
        "outputId": "d4d5ba1f-5277-4554-b6a4-b7a1c78ba990"
      },
      "execution_count": null,
      "outputs": [
        {
          "output_type": "stream",
          "name": "stdout",
          "text": [
            "9\n"
          ]
        }
      ]
    },
    {
      "cell_type": "code",
      "source": [
        "def suma(a, b):\n",
        "  return a + b\n",
        "\n",
        "resultado = suma(3, 5)\n",
        "print(resultado)"
      ],
      "metadata": {
        "colab": {
          "base_uri": "https://localhost:8080/"
        },
        "id": "4U2LTVTTzR11",
        "outputId": "3aca78d0-8770-4251-e552-715f21667f95"
      },
      "execution_count": null,
      "outputs": [
        {
          "output_type": "stream",
          "name": "stdout",
          "text": [
            "8\n"
          ]
        }
      ]
    },
    {
      "cell_type": "code",
      "source": [
        "def mayor_que(num1,num2):\n",
        "  if num1<=num2:\n",
        "    return  num2\n",
        "  if num2>=num1:\n",
        "    return  num1\n",
        "print(mayor_que(3,4))"
      ],
      "metadata": {
        "colab": {
          "base_uri": "https://localhost:8080/"
        },
        "id": "8RGpFrHq0Vrs",
        "outputId": "40475cf2-ff79-48b5-dbbc-f38d91e4f131"
      },
      "execution_count": null,
      "outputs": [
        {
          "output_type": "stream",
          "name": "stdout",
          "text": [
            "4\n"
          ]
        }
      ]
    }
  ]
}