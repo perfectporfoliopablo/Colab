{
  "nbformat": 4,
  "nbformat_minor": 0,
  "metadata": {
    "colab": {
      "provenance": [],
      "include_colab_link": true
    },
    "kernelspec": {
      "name": "python3",
      "display_name": "Python 3"
    },
    "language_info": {
      "name": "python"
    }
  },
  "cells": [
    {
      "cell_type": "markdown",
      "metadata": {
        "id": "view-in-github",
        "colab_type": "text"
      },
      "source": [
        "<a href=\"https://colab.research.google.com/github/perfectporfoliopablo/Curso-Lenguaje-Orientado-a-objetos-y-bases-de-datos/blob/main/NUMPY_Tutorial.ipynb\" target=\"_parent\"><img src=\"https://colab.research.google.com/assets/colab-badge.svg\" alt=\"Open In Colab\"/></a>"
      ]
    },
    {
      "cell_type": "markdown",
      "source": [
        "# <u>**INTRODUCCIÓN A NUMPY**</u>"
      ],
      "metadata": {
        "id": "Wa_ufIgujlx2"
      }
    },
    {
      "cell_type": "markdown",
      "source": [
        "NumPy es una biblioteca de Python que proporciona soporte para crear *vectores* y *matrices* grandes multidimensionales (arrays), junto con una gran colección de funciones matemáticas de alto nivel para operar con ellas. Es una herramienta esencial para la computación científica y el análisis de datos en Python.\n",
        "\n",
        "Las principales características de NumPy son:\n",
        "\n",
        "* **Arreglos multidimensionales:** NumPy proporciona un tipo de datos de arreglo multidimensional llamado `ndarray`. Los `ndarray` son objetos eficientes y flexibles que pueden almacenar datos de cualquier tipo.\n",
        "* **Operaciones matemáticas:** NumPy proporciona una gran colección de funciones matemáticas de alto nivel para operar con arreglos. Estas funciones incluyen operaciones básicas como suma, resta, multiplicación y división, así como operaciones más complejas como álgebra lineal y estadística.\n",
        "* **Funciones de utilidad:** NumPy también proporciona una variedad de funciones de utilidad para manipular arreglos, como funciones para leer y escribir datos de archivos, funciones para generar arreglos aleatorios y funciones para realizar operaciones de búsqueda y clasificación.\n",
        "\n",
        "NumPy es una biblioteca muy popular y utilizada en una amplia gama de aplicaciones científicas y de ingeniería. Es una herramienta esencial para cualquier persona que quiera realizar cálculos numéricos o análisis de datos en Python.\n",
        "\n",
        "Aquí hay algunos ejemplos de cómo se puede usar NumPy:\n",
        "\n",
        "* **Para realizar cálculos matemáticos:** NumPy se puede usar para realizar cálculos matemáticos básicos, como suma, resta, multiplicación y división. También se puede usar para realizar operaciones más complejas, como álgebra lineal y estadística.\n",
        "* **Para analizar datos:** NumPy se puede usar para analizar datos de una variedad de fuentes, como archivos de texto, bases de datos y sensores. Se puede usar para realizar tareas como limpieza de datos, visualización de datos y aprendizaje automático.\n",
        "* **Para crear simulaciones:** NumPy se puede usar para crear simulaciones de sistemas físicos o biológicos. Se puede usar para modelar el comportamiento de sistemas complejos, como el clima o el mercado de valores.\n",
        "\n",
        "Mas info en [Numpy](https://numpy.org/doc/stable/reference/index.html#reference)."
      ],
      "metadata": {
        "id": "LhWFhKU05LRZ"
      }
    },
    {
      "cell_type": "code",
      "source": [
        "# Importamos la librería de Numpy\n",
        "\n",
        "import numpy as np\n",
        "\n"
      ],
      "metadata": {
        "id": "XVG6JEcZoQQw"
      },
      "execution_count": null,
      "outputs": []
    },
    {
      "cell_type": "markdown",
      "source": [
        "## <u>***1.- Arrays Básicos***</u>\n"
      ],
      "metadata": {
        "id": "Q8s3fqtbG8ms"
      }
    },
    {
      "cell_type": "markdown",
      "source": [
        "Para crear un array básico usaremos el método `array()` de Numpy.\n",
        "\n",
        "Más info en [Numpy](https://numpy.org/doc/stable/reference/generated/numpy.array.html#numpy.array)."
      ],
      "metadata": {
        "id": "CBILicTjnxzk"
      }
    },
    {
      "cell_type": "code",
      "source": [
        "a = np.array([1,2,3])\n",
        "\n",
        "a"
      ],
      "metadata": {
        "colab": {
          "base_uri": "https://localhost:8080/"
        },
        "id": "gWEWh_j5o1Cu",
        "outputId": "cc18c2b3-838c-4dc4-84c0-3c4687b56f3d"
      },
      "execution_count": null,
      "outputs": [
        {
          "output_type": "execute_result",
          "data": {
            "text/plain": [
              "array([1, 2, 3])"
            ]
          },
          "metadata": {},
          "execution_count": 2
        }
      ]
    },
    {
      "cell_type": "markdown",
      "source": [
        "Podemos crear un array relleno de ceros (0) usando el método `zeros()`.\n",
        "\n",
        "Más info en [Numpy](https://numpy.org/doc/stable/reference/generated/numpy.zeros.html#numpy.zeros)."
      ],
      "metadata": {
        "id": "t0xUYEQUoq4M"
      }
    },
    {
      "cell_type": "code",
      "source": [
        "a=np.zeros(3)\n",
        "\n",
        "a"
      ],
      "metadata": {
        "colab": {
          "base_uri": "https://localhost:8080/"
        },
        "id": "zrR424dvpGQM",
        "outputId": "6dcbe0df-d836-469d-861e-48e11777a558"
      },
      "execution_count": null,
      "outputs": [
        {
          "output_type": "execute_result",
          "data": {
            "text/plain": [
              "array([0., 0., 0.])"
            ]
          },
          "metadata": {},
          "execution_count": 4
        }
      ]
    },
    {
      "cell_type": "markdown",
      "source": [
        "Y también podemos crear un array relleno de unos (1), usando el método `ones()`.\n",
        "\n",
        "Más info en [Numpy](https://numpy.org/doc/stable/reference/generated/numpy.ones.html#numpy.ones)."
      ],
      "metadata": {
        "id": "aYp3UXAhpNRd"
      }
    },
    {
      "cell_type": "code",
      "source": [
        "a=np.ones(4)\n",
        "\n",
        "a"
      ],
      "metadata": {
        "colab": {
          "base_uri": "https://localhost:8080/"
        },
        "id": "yWmjcEgCpZQj",
        "outputId": "63b01169-9296-4f93-d42f-ca5713016915"
      },
      "execution_count": null,
      "outputs": [
        {
          "output_type": "execute_result",
          "data": {
            "text/plain": [
              "array([1., 1., 1., 1.])"
            ]
          },
          "metadata": {},
          "execution_count": 5
        }
      ]
    },
    {
      "cell_type": "markdown",
      "source": [
        "Otra posibilidad es crear un array con elementos aleatorios, usando el método `rand()` de la clase `Numpy.Random()` .\n",
        "\n",
        "Los parámetros que admite este método son tantos como dimensiones quieres que tenga el array.\n",
        "\n",
        "En el ejemplo del snippet siguiente `rand(4,3)`, definimos un array bidimensional; un array que contiene 4 arrays con 3 elemento en cada array.\n",
        "\n",
        "Más info en [Numpy](https://numpy.org/doc/stable/reference/random/generated/numpy.random.rand.html#numpy.random.rand)."
      ],
      "metadata": {
        "id": "VKDqHoJup6Ys"
      }
    },
    {
      "cell_type": "code",
      "source": [
        "a=np.random.rand(4,3)\n",
        "\n",
        "\n",
        "a"
      ],
      "metadata": {
        "colab": {
          "base_uri": "https://localhost:8080/"
        },
        "id": "mGmgNj7spmmn",
        "outputId": "458509e6-18a2-4ef5-c05e-7ec9f39e4fbb"
      },
      "execution_count": null,
      "outputs": [
        {
          "output_type": "execute_result",
          "data": {
            "text/plain": [
              "array([[0.49393868, 0.60086662, 0.02326413],\n",
              "       [0.85281676, 0.0859833 , 0.09121302],\n",
              "       [0.17951771, 0.85046559, 0.43762992],\n",
              "       [0.78633798, 0.80457485, 0.85185392]])"
            ]
          },
          "metadata": {},
          "execution_count": 8
        }
      ]
    },
    {
      "cell_type": "markdown",
      "source": [
        "La función `empty()` en **NumPy** se utiliza para crear un nuevo arreglo (array) multidimensional sin asignar ningún valor inicial a sus elementos.\n",
        "\n",
        "La función `empty()` reserva espacio en la memoria para el array, pero no inicializa los valores de sus elementos.\n",
        "\n",
        "Un ejemplo práctico de uso de empty sería cuando se necesita crear un array con dimensiones específicas, pero los valores iniciales no son relevantes en ese momento y se van a sobrescribir más adelante en el código.\n",
        "\n",
        "Más info en [Numpy](https://numpy.org/doc/stable/reference/generated/numpy.empty.html#numpy.empty)."
      ],
      "metadata": {
        "id": "mHSc8EiMyqcm"
      }
    },
    {
      "cell_type": "code",
      "source": [
        "aa=np.empty((3, 4))\n",
        "\n",
        "aa"
      ],
      "metadata": {
        "colab": {
          "base_uri": "https://localhost:8080/"
        },
        "id": "t9lio_fPGN5j",
        "outputId": "17c217c7-f424-4a28-ff6a-069a96dd8769"
      },
      "execution_count": null,
      "outputs": [
        {
          "output_type": "execute_result",
          "data": {
            "text/plain": [
              "array([[0.49393868, 0.60086662, 0.02326413, 0.85281676],\n",
              "       [0.0859833 , 0.09121302, 0.17951771, 0.85046559],\n",
              "       [0.43762992, 0.78633798, 0.80457485, 0.85185392]])"
            ]
          },
          "metadata": {},
          "execution_count": 10
        }
      ]
    },
    {
      "cell_type": "code",
      "source": [
        "# Otro ejemplo de empty().\n",
        "\n",
        "arr=np.empty(5)\n",
        "\n",
        "arr"
      ],
      "metadata": {
        "colab": {
          "base_uri": "https://localhost:8080/"
        },
        "id": "QngzPj7qrIZr",
        "outputId": "de8d7e16-d961-4ce5-8053-288c6ea80365"
      },
      "execution_count": null,
      "outputs": [
        {
          "output_type": "execute_result",
          "data": {
            "text/plain": [
              "array([5.01835890e-310, 0.00000000e+000, 2.37663529e-312, 2.56761491e-312,\n",
              "       2.37151510e-322])"
            ]
          },
          "metadata": {},
          "execution_count": 13
        }
      ]
    },
    {
      "cell_type": "markdown",
      "source": [
        "Podemos crear un array con una rango de elementos numéricos, utilizando el método `arange()` (funciona igual que la función `range()` de Python y admite los mismos parámetros).\n",
        "\n",
        "Más info en [Numpy](https://numpy.org/doc/stable/reference/generated/numpy.arange.html#numpy.arange)."
      ],
      "metadata": {
        "id": "usWYWxkn1luu"
      }
    },
    {
      "cell_type": "code",
      "source": [
        "a=np.arange(5)\n",
        "\n",
        "a"
      ],
      "metadata": {
        "colab": {
          "base_uri": "https://localhost:8080/"
        },
        "id": "ltAz0LIPp9-E",
        "outputId": "24050af0-063c-4ed1-a4bb-101eed027d55"
      },
      "execution_count": null,
      "outputs": [
        {
          "output_type": "execute_result",
          "data": {
            "text/plain": [
              "array([0, 1, 2, 3, 4])"
            ]
          },
          "metadata": {},
          "execution_count": 12
        }
      ]
    },
    {
      "cell_type": "markdown",
      "source": [
        "En este ejemplo, creamos un array con un rango de intervalos consecutivos:\n",
        "+   El primer parámetro (2), es el número de inicio del intervalo (incluido).\n",
        "+   El segundo parámetro (16), es el número de fin del intervalo (excluido)."
      ],
      "metadata": {
        "id": "i75v-rLB9LRu"
      }
    },
    {
      "cell_type": "code",
      "source": [
        "a=np.arange(2, 16)\n",
        "\n",
        "a"
      ],
      "metadata": {
        "colab": {
          "base_uri": "https://localhost:8080/"
        },
        "id": "vpXRQ5AtqFa3",
        "outputId": "4a023dbd-5ec0-48b9-c250-16a83c3286cc"
      },
      "execution_count": null,
      "outputs": [
        {
          "output_type": "execute_result",
          "data": {
            "text/plain": [
              "array([ 2,  3,  4,  5,  6,  7,  8,  9, 10, 11, 12, 13, 14, 15])"
            ]
          },
          "metadata": {},
          "execution_count": 14
        }
      ]
    },
    {
      "cell_type": "markdown",
      "source": [
        "En el siguiente snippet, le añadimos un salto de 6 añadiendo el tercer parámetro."
      ],
      "metadata": {
        "id": "VHoP8PFE9s32"
      }
    },
    {
      "cell_type": "code",
      "source": [
        "a=np.arange(0, 17, 6)\n",
        "\n",
        "a"
      ],
      "metadata": {
        "colab": {
          "base_uri": "https://localhost:8080/"
        },
        "id": "VKlL7L7SHOAr",
        "outputId": "b96c47dc-124a-41dc-a2e0-ee55fe79cdda"
      },
      "execution_count": null,
      "outputs": [
        {
          "output_type": "execute_result",
          "data": {
            "text/plain": [
              "array([ 0,  6, 12])"
            ]
          },
          "metadata": {},
          "execution_count": 15
        }
      ]
    },
    {
      "cell_type": "markdown",
      "source": [
        "El método `linspace()` devuelve números espaciados uniformemente sobre un intervalo especificado.\n",
        "\n",
        "+   El primer argumento es el número de inicio del intervalo (incluido).\n",
        "+   El segundo argumento es el número de fin del intervalo (incluido por defecto).\n",
        "+   El tercer argumento es el número de muestras (elementos) a generar."
      ],
      "metadata": {
        "id": "qBeioWlh-4AW"
      }
    },
    {
      "cell_type": "code",
      "source": [
        "a=np.linspace(0, 17, 8)\n",
        "\n",
        "a"
      ],
      "metadata": {
        "colab": {
          "base_uri": "https://localhost:8080/"
        },
        "id": "rOGSD3-Tqqmr",
        "outputId": "473ea612-a9e4-415e-b398-de540b83d9ed"
      },
      "execution_count": null,
      "outputs": [
        {
          "output_type": "execute_result",
          "data": {
            "text/plain": [
              "array([ 0.        ,  2.42857143,  4.85714286,  7.28571429,  9.71428571,\n",
              "       12.14285714, 14.57142857, 17.        ])"
            ]
          },
          "metadata": {},
          "execution_count": 12
        }
      ]
    },
    {
      "cell_type": "markdown",
      "source": [
        "Podemos especificar el tipo de dato que tendrá el intervalo con el parámetro `dtype=` (por defecto es `float` )."
      ],
      "metadata": {
        "id": "p7YurUGCCY7n"
      }
    },
    {
      "cell_type": "code",
      "source": [
        "a= np.linspace(0, 17, 25, dtype=int)\n",
        "\n",
        "a"
      ],
      "metadata": {
        "id": "g90Q3jQvrJ0M",
        "colab": {
          "base_uri": "https://localhost:8080/"
        },
        "outputId": "4541f4b9-e53d-4437-ab39-67c1e62bd0b7"
      },
      "execution_count": null,
      "outputs": [
        {
          "output_type": "execute_result",
          "data": {
            "text/plain": [
              "array([ 0,  0,  1,  2,  2,  3,  4,  4,  5,  6,  7,  7,  8,  9,  9, 10, 11,\n",
              "       12, 12, 13, 14, 14, 15, 16, 17])"
            ]
          },
          "metadata": {},
          "execution_count": 2
        }
      ]
    },
    {
      "cell_type": "code",
      "source": [
        "a=np.linspace(0, 17, 25).round(4)\n",
        "a"
      ],
      "metadata": {
        "colab": {
          "base_uri": "https://localhost:8080/"
        },
        "id": "aLw1WmZavuNf",
        "outputId": "46ccc518-1c14-490a-a43f-50921a08a815"
      },
      "execution_count": null,
      "outputs": [
        {
          "output_type": "execute_result",
          "data": {
            "text/plain": [
              "array([ 0.    ,  0.7083,  1.4167,  2.125 ,  2.8333,  3.5417,  4.25  ,\n",
              "        4.9583,  5.6667,  6.375 ,  7.0833,  7.7917,  8.5   ,  9.2083,\n",
              "        9.9167, 10.625 , 11.3333, 12.0417, 12.75  , 13.4583, 14.1667,\n",
              "       14.875 , 15.5833, 16.2917, 17.    ])"
            ]
          },
          "metadata": {},
          "execution_count": 4
        }
      ]
    },
    {
      "cell_type": "markdown",
      "source": [
        "## <u>***2.- Ordenar, Quitar y Añadir Elementos en un Array***</u>"
      ],
      "metadata": {
        "id": "fkTAeDarHKeN"
      }
    },
    {
      "cell_type": "markdown",
      "source": [
        "La funcion `sort()` devuelve una copia ordenada de un array que le pasemos como argumento.\n",
        "\n",
        "Más info en [Numpy](https://numpy.org/doc/stable/reference/generated/numpy.sort.html#numpy.sort)."
      ],
      "metadata": {
        "id": "RZGpaZOfDRiX"
      }
    },
    {
      "cell_type": "code",
      "source": [
        "a= np.array([2, 1, 5, 3, 7, 4, 6, 8])\n",
        "\n",
        "a.sort()\n",
        "a"
      ],
      "metadata": {
        "colab": {
          "base_uri": "https://localhost:8080/"
        },
        "id": "H1FiirRHsqMO",
        "outputId": "10736ab8-9b7f-414f-eaa3-85c86aa43bf8"
      },
      "execution_count": null,
      "outputs": [
        {
          "output_type": "execute_result",
          "data": {
            "text/plain": [
              "array([1, 2, 3, 4, 5, 6, 7, 8])"
            ]
          },
          "metadata": {},
          "execution_count": 2
        }
      ]
    },
    {
      "cell_type": "markdown",
      "source": [
        "También podemos ordenar un array en orden descendente usando la notación de índices (`[::-1]`) después del método `sort()`.\n",
        "\n",
        "Camo ya sabemos en esta notación inidicamos que queremos todo el rango completo del array, con un salto de -1, es decir, del último al primero.\n",
        "\n",
        "Por tanto, primero se ejecuta el método `sort()` y luego se devuelve el array invertido gracias a la notación de índices."
      ],
      "metadata": {
        "id": "h0shtFE1Ey2v"
      }
    },
    {
      "cell_type": "code",
      "source": [
        "a=np.array([2, 1, 5, 3, 7, 4, 6, 8])\n",
        "\n",
        "np.sort(a)[::-1]\n",
        "\n"
      ],
      "metadata": {
        "colab": {
          "base_uri": "https://localhost:8080/"
        },
        "id": "iHljgOB-JfEm",
        "outputId": "24f3c632-eef8-43b3-fc06-980a51bbb3e5"
      },
      "execution_count": null,
      "outputs": [
        {
          "output_type": "execute_result",
          "data": {
            "text/plain": [
              "array([8, 7, 6, 5, 4, 3, 2, 1])"
            ]
          },
          "metadata": {},
          "execution_count": 5
        }
      ]
    },
    {
      "cell_type": "markdown",
      "source": [
        "Si queremos ordenar una array multidimensional a lo largo del eje 0 (columnas), usaremos el parámetro `axis=0`.\n",
        "\n",
        "El parámetro `axis=` admite tres valores:\n",
        "+   `0` para ordenar los arrays multidimensionales por columnas.\n",
        "+   `1` para ordenar los arrays multidimensionales por filas, es decir, ordenando los elementos de cada array interno.\n",
        "+   `-1` (valor por defecto) para ordenar los arrays multidimensionales a lo largo del último eje. Suele tener el mismo efecto que ordenar por filas `(axis=1)`."
      ],
      "metadata": {
        "id": "QobGBQavHbdZ"
      }
    },
    {
      "cell_type": "code",
      "source": [
        "# Mostramos el array sin ordenar.\n",
        "\n",
        "a=np.array([[5, 2, 8], [1, 3, 6]])\n",
        "\n",
        "a"
      ],
      "metadata": {
        "colab": {
          "base_uri": "https://localhost:8080/"
        },
        "id": "6bYMXZTwKy8c",
        "outputId": "1d262d1b-8191-4e4a-c049-32ba8d09f9ec"
      },
      "execution_count": null,
      "outputs": [
        {
          "output_type": "execute_result",
          "data": {
            "text/plain": [
              "array([[5, 2, 8],\n",
              "       [1, 3, 6]])"
            ]
          },
          "metadata": {},
          "execution_count": 5
        }
      ]
    },
    {
      "cell_type": "code",
      "source": [
        "# Mostramos el array ordenado por columnas.\n",
        "\n",
        "np.sort(a, axis=0)"
      ],
      "metadata": {
        "colab": {
          "base_uri": "https://localhost:8080/"
        },
        "id": "oxSlw2hb_RED",
        "outputId": "0e55606e-7e4b-4c11-8d28-b2d56086397f"
      },
      "execution_count": null,
      "outputs": [
        {
          "output_type": "execute_result",
          "data": {
            "text/plain": [
              "array([[1, 2, 6],\n",
              "       [5, 3, 8]])"
            ]
          },
          "metadata": {},
          "execution_count": 6
        }
      ]
    },
    {
      "cell_type": "code",
      "source": [
        "# Mostramos el array ordenado por filas.\n",
        "\n",
        "a=np.array([[5, 2, 8], [1, 3, 6]])\n",
        "\n",
        "np.sort(a, axis=1)"
      ],
      "metadata": {
        "colab": {
          "base_uri": "https://localhost:8080/"
        },
        "id": "2je8flnZxRZj",
        "outputId": "8d91b645-10d8-444f-e28a-6b4902bb966f"
      },
      "execution_count": null,
      "outputs": [
        {
          "output_type": "execute_result",
          "data": {
            "text/plain": [
              "array([[2, 5, 8],\n",
              "       [1, 3, 6]])"
            ]
          },
          "metadata": {},
          "execution_count": 38
        }
      ]
    },
    {
      "cell_type": "code",
      "source": [
        "# Para ordenarlos en descendente por filas podemos hacerlo asi:\n",
        "\n",
        "a=np.array([[5, 2, 8], [1, 3, 6]])\n",
        "\n",
        "np.sort(a, axis=1)[:, :: -1]"
      ],
      "metadata": {
        "id": "3FC7bB3ByKcW",
        "colab": {
          "base_uri": "https://localhost:8080/"
        },
        "outputId": "afe2433f-553b-4358-903a-ad7dcf82a61a"
      },
      "execution_count": null,
      "outputs": [
        {
          "output_type": "execute_result",
          "data": {
            "text/plain": [
              "array([[8, 5, 2],\n",
              "       [6, 3, 1]])"
            ]
          },
          "metadata": {},
          "execution_count": 43
        }
      ]
    },
    {
      "cell_type": "markdown",
      "source": [
        "El método `concatenate()` nos permite concatenar arrays a lo largo de un eje.\n",
        "\n",
        "Más info en [Numpy](https://numpy.org/doc/stable/reference/generated/numpy.concatenate.html#numpy.concatenate)."
      ],
      "metadata": {
        "id": "lewxggx5LovQ"
      }
    },
    {
      "cell_type": "code",
      "source": [
        "a=np.array([1,2,3,4])\n",
        "b=np.array([5,6,7,8])\n",
        "\n",
        "c= np.concatenate((a,b))\n",
        "\n",
        "c"
      ],
      "metadata": {
        "colab": {
          "base_uri": "https://localhost:8080/"
        },
        "id": "TRVelYTktmCZ",
        "outputId": "d20b981c-039a-477c-fddc-5452e92e8c12"
      },
      "execution_count": null,
      "outputs": [
        {
          "output_type": "execute_result",
          "data": {
            "text/plain": [
              "array([1, 2, 3, 4, 5, 6, 7, 8])"
            ]
          },
          "metadata": {},
          "execution_count": 44
        }
      ]
    },
    {
      "cell_type": "markdown",
      "source": [
        "Otro ejemplo de concatenado pero ahora multidimensional, que podemos ver en el siguiente snippet, y usando el parámetro `axis=0` para unirlo por el eje de las columnas (eje por defecto):"
      ],
      "metadata": {
        "id": "TxtBoz8tNaE0"
      }
    },
    {
      "cell_type": "code",
      "source": [
        "x=np.array([[1, 2], [3, 4]])\n",
        "y=np.array([[5, 6], [7, 8]])\n",
        "\n",
        "z=np.concatenate((x,y), axis=0)\n",
        "\n",
        "z"
      ],
      "metadata": {
        "colab": {
          "base_uri": "https://localhost:8080/"
        },
        "id": "3BUgROd6uHGY",
        "outputId": "4a95dff1-4ec6-4752-fe34-ad875d7cb923"
      },
      "execution_count": null,
      "outputs": [
        {
          "output_type": "execute_result",
          "data": {
            "text/plain": [
              "array([[1, 2],\n",
              "       [3, 4],\n",
              "       [5, 6],\n",
              "       [7, 8]])"
            ]
          },
          "metadata": {},
          "execution_count": 2
        }
      ]
    },
    {
      "cell_type": "markdown",
      "source": [
        "Ahora, en vez de usar el `axis=0`, vamos a usar, esta vez, el `axis=1` (filas)."
      ],
      "metadata": {
        "id": "8I-d47CBPLmo"
      }
    },
    {
      "cell_type": "code",
      "source": [
        "x=np.array([[1, 2], [3, 4]])\n",
        "y=np.array([[5, 6], [7, 8]])\n",
        "\n",
        "z=np.concatenate((x,y), axis=1)\n",
        "\n",
        "z\n"
      ],
      "metadata": {
        "colab": {
          "base_uri": "https://localhost:8080/"
        },
        "id": "FNkIV8xXN5TU",
        "outputId": "d431cb9c-2328-48e7-836b-ad1c36c7810f"
      },
      "execution_count": null,
      "outputs": [
        {
          "output_type": "execute_result",
          "data": {
            "text/plain": [
              "array([[1, 2, 5, 6],\n",
              "       [3, 4, 7, 8]])"
            ]
          },
          "metadata": {},
          "execution_count": 3
        }
      ]
    },
    {
      "cell_type": "markdown",
      "source": [
        "Para eliminar elementos de un array usamos el metodo `delete()`.\n",
        "\n",
        "> El método `delete()` usa 3 argumentos:\n",
        "+   el array de entrada.\n",
        "+   los indices de los elementos a eliminar.\n",
        "+   el eje (opcional) a lo largo del cual se hace la eliminacion.\n",
        "\n",
        "Más info en [Numpy](https://numpy.org/doc/stable/reference/generated/numpy.delete.html#numpy.delete)."
      ],
      "metadata": {
        "id": "l34Kob5_QPoW"
      }
    },
    {
      "cell_type": "code",
      "source": [
        "a=np.array([1, 2, 3, 4, 5, 6, 7, 8, 9])\n",
        "\n",
        "np.delete(a, [1, 3, 4])  # Elimina el segundo y cuarto elemento del array"
      ],
      "metadata": {
        "colab": {
          "base_uri": "https://localhost:8080/"
        },
        "id": "l74VA4F0Oia3",
        "outputId": "058fd560-6313-4777-ba7c-73eb072f2014"
      },
      "execution_count": null,
      "outputs": [
        {
          "output_type": "execute_result",
          "data": {
            "text/plain": [
              "array([1, 3, 6, 7, 8, 9])"
            ]
          },
          "metadata": {},
          "execution_count": 4
        }
      ]
    },
    {
      "cell_type": "code",
      "source": [
        "np.delete(a, 1)"
      ],
      "metadata": {
        "colab": {
          "base_uri": "https://localhost:8080/"
        },
        "id": "dxdT4_WnXW2i",
        "outputId": "99ae035b-3000-486a-c891-bb7a68b67249"
      },
      "execution_count": null,
      "outputs": [
        {
          "output_type": "execute_result",
          "data": {
            "text/plain": [
              "array([1, 3, 4, 5])"
            ]
          },
          "metadata": {},
          "execution_count": 9
        }
      ]
    },
    {
      "cell_type": "markdown",
      "source": [
        "Si el array es multimensional debemos especificar el **eje** a lo largo del cual eliminamos los elementos."
      ],
      "metadata": {
        "id": "KlPJ3XKXREfE"
      }
    },
    {
      "cell_type": "code",
      "source": [
        "a=np.array([[1, 2, 3],\n",
        "           [4, 5, 6],\n",
        "           [7, 8, 9]])\n",
        "\n",
        "np.delete(a, 2, axis=1)  # Elimina la segunda columna del array"
      ],
      "metadata": {
        "colab": {
          "base_uri": "https://localhost:8080/"
        },
        "id": "5fi_OAJmPqpc",
        "outputId": "d3a73359-14ab-4117-bf5c-6510bb39298d"
      },
      "execution_count": null,
      "outputs": [
        {
          "output_type": "execute_result",
          "data": {
            "text/plain": [
              "array([[1, 2],\n",
              "       [4, 5],\n",
              "       [7, 8]])"
            ]
          },
          "metadata": {},
          "execution_count": 5
        }
      ]
    },
    {
      "cell_type": "code",
      "source": [
        "# Otro ejemplo:\n",
        "\n",
        "a=np.array([[1, 2, 3],\n",
        "           [4, 5, 6],\n",
        "           [7, 8, 9]])\n",
        "\n",
        "np.delete(a, 1, axis=0)  # Elimina la segunda fila del array."
      ],
      "metadata": {
        "colab": {
          "base_uri": "https://localhost:8080/"
        },
        "id": "xGt0ziX1QaSw",
        "outputId": "ee751b56-18fb-465b-d614-608e8f0a691d"
      },
      "execution_count": null,
      "outputs": [
        {
          "output_type": "execute_result",
          "data": {
            "text/plain": [
              "array([[1, 2, 3],\n",
              "       [7, 8, 9]])"
            ]
          },
          "metadata": {},
          "execution_count": 6
        }
      ]
    },
    {
      "cell_type": "markdown",
      "source": [
        "Para añadir elementos a un array podemos usar el metodo `append()`.\n",
        "\n",
        "> El método `append()` usa 3 argumentos:\n",
        "+   el array de entrada.\n",
        "+   los elementos a añadir.\n",
        "+   el eje a lo largo del cual se añaden.\n",
        "\n",
        "Más info en [Numpy](https://numpy.org/doc/stable/reference/generated/numpy.append.html#numpy.append)."
      ],
      "metadata": {
        "id": "QvXtqPG_RXWU"
      }
    },
    {
      "cell_type": "code",
      "source": [
        "a= np.array([1, 2, 3])\n",
        "\n",
        "np.append(a, [4, 5])\n",
        "\n"
      ],
      "metadata": {
        "colab": {
          "base_uri": "https://localhost:8080/"
        },
        "id": "GRwMqb1uRC_k",
        "outputId": "d769d26a-4e07-468f-ec94-c1d3811b787b"
      },
      "execution_count": null,
      "outputs": [
        {
          "output_type": "execute_result",
          "data": {
            "text/plain": [
              "array([1, 2, 3, 4, 5])"
            ]
          },
          "metadata": {},
          "execution_count": 7
        }
      ]
    },
    {
      "cell_type": "markdown",
      "source": [
        "De nuevo, para arrays multidimensionales debemos especificar el **eje** a lo largo del cual se añadirán los elementos nuevos."
      ],
      "metadata": {
        "id": "ykHXxHdWSUK6"
      }
    },
    {
      "cell_type": "code",
      "source": [
        "a= np.array([[1, 2, 3],\n",
        "             [4, 5, 6]])\n",
        "\n",
        "np.append(a, [[7, 8, 9]], axis=0)"
      ],
      "metadata": {
        "colab": {
          "base_uri": "https://localhost:8080/"
        },
        "id": "HTZ2JGHyRm_d",
        "outputId": "a7d07afa-8aee-46fd-f22c-d06da7386dbf"
      },
      "execution_count": null,
      "outputs": [
        {
          "output_type": "execute_result",
          "data": {
            "text/plain": [
              "array([[1, 2, 3],\n",
              "       [4, 5, 6],\n",
              "       [7, 8, 9]])"
            ]
          },
          "metadata": {},
          "execution_count": 8
        }
      ]
    },
    {
      "cell_type": "markdown",
      "source": [
        "Si deseamos añadir nuevos elementos a un array de Numpy en una posicion especifica debemos usar el metodo `insert()`.\n",
        "\n",
        "> El método `ìnsert()` necesita 3 argumentos:\n",
        "+   el array de entrada.\n",
        "+   el indice de la posicion de insercion.\n",
        "+   los elementos a añadir."
      ],
      "metadata": {
        "id": "sDqTKmhFSr3k"
      }
    },
    {
      "cell_type": "code",
      "source": [
        "a= np.array([1, 2, 3, 4, 5])\n",
        "\n",
        "np.insert(a, 4, 33) # Inserta el numero 33 en la posicion 4 del array."
      ],
      "metadata": {
        "colab": {
          "base_uri": "https://localhost:8080/"
        },
        "id": "e3VklCv5S-_6",
        "outputId": "ac9f4e11-5104-4b6d-f160-011535ecce16"
      },
      "execution_count": null,
      "outputs": [
        {
          "output_type": "execute_result",
          "data": {
            "text/plain": [
              "array([ 1,  2,  3,  4, 33,  5])"
            ]
          },
          "metadata": {},
          "execution_count": 10
        }
      ]
    },
    {
      "cell_type": "code",
      "source": [
        "np.insert(a, -1, 33)"
      ],
      "metadata": {
        "colab": {
          "base_uri": "https://localhost:8080/"
        },
        "id": "aIEwcgyCakZ8",
        "outputId": "4e49f611-97b4-4977-b607-117c58d55686"
      },
      "execution_count": null,
      "outputs": [
        {
          "output_type": "execute_result",
          "data": {
            "text/plain": [
              "array([ 1,  2,  3,  4, 33,  5])"
            ]
          },
          "metadata": {},
          "execution_count": 11
        }
      ]
    },
    {
      "cell_type": "markdown",
      "source": [
        "También podemos insertar elementos nuevos en arrays multidimensionales de forma parecida a los ejercicios anteriores."
      ],
      "metadata": {
        "id": "NiLzklSaUa9O"
      }
    },
    {
      "cell_type": "code",
      "source": [
        "a= np.array([[1, 2, 3],\n",
        "             [4, 5, 6]])\n",
        "\n",
        "np.insert(a, 1, [0, 0], axis=1)  # Esta vez no me pide doble corchete como en el\n",
        "                                 # ejercicio de antes, porque vamos a incluir\n",
        "                                 # los elementos en los arrays ya existentes.\n",
        "\n"
      ],
      "metadata": {
        "colab": {
          "base_uri": "https://localhost:8080/"
        },
        "id": "Wwr40KLYT1td",
        "outputId": "6a72c2ff-64af-43aa-d773-cf92e5d9ecaa"
      },
      "execution_count": null,
      "outputs": [
        {
          "output_type": "execute_result",
          "data": {
            "text/plain": [
              "array([[1, 0, 2, 3],\n",
              "       [4, 0, 5, 6]])"
            ]
          },
          "metadata": {},
          "execution_count": 11
        }
      ]
    },
    {
      "cell_type": "markdown",
      "source": [
        "## <u>***3.- Como Saber la Forma, Tamaño y Dimensión de un Array***</u>"
      ],
      "metadata": {
        "id": "4gMSVfwPHUFN"
      }
    },
    {
      "cell_type": "markdown",
      "source": [
        "En esta sección vamos a usar tres propiedades de la clase `ndarray`, que como ya comentamos es una clase que maneja arrays multidimensionales:\n",
        "+   La propiedad `.ndim`, que nos devuelve el número de dimensiones de un array. Más info en [Numpy](https://numpy.org/doc/stable/reference/generated/numpy.ndarray.ndim.html#).\n",
        "+   La propiedad `.size`, que nos devuelve el número de elementos de un array. Más info en [Numpy](https://numpy.org/doc/stable/reference/generated/numpy.ndarray.size.html).\n",
        "+   La propiedad `.shape`, nos devuelve una tupla con las dimensiones del array. Más info en [Numpy](https://numpy.org/doc/stable/reference/generated/numpy.ndarray.shape.html)."
      ],
      "metadata": {
        "id": "x248EpW9VRD9"
      }
    },
    {
      "cell_type": "code",
      "source": [
        "# Para saber las dimensiones de un array( numero de ejes o dimensiones\n",
        "# que tiene el array)\n",
        "\n",
        "a=np.array([1, 2, 3])\n",
        "\n",
        "a"
      ],
      "metadata": {
        "colab": {
          "base_uri": "https://localhost:8080/"
        },
        "id": "2T4BQgLtWxNx",
        "outputId": "bb9eb658-e532-4e7a-a955-410afbb49c51"
      },
      "execution_count": null,
      "outputs": [
        {
          "output_type": "execute_result",
          "data": {
            "text/plain": [
              "array([1, 2, 3])"
            ]
          },
          "metadata": {},
          "execution_count": 13
        }
      ]
    },
    {
      "cell_type": "code",
      "source": [
        "a.ndim"
      ],
      "metadata": {
        "colab": {
          "base_uri": "https://localhost:8080/"
        },
        "id": "baMaiSNJXyJG",
        "outputId": "f217ed43-ef05-4e25-dd08-bcdb8fc580bd"
      },
      "execution_count": null,
      "outputs": [
        {
          "output_type": "execute_result",
          "data": {
            "text/plain": [
              "1"
            ]
          },
          "metadata": {},
          "execution_count": 14
        }
      ]
    },
    {
      "cell_type": "code",
      "source": [
        "# Otro ejemplo:\n",
        "\n",
        "a=np.array([[1, 2, 3], [4, 5, 6]])\n",
        "\n",
        "a"
      ],
      "metadata": {
        "colab": {
          "base_uri": "https://localhost:8080/"
        },
        "id": "R1IpI-HeXFPM",
        "outputId": "d884bc99-b2e1-4ccb-e78f-cb0891b8aa90"
      },
      "execution_count": null,
      "outputs": [
        {
          "output_type": "execute_result",
          "data": {
            "text/plain": [
              "array([[1, 2, 3],\n",
              "       [4, 5, 6]])"
            ]
          },
          "metadata": {},
          "execution_count": 2
        }
      ]
    },
    {
      "cell_type": "code",
      "source": [
        "a.ndim"
      ],
      "metadata": {
        "colab": {
          "base_uri": "https://localhost:8080/"
        },
        "id": "gopEvpz1X6tl",
        "outputId": "f3331225-314b-4fb3-d5ee-d2ee25e49639"
      },
      "execution_count": null,
      "outputs": [
        {
          "output_type": "execute_result",
          "data": {
            "text/plain": [
              "2"
            ]
          },
          "metadata": {},
          "execution_count": 3
        }
      ]
    },
    {
      "cell_type": "code",
      "source": [
        "a.size"
      ],
      "metadata": {
        "colab": {
          "base_uri": "https://localhost:8080/"
        },
        "id": "qRANoSD7_Kp5",
        "outputId": "902b856f-6d74-4db5-f113-d017d0d4983e"
      },
      "execution_count": null,
      "outputs": [
        {
          "output_type": "execute_result",
          "data": {
            "text/plain": [
              "6"
            ]
          },
          "metadata": {},
          "execution_count": 5
        }
      ]
    },
    {
      "cell_type": "code",
      "source": [
        "a.shape"
      ],
      "metadata": {
        "colab": {
          "base_uri": "https://localhost:8080/"
        },
        "id": "xTc6UDVE_glA",
        "outputId": "d796cd63-085a-4324-9822-d65a9ef106b9"
      },
      "execution_count": null,
      "outputs": [
        {
          "output_type": "execute_result",
          "data": {
            "text/plain": [
              "(2, 3)"
            ]
          },
          "metadata": {},
          "execution_count": 6
        }
      ]
    },
    {
      "cell_type": "code",
      "source": [
        "# Otro ejemplo más:\n",
        "\n",
        "a=np.array([[[0, 1, 2, 3],\n",
        "             [4, 5, 6, 7]],\n",
        "\n",
        "           [[0, 1, 2, 3],\n",
        "            [4, 5, 6, 7]],\n",
        "\n",
        "           [[0, 1, 2, 3],\n",
        "            [4, 5, 6, 7]]])\n",
        "\n",
        "a"
      ],
      "metadata": {
        "colab": {
          "base_uri": "https://localhost:8080/"
        },
        "id": "yMeHP5zpvM9a",
        "outputId": "d8ffde2d-b84b-42e1-89a5-eba3a4742873"
      },
      "execution_count": null,
      "outputs": [
        {
          "output_type": "execute_result",
          "data": {
            "text/plain": [
              "array([[[0, 1, 2, 3],\n",
              "        [4, 5, 6, 7]],\n",
              "\n",
              "       [[0, 1, 2, 3],\n",
              "        [4, 5, 6, 7]],\n",
              "\n",
              "       [[0, 1, 2, 3],\n",
              "        [4, 5, 6, 7]]])"
            ]
          },
          "metadata": {},
          "execution_count": 7
        }
      ]
    },
    {
      "cell_type": "code",
      "source": [
        "a.ndim"
      ],
      "metadata": {
        "colab": {
          "base_uri": "https://localhost:8080/"
        },
        "id": "APfpS2epYCQG",
        "outputId": "5a9730ab-aa9c-4fc7-d507-b9d1cfb2ddae"
      },
      "execution_count": null,
      "outputs": [
        {
          "output_type": "execute_result",
          "data": {
            "text/plain": [
              "3"
            ]
          },
          "metadata": {},
          "execution_count": 8
        }
      ]
    },
    {
      "cell_type": "code",
      "source": [
        "a.size"
      ],
      "metadata": {
        "colab": {
          "base_uri": "https://localhost:8080/"
        },
        "id": "u52zHjKvJMoB",
        "outputId": "ad1fc4ae-2daf-46a9-f26a-b9ea71129ab4"
      },
      "execution_count": null,
      "outputs": [
        {
          "output_type": "execute_result",
          "data": {
            "text/plain": [
              "24"
            ]
          },
          "metadata": {},
          "execution_count": 9
        }
      ]
    },
    {
      "cell_type": "code",
      "source": [
        "a.shape"
      ],
      "metadata": {
        "colab": {
          "base_uri": "https://localhost:8080/"
        },
        "id": "VMGb63NMJVjg",
        "outputId": "0dd0399f-572d-47a8-c009-d0fb4e9e46e0"
      },
      "execution_count": null,
      "outputs": [
        {
          "output_type": "execute_result",
          "data": {
            "text/plain": [
              "(3, 2, 4)"
            ]
          },
          "metadata": {},
          "execution_count": 10
        }
      ]
    },
    {
      "cell_type": "markdown",
      "source": [
        "Para saber el número total de elementos de un array usamos la propiedad `size`."
      ],
      "metadata": {
        "id": "E1ezJAVFZUnY"
      }
    },
    {
      "cell_type": "code",
      "source": [
        "a= np.array([1, 2, 3, 4, 5, 6])\n",
        "a.size"
      ],
      "metadata": {
        "colab": {
          "base_uri": "https://localhost:8080/"
        },
        "id": "h-YCEq1kwE3R",
        "outputId": "b09fe2c2-7606-4d01-fe18-dcc9f7c02297"
      },
      "execution_count": null,
      "outputs": [
        {
          "output_type": "execute_result",
          "data": {
            "text/plain": [
              "6"
            ]
          },
          "metadata": {},
          "execution_count": 20
        }
      ]
    },
    {
      "cell_type": "markdown",
      "source": [
        "La diferencia entre las propiedades `ndim` y `shape` es que `ndim` muestra un entero que representa la cantidad de dimensiones del array y `shape` devuelve una tupla que especifica la longitud de cada dimension del array."
      ],
      "metadata": {
        "id": "6VhZDfM5aHQo"
      }
    },
    {
      "cell_type": "code",
      "source": [
        "# Un ejemplo con la propiedad shape.\n",
        "\n",
        "a= np.array([1, 2, 3, 4, 5])\n",
        "\n",
        "a"
      ],
      "metadata": {
        "colab": {
          "base_uri": "https://localhost:8080/"
        },
        "id": "omh9ZXY3wKd1",
        "outputId": "268f3a5f-ca62-4089-a296-5a89a4923fbe"
      },
      "execution_count": null,
      "outputs": [
        {
          "output_type": "execute_result",
          "data": {
            "text/plain": [
              "array([1, 2, 3, 4, 5])"
            ]
          },
          "metadata": {},
          "execution_count": 21
        }
      ]
    },
    {
      "cell_type": "code",
      "source": [
        "a.shape"
      ],
      "metadata": {
        "id": "Ta6e7fp86-kJ",
        "colab": {
          "base_uri": "https://localhost:8080/"
        },
        "outputId": "900f00a8-ea45-4292-9c35-a4db1c6450c2"
      },
      "execution_count": null,
      "outputs": [
        {
          "output_type": "execute_result",
          "data": {
            "text/plain": [
              "(5,)"
            ]
          },
          "metadata": {},
          "execution_count": 22
        }
      ]
    },
    {
      "cell_type": "code",
      "source": [
        "# Otro ejemplo con la propiedad shape.\n",
        "\n",
        "a=np.array([[1, 2, 3, 3], [4, 5, 6, 6]])\n",
        "\n",
        "a"
      ],
      "metadata": {
        "id": "xAT_cEpvYS2v",
        "colab": {
          "base_uri": "https://localhost:8080/"
        },
        "outputId": "fb46b5ea-4ba7-4932-8bfd-953c4154ddd8"
      },
      "execution_count": null,
      "outputs": [
        {
          "output_type": "execute_result",
          "data": {
            "text/plain": [
              "array([[1, 2, 3, 3],\n",
              "       [4, 5, 6, 6]])"
            ]
          },
          "metadata": {},
          "execution_count": 23
        }
      ]
    },
    {
      "cell_type": "code",
      "source": [
        "a.shape"
      ],
      "metadata": {
        "id": "ykRCMx0B7EqM",
        "colab": {
          "base_uri": "https://localhost:8080/"
        },
        "outputId": "bd605bcb-2afd-443d-82a2-19245f9108cb"
      },
      "execution_count": null,
      "outputs": [
        {
          "output_type": "execute_result",
          "data": {
            "text/plain": [
              "(2, 4)"
            ]
          },
          "metadata": {},
          "execution_count": 24
        }
      ]
    },
    {
      "cell_type": "code",
      "source": [
        "# Y otro ejemplo más con la propiedad shape.\n",
        "\n",
        "a=np.array([[[1, 2, 3, 3], [4, 5, 6, 6]],[[7, 8, 9, 9], [10, 11, 12, 12]]])\n",
        "\n",
        "a"
      ],
      "metadata": {
        "id": "_iHMbZdmYdxY",
        "colab": {
          "base_uri": "https://localhost:8080/"
        },
        "outputId": "92b748a2-dcaa-422d-c487-a975b534543c"
      },
      "execution_count": null,
      "outputs": [
        {
          "output_type": "execute_result",
          "data": {
            "text/plain": [
              "array([[[ 1,  2,  3,  3],\n",
              "        [ 4,  5,  6,  6]],\n",
              "\n",
              "       [[ 7,  8,  9,  9],\n",
              "        [10, 11, 12, 12]]])"
            ]
          },
          "metadata": {},
          "execution_count": 25
        }
      ]
    },
    {
      "cell_type": "code",
      "source": [
        "a.shape"
      ],
      "metadata": {
        "id": "i9-uDWeQ8N-N",
        "colab": {
          "base_uri": "https://localhost:8080/"
        },
        "outputId": "d4ffd361-a651-4d71-fd62-ca11ad673855"
      },
      "execution_count": null,
      "outputs": [
        {
          "output_type": "execute_result",
          "data": {
            "text/plain": [
              "(2, 2, 4)"
            ]
          },
          "metadata": {},
          "execution_count": 26
        }
      ]
    },
    {
      "cell_type": "markdown",
      "source": [
        "## <u>***4.- Remodelar (Reshape) un Array***</u>"
      ],
      "metadata": {
        "id": "e3G1DljdHk2n"
      }
    },
    {
      "cell_type": "markdown",
      "source": [
        "Usando el método `arange()`, que vimos en la sección 1, creamos un nuevo array con 9 elementos (`0` a `8`), en el siguiente snippet:"
      ],
      "metadata": {
        "id": "SAi-2cS6e1Hd"
      }
    },
    {
      "cell_type": "code",
      "source": [
        "a = np.arange(9)\n",
        "\n",
        "a"
      ],
      "metadata": {
        "id": "rbZR7PGZFop-",
        "colab": {
          "base_uri": "https://localhost:8080/"
        },
        "outputId": "4d4b139c-97be-4022-c2de-ce6ef7325165"
      },
      "execution_count": null,
      "outputs": [
        {
          "output_type": "execute_result",
          "data": {
            "text/plain": [
              "array([0, 1, 2, 3, 4, 5, 6, 7, 8])"
            ]
          },
          "metadata": {},
          "execution_count": 28
        }
      ]
    },
    {
      "cell_type": "markdown",
      "source": [
        "Y ahora remodelamos (reshape) el array anterior con el método `reshape()`.\n",
        "\n",
        "> El método `reshape()` da una nueva forma a una matriz sin cambiar sus datos.\n",
        "\n",
        "Más info en [Numpy](https://numpy.org/doc/stable/reference/generated/numpy.reshape.html#numpy.reshape)."
      ],
      "metadata": {
        "id": "DHE2Lg1ofV7E"
      }
    },
    {
      "cell_type": "code",
      "source": [
        "b = a.reshape(3,3)\n",
        "\n",
        "b"
      ],
      "metadata": {
        "colab": {
          "base_uri": "https://localhost:8080/"
        },
        "id": "zUuznyESb4WR",
        "outputId": "44681147-1c33-473c-d717-715093bcbf48"
      },
      "execution_count": null,
      "outputs": [
        {
          "output_type": "execute_result",
          "data": {
            "text/plain": [
              "array([[0, 1, 2],\n",
              "       [3, 4, 5],\n",
              "       [6, 7, 8]])"
            ]
          },
          "metadata": {},
          "execution_count": 29
        }
      ]
    },
    {
      "cell_type": "markdown",
      "source": [
        "El mètodo `reshape()` se usa para cambiar la forma de un array multidimensional sin modificar sus datos subyacentes. La nueva forma debe ser compatible con la cantidad total de elementos del array original.\n",
        "\n",
        "*   También sirve para preparar datos para el análisis:\n",
        "    -   En el procesamiento de datos, es común tener que reformatear los datos para que se ajusten a un determinado modelo o algoritmo.\n",
        "\n",
        "*   Y también se usa para trabajar con imágenes:\n",
        "    -   En el caso de imágenes, es común representarlas como arreglos multidimensionales. Por ejemplo, una imagen en escala de grises puede ser representada como una matriz 2D, mientras que una imagen en color puede ser representada como una matriz 3D."
      ],
      "metadata": {
        "id": "WkwzR1uqhMyj"
      }
    },
    {
      "cell_type": "code",
      "source": [
        "# Creamos un array unidimensional de 12 elementos.\n",
        "\n",
        "a= np.arange(12)\n",
        "\n",
        "a\n"
      ],
      "metadata": {
        "id": "SNAmC3GRF7qg",
        "colab": {
          "base_uri": "https://localhost:8080/"
        },
        "outputId": "f3f4b9e7-755f-4c63-bd1f-c8862559e367"
      },
      "execution_count": null,
      "outputs": [
        {
          "output_type": "execute_result",
          "data": {
            "text/plain": [
              "array([ 0,  1,  2,  3,  4,  5,  6,  7,  8,  9, 10, 11])"
            ]
          },
          "metadata": {},
          "execution_count": 11
        }
      ]
    },
    {
      "cell_type": "code",
      "source": [
        "a.shape"
      ],
      "metadata": {
        "colab": {
          "base_uri": "https://localhost:8080/"
        },
        "id": "2oajWOWpM3yZ",
        "outputId": "96881f3a-77f0-45b5-fb3d-462893a431c8"
      },
      "execution_count": null,
      "outputs": [
        {
          "output_type": "execute_result",
          "data": {
            "text/plain": [
              "(12,)"
            ]
          },
          "metadata": {},
          "execution_count": 12
        }
      ]
    },
    {
      "cell_type": "code",
      "source": [
        "# En este snippet cambiamos la matriz a otra 3x4 (o también podría ser de 2x6).\n",
        "b= a.reshape(3,4)\n",
        "\n",
        "b"
      ],
      "metadata": {
        "id": "Lab4pHVUch8f",
        "colab": {
          "base_uri": "https://localhost:8080/"
        },
        "outputId": "0f745691-1d81-4e95-d0c0-90553d7958e2"
      },
      "execution_count": null,
      "outputs": [
        {
          "output_type": "execute_result",
          "data": {
            "text/plain": [
              "array([[ 0,  1,  2,  3],\n",
              "       [ 4,  5,  6,  7],\n",
              "       [ 8,  9, 10, 11]])"
            ]
          },
          "metadata": {},
          "execution_count": 31
        }
      ]
    },
    {
      "cell_type": "markdown",
      "source": [
        "Un array de tres dimensiones sería:\n",
        "\n",
        "`3D = np.array([[[1,2,3],[4,5,6]],[[7,8,9],[10,11,12]],[[13,14,15],[16,17,18]]])`"
      ],
      "metadata": {
        "id": "g4GmTYxbuCpp"
      }
    },
    {
      "cell_type": "code",
      "source": [
        "# En este snippet vamos a crear un array de 72 elementos, que en el siguiente\n",
        "# snippet remodelaremos a uno de 4 dimensiones.\n",
        "\n",
        "d = np.arange(72)\n",
        "\n",
        "d"
      ],
      "metadata": {
        "id": "CjCbK5uuEKut",
        "colab": {
          "base_uri": "https://localhost:8080/"
        },
        "outputId": "3f31449b-ba7a-4f45-a930-04fe4824a620"
      },
      "execution_count": null,
      "outputs": [
        {
          "output_type": "execute_result",
          "data": {
            "text/plain": [
              "array([ 0,  1,  2,  3,  4,  5,  6,  7,  8,  9, 10, 11, 12, 13, 14, 15, 16,\n",
              "       17, 18, 19, 20, 21, 22, 23, 24, 25, 26, 27, 28, 29, 30, 31, 32, 33,\n",
              "       34, 35, 36, 37, 38, 39, 40, 41, 42, 43, 44, 45, 46, 47, 48, 49, 50,\n",
              "       51, 52, 53, 54, 55, 56, 57, 58, 59, 60, 61, 62, 63, 64, 65, 66, 67,\n",
              "       68, 69, 70, 71])"
            ]
          },
          "metadata": {},
          "execution_count": 32
        }
      ]
    },
    {
      "cell_type": "markdown",
      "source": [
        "El siguiente código remodela el array anterior con 4 arrays principales, que contienen 3 subarrays y cada uno de éstos contiene 2 subarrays con 3 elementos en cada array."
      ],
      "metadata": {
        "id": "a442QiAhu5SB"
      }
    },
    {
      "cell_type": "code",
      "source": [
        "c = np.reshape(d, (4,3,2,3))\n",
        "\n",
        "c"
      ],
      "metadata": {
        "id": "0u2eG_qNdDtE",
        "colab": {
          "base_uri": "https://localhost:8080/"
        },
        "outputId": "daa6b61f-2cd7-4511-e990-f7c6ec772d26"
      },
      "execution_count": null,
      "outputs": [
        {
          "output_type": "execute_result",
          "data": {
            "text/plain": [
              "array([[[[ 0,  1,  2],\n",
              "         [ 3,  4,  5]],\n",
              "\n",
              "        [[ 6,  7,  8],\n",
              "         [ 9, 10, 11]],\n",
              "\n",
              "        [[12, 13, 14],\n",
              "         [15, 16, 17]]],\n",
              "\n",
              "\n",
              "       [[[18, 19, 20],\n",
              "         [21, 22, 23]],\n",
              "\n",
              "        [[24, 25, 26],\n",
              "         [27, 28, 29]],\n",
              "\n",
              "        [[30, 31, 32],\n",
              "         [33, 34, 35]]],\n",
              "\n",
              "\n",
              "       [[[36, 37, 38],\n",
              "         [39, 40, 41]],\n",
              "\n",
              "        [[42, 43, 44],\n",
              "         [45, 46, 47]],\n",
              "\n",
              "        [[48, 49, 50],\n",
              "         [51, 52, 53]]],\n",
              "\n",
              "\n",
              "       [[[54, 55, 56],\n",
              "         [57, 58, 59]],\n",
              "\n",
              "        [[60, 61, 62],\n",
              "         [63, 64, 65]],\n",
              "\n",
              "        [[66, 67, 68],\n",
              "         [69, 70, 71]]]])"
            ]
          },
          "metadata": {},
          "execution_count": 33
        }
      ]
    },
    {
      "cell_type": "markdown",
      "source": [
        "\n",
        "\n",
        "---\n",
        "\n",
        "\n",
        "A continuación, vamos a ver cómo modificar las dimensiones de un array, utilizando una constante especial de **Numpy** llamada `newaxis`.\n",
        "\n",
        "> La constante `newaxis` se usa para agregar una nueva dimensión a un array. Se puede usar de varias maneras, pero su uso más común es para permitir que **NumPy** realice operaciones de difusión, es decir, una operación que se realiza en todos los elementos de un array.\n",
        "\n",
        "Más info en [Numpy](https://numpy.org/doc/stable/reference/constants.html#numpy.newaxis)."
      ],
      "metadata": {
        "id": "QqE2fuomwPrZ"
      }
    },
    {
      "cell_type": "code",
      "source": [
        "# En este ejemplo vamos a convertir un array de 1D en otro de 2D.\n",
        "\n",
        "a=np.array([1, 2, 3, 4, 5, 6])\n",
        "\n",
        "a.shape"
      ],
      "metadata": {
        "id": "vtybhye4Gbrc",
        "colab": {
          "base_uri": "https://localhost:8080/"
        },
        "outputId": "22759b2a-ec7f-4f01-fdfd-ac9f89046a74"
      },
      "execution_count": null,
      "outputs": [
        {
          "output_type": "execute_result",
          "data": {
            "text/plain": [
              "(6,)"
            ]
          },
          "metadata": {},
          "execution_count": 34
        }
      ]
    },
    {
      "cell_type": "code",
      "source": [
        "# Usamos newaxis para añadir un nuevo eje (axis) al principio del nuevo array.\n",
        "\n",
        "a2=a[np.newaxis, :]\n",
        "\n",
        "print(a2.shape)\n",
        "\n",
        "print(a2)"
      ],
      "metadata": {
        "id": "-skUKfVDGupG",
        "colab": {
          "base_uri": "https://localhost:8080/"
        },
        "outputId": "f72ceafd-20f4-4cb1-c13e-5d3f55c37442"
      },
      "execution_count": null,
      "outputs": [
        {
          "output_type": "stream",
          "name": "stdout",
          "text": [
            "(1, 6)\n",
            "[[1 2 3 4 5 6]]\n"
          ]
        }
      ]
    },
    {
      "cell_type": "markdown",
      "source": [
        "También puedes expandir la forma de un array insertando un nuevo eje (axis) en una posicion especifica, por ejemplo, en la posicion 1, usando el método `expand_dims()`.\n",
        "\n",
        "> Este método expande la forma de un array y admite dos parámetros:\n",
        "+   El array de entrada o array a expandir.\n",
        "+   Posición donde se coloca el nuevo eje, usando el parámetro `axis=`.\n",
        "\n",
        "Más info en [Numpy](https://numpy.org/doc/stable/reference/generated/numpy.expand_dims.html#numpy-expand-dims)."
      ],
      "metadata": {
        "id": "I774qe6szCSo"
      }
    },
    {
      "cell_type": "code",
      "source": [
        "# Creamos el nuevo array a expandir.\n",
        "\n",
        "a=np.array([1, 2, 3, 4, 5, 6])\n",
        "\n",
        "a.shape"
      ],
      "metadata": {
        "id": "kpbD4J2TI95I",
        "colab": {
          "base_uri": "https://localhost:8080/"
        },
        "outputId": "7264ed30-b124-45d6-d9cb-4d8418a22e87"
      },
      "execution_count": null,
      "outputs": [
        {
          "output_type": "execute_result",
          "data": {
            "text/plain": [
              "(6,)"
            ]
          },
          "metadata": {},
          "execution_count": 38
        }
      ]
    },
    {
      "cell_type": "code",
      "source": [
        "# Expandimos la forma del array anterior en la posicion 1.\n",
        "\n",
        "b=np.expand_dims(a, axis=1)\n",
        "\n",
        "b.shape"
      ],
      "metadata": {
        "id": "xWtKuJFQJVOH",
        "colab": {
          "base_uri": "https://localhost:8080/"
        },
        "outputId": "acbaf728-d3b6-4400-c399-4c2d3564b2ce"
      },
      "execution_count": null,
      "outputs": [
        {
          "output_type": "execute_result",
          "data": {
            "text/plain": [
              "(6, 1)"
            ]
          },
          "metadata": {},
          "execution_count": 39
        }
      ]
    },
    {
      "cell_type": "code",
      "source": [
        "# Volvemos a expandir el array anterior, pero esta vez, a la posicion 0.\n",
        "\n",
        "c=np.expand_dims(a, axis=0)\n",
        "c.shape"
      ],
      "metadata": {
        "id": "1Jd-V8Z6Jfi4",
        "colab": {
          "base_uri": "https://localhost:8080/"
        },
        "outputId": "40593af3-5a9a-49e4-d8ea-55e29ede28bf"
      },
      "execution_count": null,
      "outputs": [
        {
          "output_type": "execute_result",
          "data": {
            "text/plain": [
              "(1, 6)"
            ]
          },
          "metadata": {},
          "execution_count": 40
        }
      ]
    },
    {
      "cell_type": "markdown",
      "source": [
        "## <u>***5.- Indexing and Slicing***</u>"
      ],
      "metadata": {
        "id": "soqOGaPzJqBT"
      }
    },
    {
      "cell_type": "markdown",
      "source": [
        "El indexado (indexing) y el troceado (slicing) de arrays de Numpy, es muy parecido al que hacemos en Python con las listas."
      ],
      "metadata": {
        "id": "ilLcGa4c0-Tp"
      }
    },
    {
      "cell_type": "code",
      "source": [
        "import numpy as np\n",
        "\n",
        "# Creamos un nuevo array y mostramos el elemento que está en el índice 1.\n",
        "\n",
        "data= np.array([1, 2, 3, 4, 5])\n",
        "\n",
        "data[1]"
      ],
      "metadata": {
        "id": "w77zTnBgJx-v",
        "colab": {
          "base_uri": "https://localhost:8080/"
        },
        "outputId": "b8757820-9c4f-4576-cc03-a021ce4b5846"
      },
      "execution_count": null,
      "outputs": [
        {
          "output_type": "execute_result",
          "data": {
            "text/plain": [
              "2"
            ]
          },
          "metadata": {},
          "execution_count": 2
        }
      ]
    },
    {
      "cell_type": "code",
      "source": [
        "data[-2]"
      ],
      "metadata": {
        "colab": {
          "base_uri": "https://localhost:8080/"
        },
        "id": "J3eI0OWLwJtw",
        "outputId": "df634072-effe-44bc-a794-e3b899889de8"
      },
      "execution_count": null,
      "outputs": [
        {
          "output_type": "execute_result",
          "data": {
            "text/plain": [
              "4"
            ]
          },
          "metadata": {},
          "execution_count": 3
        }
      ]
    },
    {
      "cell_type": "code",
      "source": [
        "# Mostramos los elementos del array desde el índice 1 (inclusive) al\n",
        "# índice 4 (exclusivo).\n",
        "\n",
        "data[1:4]"
      ],
      "metadata": {
        "id": "Hzo4q2suKD3f",
        "colab": {
          "base_uri": "https://localhost:8080/"
        },
        "outputId": "8748580d-39d6-4265-9283-4e8cf5618b13"
      },
      "execution_count": null,
      "outputs": [
        {
          "output_type": "execute_result",
          "data": {
            "text/plain": [
              "array([2, 3, 4])"
            ]
          },
          "metadata": {},
          "execution_count": 42
        }
      ]
    },
    {
      "cell_type": "code",
      "source": [
        "# Mostramos los elementos del array desde el índice 3 (inclusive)\n",
        "# hasta el último elemento del array.\n",
        "\n",
        "data[3:]"
      ],
      "metadata": {
        "id": "0z0RYuyNKIMx",
        "colab": {
          "base_uri": "https://localhost:8080/"
        },
        "outputId": "311a702d-e938-49a8-85b1-090648947b2f"
      },
      "execution_count": null,
      "outputs": [
        {
          "output_type": "execute_result",
          "data": {
            "text/plain": [
              "array([4, 5])"
            ]
          },
          "metadata": {},
          "execution_count": 43
        }
      ]
    },
    {
      "cell_type": "code",
      "source": [
        "data[:3]"
      ],
      "metadata": {
        "colab": {
          "base_uri": "https://localhost:8080/"
        },
        "id": "7ZRGzwwSwlza",
        "outputId": "3b581aff-adb6-4a4b-e433-9f974e862a2c"
      },
      "execution_count": null,
      "outputs": [
        {
          "output_type": "execute_result",
          "data": {
            "text/plain": [
              "array([1, 2, 3])"
            ]
          },
          "metadata": {},
          "execution_count": 7
        }
      ]
    },
    {
      "cell_type": "code",
      "source": [
        "data[::]"
      ],
      "metadata": {
        "colab": {
          "base_uri": "https://localhost:8080/"
        },
        "id": "428qglzuwOM6",
        "outputId": "0b33ce9a-8b1f-4e3a-b0c4-e33c326407a2"
      },
      "execution_count": null,
      "outputs": [
        {
          "output_type": "execute_result",
          "data": {
            "text/plain": [
              "array([1, 2, 3, 4, 5])"
            ]
          },
          "metadata": {},
          "execution_count": 5
        }
      ]
    },
    {
      "cell_type": "code",
      "source": [
        "data[:]"
      ],
      "metadata": {
        "colab": {
          "base_uri": "https://localhost:8080/"
        },
        "id": "73Do9YwzwSiX",
        "outputId": "4f46f463-29c9-4545-9360-52ccc6e088ae"
      },
      "execution_count": null,
      "outputs": [
        {
          "output_type": "execute_result",
          "data": {
            "text/plain": [
              "array([1, 2, 3, 4, 5])"
            ]
          },
          "metadata": {},
          "execution_count": 6
        }
      ]
    },
    {
      "cell_type": "code",
      "source": [
        "# Mostramos los elementos del array desde el índice 4 (empezando desde\n",
        "# el último) hasta el último elemento del array.\n",
        "\n",
        "data[-4:]"
      ],
      "metadata": {
        "id": "Xr2RISjjKTBK",
        "colab": {
          "base_uri": "https://localhost:8080/"
        },
        "outputId": "fab4d691-ff7e-4c6f-a332-aa8d74b4fa84"
      },
      "execution_count": null,
      "outputs": [
        {
          "output_type": "execute_result",
          "data": {
            "text/plain": [
              "array([2, 3, 4, 5])"
            ]
          },
          "metadata": {},
          "execution_count": 44
        }
      ]
    },
    {
      "cell_type": "code",
      "source": [
        "data[:-4]"
      ],
      "metadata": {
        "colab": {
          "base_uri": "https://localhost:8080/"
        },
        "id": "xttkqxuuxgiA",
        "outputId": "e00e637c-978f-4076-f194-aaeb012ee713"
      },
      "execution_count": null,
      "outputs": [
        {
          "output_type": "execute_result",
          "data": {
            "text/plain": [
              "array([1])"
            ]
          },
          "metadata": {},
          "execution_count": 8
        }
      ]
    },
    {
      "cell_type": "code",
      "source": [
        "# Podemos mostrar los valores del array que son menores a 5.\n",
        "# Primero creamos un nuevo array bidimensional.\n",
        "\n",
        "a= np.array([[1, 2, 3, 4], [5, 6, 7, 8], [9, 10, 11, 12]])\n",
        "\n",
        "a"
      ],
      "metadata": {
        "id": "dpbrt6oWKhA_",
        "colab": {
          "base_uri": "https://localhost:8080/"
        },
        "outputId": "f29c344e-d8bd-4a8c-a499-e5762a99ee0a"
      },
      "execution_count": null,
      "outputs": [
        {
          "output_type": "execute_result",
          "data": {
            "text/plain": [
              "array([[ 1,  2,  3,  4],\n",
              "       [ 5,  6,  7,  8],\n",
              "       [ 9, 10, 11, 12]])"
            ]
          },
          "metadata": {},
          "execution_count": 3
        }
      ]
    },
    {
      "cell_type": "code",
      "source": [
        "a[::2, ::2]"
      ],
      "metadata": {
        "colab": {
          "base_uri": "https://localhost:8080/"
        },
        "id": "FxDYiRqnZEyQ",
        "outputId": "816e2109-9d67-4713-a613-eb18dd308168"
      },
      "execution_count": null,
      "outputs": [
        {
          "output_type": "execute_result",
          "data": {
            "text/plain": [
              "array([[ 1,  3],\n",
              "       [ 9, 11]])"
            ]
          },
          "metadata": {},
          "execution_count": 45
        }
      ]
    },
    {
      "cell_type": "code",
      "source": [
        "a[::2,(1,3)]"
      ],
      "metadata": {
        "colab": {
          "base_uri": "https://localhost:8080/"
        },
        "id": "jxW6v5TocZyp",
        "outputId": "df7ebdd5-8063-4170-a5bf-ef014cd3ed3d"
      },
      "execution_count": null,
      "outputs": [
        {
          "output_type": "execute_result",
          "data": {
            "text/plain": [
              "array([[ 2,  4],\n",
              "       [10, 12]])"
            ]
          },
          "metadata": {},
          "execution_count": 5
        }
      ]
    },
    {
      "cell_type": "code",
      "source": [
        "a[::2, 1::2]"
      ],
      "metadata": {
        "colab": {
          "base_uri": "https://localhost:8080/"
        },
        "id": "-A41ZjcfdVQh",
        "outputId": "00d09a28-2446-4a92-ae25-687105937b64"
      },
      "execution_count": null,
      "outputs": [
        {
          "output_type": "execute_result",
          "data": {
            "text/plain": [
              "array([[ 2,  4],\n",
              "       [10, 12]])"
            ]
          },
          "metadata": {},
          "execution_count": 6
        }
      ]
    },
    {
      "cell_type": "code",
      "source": [
        "data=np.arange(0, 96).reshape(2,4,3,4)\n",
        "data"
      ],
      "metadata": {
        "colab": {
          "base_uri": "https://localhost:8080/"
        },
        "id": "ueYcf01tesVv",
        "outputId": "c7e18ba7-721c-4f00-8079-026308256f28"
      },
      "execution_count": null,
      "outputs": [
        {
          "output_type": "execute_result",
          "data": {
            "text/plain": [
              "array([[[[ 0,  1,  2,  3],\n",
              "         [ 4,  5,  6,  7],\n",
              "         [ 8,  9, 10, 11]],\n",
              "\n",
              "        [[12, 13, 14, 15],\n",
              "         [16, 17, 18, 19],\n",
              "         [20, 21, 22, 23]],\n",
              "\n",
              "        [[24, 25, 26, 27],\n",
              "         [28, 29, 30, 31],\n",
              "         [32, 33, 34, 35]],\n",
              "\n",
              "        [[36, 37, 38, 39],\n",
              "         [40, 41, 42, 43],\n",
              "         [44, 45, 46, 47]]],\n",
              "\n",
              "\n",
              "       [[[48, 49, 50, 51],\n",
              "         [52, 53, 54, 55],\n",
              "         [56, 57, 58, 59]],\n",
              "\n",
              "        [[60, 61, 62, 63],\n",
              "         [64, 65, 66, 67],\n",
              "         [68, 69, 70, 71]],\n",
              "\n",
              "        [[72, 73, 74, 75],\n",
              "         [76, 77, 78, 79],\n",
              "         [80, 81, 82, 83]],\n",
              "\n",
              "        [[84, 85, 86, 87],\n",
              "         [88, 89, 90, 91],\n",
              "         [92, 93, 94, 95]]]])"
            ]
          },
          "metadata": {},
          "execution_count": 56
        }
      ]
    },
    {
      "cell_type": "code",
      "source": [
        "data[1, 0, ::-1]"
      ],
      "metadata": {
        "colab": {
          "base_uri": "https://localhost:8080/"
        },
        "id": "lYWc12xbfIyg",
        "outputId": "c1089243-89f8-4c9d-f4bc-f4a287ba3671"
      },
      "execution_count": null,
      "outputs": [
        {
          "output_type": "execute_result",
          "data": {
            "text/plain": [
              "array([15, 14, 13, 12])"
            ]
          },
          "metadata": {},
          "execution_count": 54
        }
      ]
    },
    {
      "cell_type": "code",
      "source": [
        "data[1, [0,1], [0,2], 2]"
      ],
      "metadata": {
        "colab": {
          "base_uri": "https://localhost:8080/"
        },
        "id": "WU7TdBwyjq_z",
        "outputId": "4283968c-1223-43f2-8124-481626afdd4b"
      },
      "execution_count": null,
      "outputs": [
        {
          "output_type": "execute_result",
          "data": {
            "text/plain": [
              "array([50, 70])"
            ]
          },
          "metadata": {},
          "execution_count": 58
        }
      ]
    },
    {
      "cell_type": "code",
      "source": [
        "data[1, [0,0,1,1], [0,0,2,2], [0,2,0,2]]"
      ],
      "metadata": {
        "colab": {
          "base_uri": "https://localhost:8080/"
        },
        "id": "UMa8m08tyw6I",
        "outputId": "bfdfb84e-5958-46df-caa4-3bc226ec35bb"
      },
      "execution_count": null,
      "outputs": [
        {
          "output_type": "execute_result",
          "data": {
            "text/plain": [
              "array([48, 50, 68, 70])"
            ]
          },
          "metadata": {},
          "execution_count": 60
        }
      ]
    },
    {
      "cell_type": "code",
      "source": [
        "# Con este formato, nos muestra booleanos un array de booleanos\n",
        "# con los resultados de la condición en cada elemento.\n",
        "\n",
        "print(a<=5)"
      ],
      "metadata": {
        "colab": {
          "base_uri": "https://localhost:8080/"
        },
        "id": "uLtxc-5bWUQf",
        "outputId": "67ac57a5-5076-4906-f372-dc9fc4b66834"
      },
      "execution_count": null,
      "outputs": [
        {
          "output_type": "stream",
          "name": "stdout",
          "text": [
            "[[ True  True  True  True]\n",
            " [ True False False False]\n",
            " [False False False False]]\n"
          ]
        }
      ]
    },
    {
      "cell_type": "code",
      "source": [
        "# Usando la condición como índice nos dará, en esta ocasión, un array\n",
        "# con los elementos que coinciden con la condición dada.\n",
        "\n",
        "a[a>5]"
      ],
      "metadata": {
        "id": "y29yQpy8eR65",
        "colab": {
          "base_uri": "https://localhost:8080/"
        },
        "outputId": "b29cc7f7-eab9-41e0-f5d2-2e838c72e999"
      },
      "execution_count": null,
      "outputs": [
        {
          "output_type": "execute_result",
          "data": {
            "text/plain": [
              "array([ 6,  7,  8,  9, 10, 11, 12])"
            ]
          },
          "metadata": {},
          "execution_count": 47
        }
      ]
    },
    {
      "cell_type": "code",
      "source": [
        "# O podemos mostrar los numeros iguales o mayores que 5\n",
        "\n",
        "cinco= (a>=5)\n",
        "a[cinco]"
      ],
      "metadata": {
        "id": "i3eKaz0CK6K8",
        "colab": {
          "base_uri": "https://localhost:8080/"
        },
        "outputId": "4b1f91bd-a749-4cf5-8f45-1b8a1781c244"
      },
      "execution_count": null,
      "outputs": [
        {
          "output_type": "execute_result",
          "data": {
            "text/plain": [
              "array([ 5,  6,  7,  8,  9, 10, 11, 12])"
            ]
          },
          "metadata": {},
          "execution_count": 48
        }
      ]
    },
    {
      "cell_type": "code",
      "source": [
        "# O también podemos mostrar los elementos del array que son divisibles por 2.\n",
        "\n",
        "divisible= a[a%2==0]\n",
        "divisible"
      ],
      "metadata": {
        "id": "OAGZhJ94LPO1",
        "colab": {
          "base_uri": "https://localhost:8080/"
        },
        "outputId": "7481758b-4057-4f20-f9e2-bc124b4d6329"
      },
      "execution_count": null,
      "outputs": [
        {
          "output_type": "execute_result",
          "data": {
            "text/plain": [
              "array([ 2,  4,  6,  8, 10, 12])"
            ]
          },
          "metadata": {},
          "execution_count": 50
        }
      ]
    },
    {
      "cell_type": "code",
      "source": [
        "divisible=a[(a%2==0) & (a>7)]\n",
        "divisible"
      ],
      "metadata": {
        "colab": {
          "base_uri": "https://localhost:8080/"
        },
        "id": "WbUAVmibz1rn",
        "outputId": "c7c281f4-45cf-48f2-bfbb-2b3e8fef32d9"
      },
      "execution_count": null,
      "outputs": [
        {
          "output_type": "execute_result",
          "data": {
            "text/plain": [
              "array([ 8, 10, 12])"
            ]
          },
          "metadata": {},
          "execution_count": 12
        }
      ]
    },
    {
      "cell_type": "code",
      "source": [
        "divisible = a[(a%2==0) | (a>7)]\n",
        "divisible"
      ],
      "metadata": {
        "colab": {
          "base_uri": "https://localhost:8080/"
        },
        "id": "J79tMJyD0aO4",
        "outputId": "25cf6a37-6eda-4ed1-aaf9-94037bf76265"
      },
      "execution_count": null,
      "outputs": [
        {
          "output_type": "execute_result",
          "data": {
            "text/plain": [
              "array([ 2,  4,  6,  8,  9, 10, 11, 12])"
            ]
          },
          "metadata": {},
          "execution_count": 14
        }
      ]
    },
    {
      "cell_type": "code",
      "source": [
        "# O los elementos del array que sean impares.\n",
        "\n",
        "divisible= a[a%2!=0]\n",
        "\n",
        "divisible"
      ],
      "metadata": {
        "colab": {
          "base_uri": "https://localhost:8080/"
        },
        "id": "IpndS_IwlhJ_",
        "outputId": "62b4c0a6-11b4-452c-d6e6-823ffa141833"
      },
      "execution_count": null,
      "outputs": [
        {
          "output_type": "execute_result",
          "data": {
            "text/plain": [
              "array([ 1,  3,  5,  7,  9, 11])"
            ]
          },
          "metadata": {},
          "execution_count": 51
        }
      ]
    },
    {
      "cell_type": "markdown",
      "source": [
        "También es posible usar los operadores lógicos (`and` - `&`) y (`or` - `|`), para evaluar más de una condición."
      ],
      "metadata": {
        "id": "8dlEGoiP4RZh"
      }
    },
    {
      "cell_type": "code",
      "source": [
        "c= a[(a>2) & (a<11)]\n",
        "\n",
        "c"
      ],
      "metadata": {
        "id": "dmPUrTRILblp",
        "colab": {
          "base_uri": "https://localhost:8080/"
        },
        "outputId": "19afff64-9eff-4cc0-80e3-548b57fb11d1"
      },
      "execution_count": null,
      "outputs": [
        {
          "output_type": "execute_result",
          "data": {
            "text/plain": [
              "array([ 3,  4,  5,  6,  7,  8,  9, 10])"
            ]
          },
          "metadata": {},
          "execution_count": 52
        }
      ]
    },
    {
      "cell_type": "code",
      "source": [
        "c=(a>5) | (a==5)\n",
        "\n",
        "a[c]"
      ],
      "metadata": {
        "id": "i2cpAWFXWf-S",
        "colab": {
          "base_uri": "https://localhost:8080/"
        },
        "outputId": "9cfe85cd-436f-4e3e-e0be-98b01114c147"
      },
      "execution_count": null,
      "outputs": [
        {
          "output_type": "execute_result",
          "data": {
            "text/plain": [
              "array([ 5,  6,  7,  8,  9, 10, 11, 12])"
            ]
          },
          "metadata": {},
          "execution_count": 54
        }
      ]
    },
    {
      "cell_type": "markdown",
      "source": [
        "## <u>***6.- Como Crear un Array de Otro Array ya Existente***</u>"
      ],
      "metadata": {
        "id": "pvIY0xRzXaZd"
      }
    },
    {
      "cell_type": "markdown",
      "source": [
        "Para crear un array a partir de otro ya creado, solo hay que usar la notación de índices para trocear la parte del array que nos interesa y guardarlo en otra variable."
      ],
      "metadata": {
        "id": "Tbil9IPzLnMD"
      }
    },
    {
      "cell_type": "code",
      "source": [
        "a=np.array([1, 2, 3, 4, 5, 6, 7, 8, 9, 10])\n",
        "\n",
        "arr1= a[3:8:2]\n",
        "\n",
        "arr1"
      ],
      "metadata": {
        "id": "2uoGzlylXHhn",
        "colab": {
          "base_uri": "https://localhost:8080/"
        },
        "outputId": "7d3d0ae6-b7bc-45ee-cc23-c4cd89703fcd"
      },
      "execution_count": null,
      "outputs": [
        {
          "output_type": "execute_result",
          "data": {
            "text/plain": [
              "array([4, 6, 8])"
            ]
          },
          "metadata": {},
          "execution_count": 16
        }
      ]
    },
    {
      "cell_type": "markdown",
      "source": [
        "También puedes apilar varios arrays verticalmente u horizontalmente, usando los métodos `vstack()` y `hstack()`.\n",
        "\n",
        "> El método `vstack()` apila matrices en secuencia verticalmente (por filas). Más info en [Numpy](https://numpy.org/doc/stable/reference/generated/numpy.vstack.html#numpy.vstack).\n",
        ">\n",
        "> El método `hstack()` apila matrices en secuencia horizontalmente (por columnas). Más info en [Numpy](https://numpy.org/doc/stable/reference/generated/numpy.hstack.html)."
      ],
      "metadata": {
        "id": "rfQjBmehMQ0m"
      }
    },
    {
      "cell_type": "code",
      "source": [
        "a1= np.array([[1, 1],\n",
        "             [2, 2]])\n",
        "\n",
        "a2= np.array([[3, 3],\n",
        "              [4, 4]])"
      ],
      "metadata": {
        "id": "ONPqIk5jX1gJ"
      },
      "execution_count": null,
      "outputs": []
    },
    {
      "cell_type": "code",
      "source": [
        "np.vstack((a1, a2))"
      ],
      "metadata": {
        "id": "ruPGcNskYWX5",
        "colab": {
          "base_uri": "https://localhost:8080/"
        },
        "outputId": "327ce099-546a-4f0a-f169-d6b98f2d1a82"
      },
      "execution_count": null,
      "outputs": [
        {
          "output_type": "execute_result",
          "data": {
            "text/plain": [
              "array([[1, 1],\n",
              "       [2, 2],\n",
              "       [3, 3],\n",
              "       [4, 4]])"
            ]
          },
          "metadata": {},
          "execution_count": 8
        }
      ]
    },
    {
      "cell_type": "code",
      "source": [
        "np.vstack((a2, a1))"
      ],
      "metadata": {
        "colab": {
          "base_uri": "https://localhost:8080/"
        },
        "id": "wEwVka-9ifZZ",
        "outputId": "139ddf37-1640-4e60-f053-0a1b7d240505"
      },
      "execution_count": null,
      "outputs": [
        {
          "output_type": "execute_result",
          "data": {
            "text/plain": [
              "array([[3, 3],\n",
              "       [4, 4],\n",
              "       [1, 1],\n",
              "       [2, 2]])"
            ]
          },
          "metadata": {},
          "execution_count": 9
        }
      ]
    },
    {
      "cell_type": "code",
      "source": [
        "np.concatenate((a1, a2))"
      ],
      "metadata": {
        "colab": {
          "base_uri": "https://localhost:8080/"
        },
        "id": "JoODpMFh3RLX",
        "outputId": "cab39ab1-037d-4a67-f143-6981562a6945"
      },
      "execution_count": null,
      "outputs": [
        {
          "output_type": "execute_result",
          "data": {
            "text/plain": [
              "array([[1, 1],\n",
              "       [2, 2],\n",
              "       [3, 3],\n",
              "       [4, 4]])"
            ]
          },
          "metadata": {},
          "execution_count": 20
        }
      ]
    },
    {
      "cell_type": "code",
      "source": [
        "np.hstack((a1, a2))"
      ],
      "metadata": {
        "id": "x6QJnTjVYqrQ",
        "colab": {
          "base_uri": "https://localhost:8080/"
        },
        "outputId": "b4459953-fdec-4064-e9c2-b25639d7f98e"
      },
      "execution_count": null,
      "outputs": [
        {
          "output_type": "execute_result",
          "data": {
            "text/plain": [
              "array([[1, 1, 3, 3],\n",
              "       [2, 2, 4, 4]])"
            ]
          },
          "metadata": {},
          "execution_count": 21
        }
      ]
    },
    {
      "cell_type": "markdown",
      "source": [
        "También puedes dividirlos en varios arrays mas pequeños, especificando\n",
        "el número de arrays iguales, usando el método `hsplit()`.\n",
        "\n",
        "Elmétodo `hsplit()` divide una matriz en varias submatrices horizontalmente (por columnas)."
      ],
      "metadata": {
        "id": "3EW-2cY2RMw8"
      }
    },
    {
      "cell_type": "code",
      "source": [
        "# Creamos un array de 48 elementos, remodelado a un array bidimensional de\n",
        "# 4 subarrays de 12 elementos cada uno.\n",
        "\n",
        "x= np.arange(1, 49).reshape(4, 12)\n",
        "x"
      ],
      "metadata": {
        "id": "5AFM5FcyZCYG",
        "colab": {
          "base_uri": "https://localhost:8080/"
        },
        "outputId": "e02887a8-76db-45f3-8de0-72a01fdc9d8c"
      },
      "execution_count": null,
      "outputs": [
        {
          "output_type": "execute_result",
          "data": {
            "text/plain": [
              "array([[ 1,  2,  3,  4,  5,  6,  7,  8,  9, 10, 11, 12],\n",
              "       [13, 14, 15, 16, 17, 18, 19, 20, 21, 22, 23, 24],\n",
              "       [25, 26, 27, 28, 29, 30, 31, 32, 33, 34, 35, 36],\n",
              "       [37, 38, 39, 40, 41, 42, 43, 44, 45, 46, 47, 48]])"
            ]
          },
          "metadata": {},
          "execution_count": 23
        }
      ]
    },
    {
      "cell_type": "code",
      "source": [
        "# Y ahora dividimos la matriz en 3 submatrices por columnas lo que nos da un\n",
        "# total de 4 subarrays de 4 elementos cada una.\n",
        "\n",
        "np.hsplit(x, 3)"
      ],
      "metadata": {
        "id": "OcyI6fyVZcao",
        "colab": {
          "base_uri": "https://localhost:8080/"
        },
        "outputId": "c889d5a1-30f1-44ae-f0ff-f0710cb1cf6a"
      },
      "execution_count": null,
      "outputs": [
        {
          "output_type": "execute_result",
          "data": {
            "text/plain": [
              "[array([[ 1,  2,  3,  4],\n",
              "        [13, 14, 15, 16],\n",
              "        [25, 26, 27, 28],\n",
              "        [37, 38, 39, 40]]),\n",
              " array([[ 5,  6,  7,  8],\n",
              "        [17, 18, 19, 20],\n",
              "        [29, 30, 31, 32],\n",
              "        [41, 42, 43, 44]]),\n",
              " array([[ 9, 10, 11, 12],\n",
              "        [21, 22, 23, 24],\n",
              "        [33, 34, 35, 36],\n",
              "        [45, 46, 47, 48]])]"
            ]
          },
          "metadata": {},
          "execution_count": 24
        }
      ]
    },
    {
      "cell_type": "code",
      "source": [
        "np.vsplit(x,4)"
      ],
      "metadata": {
        "colab": {
          "base_uri": "https://localhost:8080/"
        },
        "id": "Fpec85QS7HMK",
        "outputId": "73a1ea94-b6e7-4924-bd10-d1035bedafa8"
      },
      "execution_count": null,
      "outputs": [
        {
          "output_type": "execute_result",
          "data": {
            "text/plain": [
              "[array([[ 1,  2,  3,  4,  5,  6,  7,  8,  9, 10, 11, 12]]),\n",
              " array([[13, 14, 15, 16, 17, 18, 19, 20, 21, 22, 23, 24]]),\n",
              " array([[25, 26, 27, 28, 29, 30, 31, 32, 33, 34, 35, 36]]),\n",
              " array([[37, 38, 39, 40, 41, 42, 43, 44, 45, 46, 47, 48]])]"
            ]
          },
          "metadata": {},
          "execution_count": 28
        }
      ]
    },
    {
      "cell_type": "code",
      "source": [
        "np.vsplit(x, 4)[1]"
      ],
      "metadata": {
        "colab": {
          "base_uri": "https://localhost:8080/"
        },
        "id": "1mA37d6K7ZfP",
        "outputId": "390d509c-e236-4447-8399-d8e34ae503a7"
      },
      "execution_count": null,
      "outputs": [
        {
          "output_type": "execute_result",
          "data": {
            "text/plain": [
              "array([[13, 14, 15, 16, 17, 18, 19, 20, 21, 22, 23, 24]])"
            ]
          },
          "metadata": {},
          "execution_count": 29
        }
      ]
    },
    {
      "cell_type": "code",
      "source": [
        "np.hsplit(x, 3)[0]"
      ],
      "metadata": {
        "colab": {
          "base_uri": "https://localhost:8080/"
        },
        "id": "Y5Kuy_wy62UI",
        "outputId": "0b2fa755-2b8c-43ca-d143-b15696d437b5"
      },
      "execution_count": null,
      "outputs": [
        {
          "output_type": "execute_result",
          "data": {
            "text/plain": [
              "array([[ 1,  2,  3,  4],\n",
              "       [13, 14, 15, 16],\n",
              "       [25, 26, 27, 28],\n",
              "       [37, 38, 39, 40]])"
            ]
          },
          "metadata": {},
          "execution_count": 25
        }
      ]
    },
    {
      "cell_type": "code",
      "source": [
        "# Otro ejemplo:\n",
        "\n",
        "arr = np.array([[1, 2, 3, 4],\n",
        "                [5, 6, 7, 8],\n",
        "                [9, 10, 11, 12]])\n",
        "\n",
        "# Dividimos el array horizontalmente en dos partes\n",
        "result = np.hsplit(arr, 2)\n",
        "\n",
        "# Imprimimos los resultados\n",
        "print(\"Array original:\")\n",
        "print(arr)\n",
        "\n",
        "print(\"\\nResultado de hsplit():\")\n",
        "print(result)"
      ],
      "metadata": {
        "colab": {
          "base_uri": "https://localhost:8080/"
        },
        "id": "-gPCIRhnY_eQ",
        "outputId": "9a3eecfb-f6b7-46ca-ce82-e7099777bc52"
      },
      "execution_count": null,
      "outputs": [
        {
          "output_type": "stream",
          "name": "stdout",
          "text": [
            "Array original:\n",
            "[[ 1  2  3  4]\n",
            " [ 5  6  7  8]\n",
            " [ 9 10 11 12]]\n",
            "\n",
            "Resultado de hsplit():\n",
            "[array([[ 1,  2],\n",
            "       [ 5,  6],\n",
            "       [ 9, 10]]), array([[ 3,  4],\n",
            "       [ 7,  8],\n",
            "       [11, 12]])]\n"
          ]
        }
      ]
    },
    {
      "cell_type": "code",
      "source": [
        "# Si quieres separarlo despues de la tercera y cuarta columna\n",
        "\n",
        "np.hsplit(x, (3, 5))"
      ],
      "metadata": {
        "id": "6XrMtQG4Zn5K",
        "colab": {
          "base_uri": "https://localhost:8080/"
        },
        "outputId": "c492017a-bfdf-491f-d8f7-f9b28b7143cd"
      },
      "execution_count": null,
      "outputs": [
        {
          "output_type": "execute_result",
          "data": {
            "text/plain": [
              "[array([[ 1,  2,  3],\n",
              "        [13, 14, 15],\n",
              "        [25, 26, 27],\n",
              "        [37, 38, 39]]),\n",
              " array([[ 4,  5],\n",
              "        [16, 17],\n",
              "        [28, 29],\n",
              "        [40, 41]]),\n",
              " array([[ 6,  7,  8,  9, 10, 11, 12],\n",
              "        [18, 19, 20, 21, 22, 23, 24],\n",
              "        [30, 31, 32, 33, 34, 35, 36],\n",
              "        [42, 43, 44, 45, 46, 47, 48]])]"
            ]
          },
          "metadata": {},
          "execution_count": 31
        }
      ]
    },
    {
      "cell_type": "code",
      "source": [
        "np.hsplit(x, (0,7))"
      ],
      "metadata": {
        "colab": {
          "base_uri": "https://localhost:8080/"
        },
        "id": "RWyzrLpS-ICY",
        "outputId": "8041d9a5-9d65-450e-b2d9-1d143bc2d24c"
      },
      "execution_count": null,
      "outputs": [
        {
          "output_type": "execute_result",
          "data": {
            "text/plain": [
              "[array([], shape=(4, 0), dtype=int64),\n",
              " array([[ 1,  2,  3,  4,  5,  6,  7],\n",
              "        [13, 14, 15, 16, 17, 18, 19],\n",
              "        [25, 26, 27, 28, 29, 30, 31],\n",
              "        [37, 38, 39, 40, 41, 42, 43]]),\n",
              " array([[ 8,  9, 10, 11, 12],\n",
              "        [20, 21, 22, 23, 24],\n",
              "        [32, 33, 34, 35, 36],\n",
              "        [44, 45, 46, 47, 48]])]"
            ]
          },
          "metadata": {},
          "execution_count": 32
        }
      ]
    },
    {
      "cell_type": "markdown",
      "source": [
        "## <u>***7.- Operaciones Básicas con Arrays***</u>"
      ],
      "metadata": {
        "id": "SBwULWmFaD2C"
      }
    },
    {
      "cell_type": "markdown",
      "source": [
        "### 7.1.- Suma de Arrays"
      ],
      "metadata": {
        "id": "Xf9l9K2vThbN"
      }
    },
    {
      "cell_type": "code",
      "source": [
        "# Creamos el primer array.\n",
        "\n",
        "arr1= np.array([1, 2])\n",
        "\n",
        "arr1"
      ],
      "metadata": {
        "id": "9-r69HY8adck",
        "colab": {
          "base_uri": "https://localhost:8080/"
        },
        "outputId": "31be3aa4-06a8-44bc-b098-78b1f8fad5ea"
      },
      "execution_count": null,
      "outputs": [
        {
          "output_type": "execute_result",
          "data": {
            "text/plain": [
              "array([1, 2])"
            ]
          },
          "metadata": {},
          "execution_count": 10
        }
      ]
    },
    {
      "cell_type": "code",
      "source": [
        "# Creamos el segundo array de unos (1).\n",
        "\n",
        "arr2= np.ones(2, dtype=int)\n",
        "arr2"
      ],
      "metadata": {
        "colab": {
          "base_uri": "https://localhost:8080/"
        },
        "id": "G_6inMRt0Dlx",
        "outputId": "a7be633b-c4af-4418-fe54-85a6d76a7fc0"
      },
      "execution_count": null,
      "outputs": [
        {
          "output_type": "execute_result",
          "data": {
            "text/plain": [
              "array([1, 1])"
            ]
          },
          "metadata": {},
          "execution_count": 11
        }
      ]
    },
    {
      "cell_type": "code",
      "source": [
        "# Realizamos la operación de suma de ambos arrays.\n",
        "\n",
        "arr1+arr2"
      ],
      "metadata": {
        "colab": {
          "base_uri": "https://localhost:8080/"
        },
        "id": "Otxdb8ky0PCR",
        "outputId": "186a9564-6706-433e-985b-e8698a20edd6"
      },
      "execution_count": null,
      "outputs": [
        {
          "output_type": "execute_result",
          "data": {
            "text/plain": [
              "array([2, 3])"
            ]
          },
          "metadata": {},
          "execution_count": 12
        }
      ]
    },
    {
      "cell_type": "markdown",
      "source": [
        "### 7.2.- Resta de Arrays"
      ],
      "metadata": {
        "id": "wVYM0vJ3T827"
      }
    },
    {
      "cell_type": "code",
      "source": [
        "# Realizamos la operación de resta de ambos arrays anteriores.\n",
        "\n",
        "arr1 - arr2"
      ],
      "metadata": {
        "id": "zSYSYLMkbA6c",
        "colab": {
          "base_uri": "https://localhost:8080/"
        },
        "outputId": "4cdaf5d0-f29d-432f-cfdc-1dcaf5bec050"
      },
      "execution_count": null,
      "outputs": [
        {
          "output_type": "execute_result",
          "data": {
            "text/plain": [
              "array([0, 1])"
            ]
          },
          "metadata": {},
          "execution_count": 13
        }
      ]
    },
    {
      "cell_type": "markdown",
      "source": [
        "### 7.3.- Multiplicación de Arrays"
      ],
      "metadata": {
        "id": "1oNDwjPkUKyr"
      }
    },
    {
      "cell_type": "code",
      "source": [
        "# Realizamos la operación de multiplicación de ambos arrays anteriores.\n",
        "\n",
        "arr1 * arr2"
      ],
      "metadata": {
        "id": "i1BPRS4XbIzG",
        "colab": {
          "base_uri": "https://localhost:8080/"
        },
        "outputId": "b788259a-6643-4aa5-9dac-c9ec98971e5c"
      },
      "execution_count": null,
      "outputs": [
        {
          "output_type": "execute_result",
          "data": {
            "text/plain": [
              "array([1, 2])"
            ]
          },
          "metadata": {},
          "execution_count": 14
        }
      ]
    },
    {
      "cell_type": "markdown",
      "source": [
        "### 7.4.- División de Arrays"
      ],
      "metadata": {
        "id": "46M8jTEIUaJL"
      }
    },
    {
      "cell_type": "code",
      "source": [
        "# Realizamos la operación de división de ambos arrays anteriores.\n",
        "\n",
        "arr2 / arr1"
      ],
      "metadata": {
        "id": "lWZLAyMXbVDo",
        "colab": {
          "base_uri": "https://localhost:8080/"
        },
        "outputId": "8494165b-0ed0-4523-c813-ea193c38b046"
      },
      "execution_count": null,
      "outputs": [
        {
          "output_type": "execute_result",
          "data": {
            "text/plain": [
              "array([1. , 0.5])"
            ]
          },
          "metadata": {},
          "execution_count": 15
        }
      ]
    },
    {
      "cell_type": "markdown",
      "source": [
        "### 7.5- Operaciones con los elementos de un array o matriz"
      ],
      "metadata": {
        "id": "ww8hlJi5UwhT"
      }
    },
    {
      "cell_type": "code",
      "source": [
        "# Para sumar los elementos de un array\n",
        "\n",
        "a= np.array([1, 2, 3, 4])\n",
        "\n",
        "a.sum()"
      ],
      "metadata": {
        "id": "5Jp-NL5cbhCx",
        "colab": {
          "base_uri": "https://localhost:8080/"
        },
        "outputId": "d72cc723-22a6-4ac3-a915-caf570eea1a3"
      },
      "execution_count": null,
      "outputs": [
        {
          "output_type": "execute_result",
          "data": {
            "text/plain": [
              "10"
            ]
          },
          "metadata": {},
          "execution_count": 72
        }
      ]
    },
    {
      "cell_type": "code",
      "source": [
        "# Para sumar las columnas en un array 2D debemos especificar el eje (axis).\n",
        "# Creamos el array 2D:\n",
        "\n",
        "b= np.array([[1, 1], [2, 2]])\n",
        "\n",
        "b"
      ],
      "metadata": {
        "id": "Jx36pZkGbuSq",
        "colab": {
          "base_uri": "https://localhost:8080/"
        },
        "outputId": "6c1f44e1-6c0b-489b-ef22-d50f108b2705"
      },
      "execution_count": null,
      "outputs": [
        {
          "output_type": "execute_result",
          "data": {
            "text/plain": [
              "array([[1, 1],\n",
              "       [2, 2]])"
            ]
          },
          "metadata": {},
          "execution_count": 75
        }
      ]
    },
    {
      "cell_type": "code",
      "source": [
        "# Sumamos sobre el eje de columnas:\n",
        "\n",
        "b.sum(axis=0)"
      ],
      "metadata": {
        "colab": {
          "base_uri": "https://localhost:8080/"
        },
        "id": "ibethlH62RDk",
        "outputId": "ac44df1b-9ed0-475e-b568-f067543888b4"
      },
      "execution_count": null,
      "outputs": [
        {
          "output_type": "execute_result",
          "data": {
            "text/plain": [
              "array([3, 3])"
            ]
          },
          "metadata": {},
          "execution_count": 76
        }
      ]
    },
    {
      "cell_type": "code",
      "source": [
        "# Sumamos sobre el eje de filas:\n",
        "b.sum(axis=1)"
      ],
      "metadata": {
        "id": "nk1YX_sTcTsx",
        "colab": {
          "base_uri": "https://localhost:8080/"
        },
        "outputId": "e1a40a1c-e894-4e9f-c0d4-44103ea09539"
      },
      "execution_count": null,
      "outputs": [
        {
          "output_type": "execute_result",
          "data": {
            "text/plain": [
              "array([2, 4])"
            ]
          },
          "metadata": {},
          "execution_count": 77
        }
      ]
    },
    {
      "cell_type": "code",
      "source": [
        "# También podemos multiplicar un array por un número (se llama broadcast\n",
        "# en ingles)\n",
        "\n",
        "data= np.array([1.0, 2.0, 3.0, 4.0, 5.0])\n",
        "\n",
        "data*1.6"
      ],
      "metadata": {
        "id": "lPlSDUVhciLs",
        "colab": {
          "base_uri": "https://localhost:8080/"
        },
        "outputId": "7aa82216-fdf7-46a9-92b9-0936e6c19add"
      },
      "execution_count": null,
      "outputs": [
        {
          "output_type": "execute_result",
          "data": {
            "text/plain": [
              "array([1.6, 3.2, 4.8, 6.4, 8. ])"
            ]
          },
          "metadata": {},
          "execution_count": 78
        }
      ]
    },
    {
      "cell_type": "code",
      "source": [
        "# Obtener el elemento con el valor máximo.\n",
        "\n",
        "data.max()"
      ],
      "metadata": {
        "id": "I3jrYaAzdY2v",
        "colab": {
          "base_uri": "https://localhost:8080/"
        },
        "outputId": "2a50cc17-5404-40a4-cc08-a836b0fe9526"
      },
      "execution_count": null,
      "outputs": [
        {
          "output_type": "execute_result",
          "data": {
            "text/plain": [
              "5.0"
            ]
          },
          "metadata": {},
          "execution_count": 80
        }
      ]
    },
    {
      "cell_type": "code",
      "source": [
        "# Obtener el elemento con el valor mínimo.\n",
        "\n",
        "data.min()"
      ],
      "metadata": {
        "id": "5ho6obvXdgnD",
        "colab": {
          "base_uri": "https://localhost:8080/"
        },
        "outputId": "a3e50527-341a-45ea-8c9e-106920857ac8"
      },
      "execution_count": null,
      "outputs": [
        {
          "output_type": "execute_result",
          "data": {
            "text/plain": [
              "1.0"
            ]
          },
          "metadata": {},
          "execution_count": 81
        }
      ]
    },
    {
      "cell_type": "code",
      "source": [
        "# Obtener la media de todos los elementos del array.\n",
        "\n",
        "data.mean()"
      ],
      "metadata": {
        "id": "4BltdqRKd5hN",
        "colab": {
          "base_uri": "https://localhost:8080/"
        },
        "outputId": "056a7606-5d3e-429e-b61f-72edeed2cbe5"
      },
      "execution_count": null,
      "outputs": [
        {
          "output_type": "execute_result",
          "data": {
            "text/plain": [
              "3.0"
            ]
          },
          "metadata": {},
          "execution_count": 82
        }
      ]
    },
    {
      "cell_type": "code",
      "source": [
        "# Para multiplicar todos los elementos entre ellos\n",
        "\n",
        "data.prod()"
      ],
      "metadata": {
        "id": "cmz2XDZ2d8pe",
        "colab": {
          "base_uri": "https://localhost:8080/"
        },
        "outputId": "a690c69c-a3dc-4667-90a2-7c5f97e71b79"
      },
      "execution_count": null,
      "outputs": [
        {
          "output_type": "execute_result",
          "data": {
            "text/plain": [
              "120.0"
            ]
          },
          "metadata": {},
          "execution_count": 83
        }
      ]
    },
    {
      "cell_type": "code",
      "source": [
        "# Para calcular la desviacion standard de todos los elementos\n",
        "\n",
        "data.std()"
      ],
      "metadata": {
        "id": "_oQUXEcbeLZY",
        "colab": {
          "base_uri": "https://localhost:8080/"
        },
        "outputId": "a80d259b-4649-48ce-a9e2-9117d0a20ff1"
      },
      "execution_count": null,
      "outputs": [
        {
          "output_type": "execute_result",
          "data": {
            "text/plain": [
              "1.4142135623730951"
            ]
          },
          "metadata": {},
          "execution_count": 93
        }
      ]
    },
    {
      "cell_type": "code",
      "source": [
        "# Para calcular la desviacion standard de numeros muy dispersos\n",
        "\n",
        "a= np.array([1, 15, 60, 390, 550, 34, 7, 342, 100])\n",
        "a.mean()"
      ],
      "metadata": {
        "colab": {
          "base_uri": "https://localhost:8080/"
        },
        "id": "8jWDS_pXM8M9",
        "outputId": "f6a8b3fd-aa99-4435-f92d-3805540e921b"
      },
      "execution_count": null,
      "outputs": [
        {
          "output_type": "execute_result",
          "data": {
            "text/plain": [
              "166.55555555555554"
            ]
          },
          "metadata": {},
          "execution_count": 84
        }
      ]
    },
    {
      "cell_type": "code",
      "source": [
        "# Podemos redondear el resultado de un valor, como la desviación estándar.\n",
        "\n",
        "a.std().round(4)"
      ],
      "metadata": {
        "colab": {
          "base_uri": "https://localhost:8080/"
        },
        "id": "sm2SdCZ5NZLQ",
        "outputId": "c331d329-ca2e-4bc3-9787-a6e78e96cd6d"
      },
      "execution_count": null,
      "outputs": [
        {
          "output_type": "execute_result",
          "data": {
            "text/plain": [
              "193.4851"
            ]
          },
          "metadata": {},
          "execution_count": 85
        }
      ]
    },
    {
      "cell_type": "markdown",
      "source": [
        "## <u>***8.- Más Ejercicios Creando Matrices***</u>"
      ],
      "metadata": {
        "id": "PIXq4UmoeZTX"
      }
    },
    {
      "cell_type": "markdown",
      "source": [
        "COmo hemos visto hasta ahora, puedes pasar listas de listas de Python para crear un array 2D (***matriz***)."
      ],
      "metadata": {
        "id": "qddKxWJ2XH_u"
      }
    },
    {
      "cell_type": "code",
      "source": [
        "data=np.array([[1, 2], [3, 4], [5,6]])\n",
        "\n",
        "data"
      ],
      "metadata": {
        "id": "I9MBNqoKeYN_",
        "colab": {
          "base_uri": "https://localhost:8080/"
        },
        "outputId": "f796e0cd-12aa-464d-fb76-06b4055a9911"
      },
      "execution_count": null,
      "outputs": [
        {
          "output_type": "execute_result",
          "data": {
            "text/plain": [
              "array([[1, 2],\n",
              "       [3, 4],\n",
              "       [5, 6]])"
            ]
          },
          "metadata": {},
          "execution_count": 16
        }
      ]
    },
    {
      "cell_type": "markdown",
      "source": [
        "\n",
        "\n",
        "---\n",
        "\n",
        "\n",
        "\n",
        "A continuación, vamos a practicar un poco de slicing con la anterior matriz"
      ],
      "metadata": {
        "id": "B5H2WgvVXebW"
      }
    },
    {
      "cell_type": "code",
      "source": [
        "data[0, 1]"
      ],
      "metadata": {
        "id": "gvI-4Wv3e1JV",
        "colab": {
          "base_uri": "https://localhost:8080/"
        },
        "outputId": "32c5e261-82ed-4208-e3d5-720cca76c870"
      },
      "execution_count": null,
      "outputs": [
        {
          "output_type": "execute_result",
          "data": {
            "text/plain": [
              "2"
            ]
          },
          "metadata": {},
          "execution_count": 17
        }
      ]
    },
    {
      "cell_type": "code",
      "source": [
        "data[0:2]"
      ],
      "metadata": {
        "id": "ZcFCVZjke-P1",
        "colab": {
          "base_uri": "https://localhost:8080/"
        },
        "outputId": "ff31dc13-3b3f-4bf4-9a40-1f21100aa4c5"
      },
      "execution_count": null,
      "outputs": [
        {
          "output_type": "execute_result",
          "data": {
            "text/plain": [
              "array([[1, 2],\n",
              "       [3, 4]])"
            ]
          },
          "metadata": {},
          "execution_count": 18
        }
      ]
    },
    {
      "cell_type": "code",
      "source": [
        "data[0:3, 0]"
      ],
      "metadata": {
        "id": "T5_EzzZ8fDfw",
        "colab": {
          "base_uri": "https://localhost:8080/"
        },
        "outputId": "8bb52609-abd3-4897-d94d-eb2bb63e3e7c"
      },
      "execution_count": null,
      "outputs": [
        {
          "output_type": "execute_result",
          "data": {
            "text/plain": [
              "array([1, 3, 5])"
            ]
          },
          "metadata": {},
          "execution_count": 19
        }
      ]
    },
    {
      "cell_type": "code",
      "source": [
        "data[0:3, 0:2]"
      ],
      "metadata": {
        "colab": {
          "base_uri": "https://localhost:8080/"
        },
        "id": "RJrdptEsIFqb",
        "outputId": "60af95ce-a4f8-4edb-e09b-5a488b458341"
      },
      "execution_count": null,
      "outputs": [
        {
          "output_type": "execute_result",
          "data": {
            "text/plain": [
              "array([[1, 2],\n",
              "       [3, 4],\n",
              "       [5, 6]])"
            ]
          },
          "metadata": {},
          "execution_count": 20
        }
      ]
    },
    {
      "cell_type": "code",
      "source": [
        "data.max()"
      ],
      "metadata": {
        "id": "QlMvSqp0fRrO",
        "colab": {
          "base_uri": "https://localhost:8080/"
        },
        "outputId": "724b7ea6-172c-4402-d5af-f94886d9b519"
      },
      "execution_count": null,
      "outputs": [
        {
          "output_type": "execute_result",
          "data": {
            "text/plain": [
              "6"
            ]
          },
          "metadata": {},
          "execution_count": 6
        }
      ]
    },
    {
      "cell_type": "code",
      "source": [
        "data.min()"
      ],
      "metadata": {
        "id": "fpXEQwatfU5e",
        "colab": {
          "base_uri": "https://localhost:8080/"
        },
        "outputId": "ba1438ed-a178-460f-ecfa-497ff631a183"
      },
      "execution_count": null,
      "outputs": [
        {
          "output_type": "execute_result",
          "data": {
            "text/plain": [
              "1"
            ]
          },
          "metadata": {},
          "execution_count": 7
        }
      ]
    },
    {
      "cell_type": "code",
      "source": [
        "data.sum()"
      ],
      "metadata": {
        "id": "ehmKU8LIfXRC",
        "colab": {
          "base_uri": "https://localhost:8080/"
        },
        "outputId": "21513530-be85-44ce-b37c-9d5da559e7c2"
      },
      "execution_count": null,
      "outputs": [
        {
          "output_type": "execute_result",
          "data": {
            "text/plain": [
              "21"
            ]
          },
          "metadata": {},
          "execution_count": 8
        }
      ]
    },
    {
      "cell_type": "markdown",
      "source": [
        "\n",
        "\n",
        "---\n",
        "\n",
        "\n",
        "\n",
        "Podemos agregar los valores de una matriz a lo largo de las columnas o a los largo de las filas usando el parametro `axis`.\n",
        "+   Si `axis=0` se suma a los largo de las columnas.\n",
        "+   Si `axis=1` se suma a lo largo de las filas."
      ],
      "metadata": {
        "id": "2ciYtaqYYQJu"
      }
    },
    {
      "cell_type": "code",
      "source": [
        "data=np.array([[1, 2], [5, 3], [4, 6]])\n",
        "\n",
        "data"
      ],
      "metadata": {
        "id": "2A0OygB9jzGQ",
        "colab": {
          "base_uri": "https://localhost:8080/"
        },
        "outputId": "b56e8bb0-f0da-4ae7-91da-ef2ddbdbd659"
      },
      "execution_count": null,
      "outputs": [
        {
          "output_type": "execute_result",
          "data": {
            "text/plain": [
              "array([[1, 2],\n",
              "       [5, 3],\n",
              "       [4, 6]])"
            ]
          },
          "metadata": {},
          "execution_count": 38
        }
      ]
    },
    {
      "cell_type": "code",
      "source": [
        "data.max(axis=0)"
      ],
      "metadata": {
        "id": "4QPiAiRhj83e",
        "colab": {
          "base_uri": "https://localhost:8080/"
        },
        "outputId": "44bb95ce-cf09-42f5-b6ee-be257807feb6"
      },
      "execution_count": null,
      "outputs": [
        {
          "output_type": "execute_result",
          "data": {
            "text/plain": [
              "array([5, 6])"
            ]
          },
          "metadata": {},
          "execution_count": 39
        }
      ]
    },
    {
      "cell_type": "code",
      "source": [
        "data.max(axis=1)\n"
      ],
      "metadata": {
        "id": "hLbqtyCNkAwJ",
        "colab": {
          "base_uri": "https://localhost:8080/"
        },
        "outputId": "ef1208e4-bb57-468f-a3b4-53c6362af0bc"
      },
      "execution_count": null,
      "outputs": [
        {
          "output_type": "execute_result",
          "data": {
            "text/plain": [
              "array([2, 5, 6])"
            ]
          },
          "metadata": {},
          "execution_count": 40
        }
      ]
    },
    {
      "cell_type": "markdown",
      "source": [
        "\n",
        "\n",
        "---\n",
        "\n",
        "\n",
        "\n",
        "Si tienes dos matrices del mismo tamaño (size) puedes sumar y multiplicar las matrices."
      ],
      "metadata": {
        "id": "BlSwbyHkZ5aX"
      }
    },
    {
      "cell_type": "code",
      "source": [
        "data1= np.array([[1, 2], [3, 4]])\n",
        "data2= np.array([[1, 1], [1, 1]])\n",
        "\n",
        "data1 + data2"
      ],
      "metadata": {
        "id": "UyVNPFv0kUl9",
        "colab": {
          "base_uri": "https://localhost:8080/"
        },
        "outputId": "bb5aa9c4-428c-4933-eb50-a83c0a47377a"
      },
      "execution_count": null,
      "outputs": [
        {
          "output_type": "execute_result",
          "data": {
            "text/plain": [
              "array([[2, 3],\n",
              "       [4, 5]])"
            ]
          },
          "metadata": {},
          "execution_count": 21
        }
      ]
    },
    {
      "cell_type": "markdown",
      "source": [
        "Para multiplicar matrices tenemos dos opciones:\n",
        "+   podemos usar el simbolo `@`.\n",
        "+   podemos usar el método `dot()`."
      ],
      "metadata": {
        "id": "5N2SORSzcpdp"
      }
    },
    {
      "cell_type": "code",
      "source": [
        "# usamos el simbolo @\n",
        "\n",
        "data1 @ data2"
      ],
      "metadata": {
        "id": "XrMuBNbNk74W",
        "colab": {
          "base_uri": "https://localhost:8080/"
        },
        "outputId": "2bf22bde-250d-4ef5-f1ec-bbecbce87f3a"
      },
      "execution_count": null,
      "outputs": [
        {
          "output_type": "execute_result",
          "data": {
            "text/plain": [
              "array([[3, 3],\n",
              "       [7, 7]])"
            ]
          },
          "metadata": {},
          "execution_count": 13
        }
      ]
    },
    {
      "cell_type": "code",
      "source": [
        "# usamos la funcion dot\n",
        "\n",
        "np.dot(data1, data2)"
      ],
      "metadata": {
        "id": "BQ8bYw-0l5eP",
        "colab": {
          "base_uri": "https://localhost:8080/"
        },
        "outputId": "1d2927ab-1d53-4542-e853-99ca626952e9"
      },
      "execution_count": null,
      "outputs": [
        {
          "output_type": "execute_result",
          "data": {
            "text/plain": [
              "array([[3, 3],\n",
              "       [7, 7]])"
            ]
          },
          "metadata": {},
          "execution_count": 42
        }
      ]
    },
    {
      "cell_type": "markdown",
      "source": [
        "\n",
        "\n",
        "---\n",
        "\n",
        "\n",
        "\n",
        "Puedes hacer estas operaciones matematicas en matrices de diferente tamaños, pero solo si una de las matrices tiene solo una columna o una fila. En este caso,  *NumPy usara la regla broadcast que vimos mas arriba*."
      ],
      "metadata": {
        "id": "f15PyCzzlB7b"
      }
    },
    {
      "cell_type": "code",
      "source": [
        "data1=np.array([[1, 2], [3, 4], [5, 6]])\n",
        "data2=np.array([1,1])\n",
        "\n",
        "data1 + data2"
      ],
      "metadata": {
        "id": "vDQgom7anQ-S",
        "colab": {
          "base_uri": "https://localhost:8080/"
        },
        "outputId": "723d7b4f-8f95-414a-b43d-271827e35c98"
      },
      "execution_count": null,
      "outputs": [
        {
          "output_type": "execute_result",
          "data": {
            "text/plain": [
              "array([[2, 3],\n",
              "       [4, 5],\n",
              "       [6, 7]])"
            ]
          },
          "metadata": {},
          "execution_count": 111
        }
      ]
    },
    {
      "cell_type": "markdown",
      "source": [
        "## <u>***9.- Generar Números al Azar***</u>\n"
      ],
      "metadata": {
        "id": "Kbxq6ofQn6Y0"
      }
    },
    {
      "cell_type": "markdown",
      "source": [
        "El uso de la generación aleatoria de números es fundamental en la configuración de algoritmos numéricos y de machine learning. También en la inicialización aleatoria de pesos en redes neuronales artificiales.\n",
        "\n",
        "> *La **inicialización aleatoria de pesos en redes neuronales artificiales** es un paso importante al comenzar a entrenar una red neuronal. En esencia, se refiere al proceso de asignar valores iniciales a los pesos de las conexiones entre las neuronas de la red.*\n",
        ">\n",
        "> *Cada conexión entre neuronas tiene un peso asociado, que determina la fuerza de la conexión. Al inicio del entrenamiento, estos pesos se establecen de manera aleatoria.*\n",
        ">\n",
        "> *La razón detrás de esta aleatoriedad es evitar que todas las neuronas de la red aprendan lo mismo al principio. Si todos los pesos fueran iguales desde el principio, las neuronas tendrían comportamientos similares y la red no sería capaz de aprender patrones complejos.*"
      ],
      "metadata": {
        "id": "jyxd6OFxoi8o"
      }
    },
    {
      "cell_type": "markdown",
      "source": [
        "Con el método `integers()` de la clase `Generator` en el módulo `random`, podemos generar enteros aleatoriamente desde el entero más bajo (`low`) (recuerda que este numero es incluido en NumPy) hasta el entero más alto (`high`) (excluido).\n",
        "\n",
        "El método `integers()` tiene los parámetros (entre otros):\n",
        "+   `low` el entero más bajo aleatorio que se generará.\n",
        "+   `high` el entero más alto aleatorio que se generará (opcional).\n",
        "+   `size` el tamaño de la matriz que se generará (opcional).\n",
        "+   `endpoint=True` incluye el entero más alto en la generación aleatoria. Por defecto es `False` (opcional).\n",
        "\n",
        "Más info en [Numpy](https://numpy.org/doc/stable/reference/random/generated/numpy.random.Generator.integers.html#numpy.random.Generator.integers).\n",
        "\n",
        "`rng` es la abreviatura de \"*Random Number Generator*\" en inglés.\n",
        "\n",
        "Podemos generar un array de 2 x 14 de integers aleatorios entre 0 y 8 (incluido) con:"
      ],
      "metadata": {
        "id": "a7s6DD-h4AjR"
      }
    },
    {
      "cell_type": "code",
      "source": [
        "# Primero creamos el objeto generador de numeros aleatorios\n",
        "\n",
        "rng = np.random.default_rng()\n",
        "\n",
        "# Luego usamos el método integers()\n",
        "\n",
        "rng.integers(4, 11, size=(3, 8), endpoint=True)"
      ],
      "metadata": {
        "id": "Xq_drl43k-Om",
        "colab": {
          "base_uri": "https://localhost:8080/"
        },
        "outputId": "881139aa-3320-4622-de6e-95e6e5e42483"
      },
      "execution_count": null,
      "outputs": [
        {
          "output_type": "execute_result",
          "data": {
            "text/plain": [
              "array([[ 4,  8, 10,  4,  5,  4, 10,  9],\n",
              "       [10,  9,  9,  6,  9,  8,  8,  7],\n",
              "       [11,  5, 10,  7,  5,  5, 10,  7]])"
            ]
          },
          "metadata": {},
          "execution_count": 25
        }
      ]
    },
    {
      "cell_type": "markdown",
      "source": [
        "## <u>***10.- Como Conseguir Valores Únicos y Contar Valores***</u>"
      ],
      "metadata": {
        "id": "iHccOTOHtguq"
      }
    },
    {
      "cell_type": "markdown",
      "source": [
        "Para conseguir los valores únicos de un array o una matriz, utilizamos el método `unique()`.\n",
        "\n",
        "Más info en [Numpy](https://numpy.org/doc/stable/reference/generated/numpy.unique.html#numpy.unique)."
      ],
      "metadata": {
        "id": "rF5qVlgk9EEq"
      }
    },
    {
      "cell_type": "code",
      "source": [
        "a= np.array([11, 11, 11, 11, 11, 11, 14, 16, 16, 16, 16, 16, 16, 16])\n",
        "\n",
        "u=np.unique(a)\n",
        "\n",
        "u"
      ],
      "metadata": {
        "id": "zZ_MPjpAtnIQ",
        "colab": {
          "base_uri": "https://localhost:8080/"
        },
        "outputId": "a87b0d83-91f8-4252-a1a0-0ff4d39632c4"
      },
      "execution_count": null,
      "outputs": [
        {
          "output_type": "execute_result",
          "data": {
            "text/plain": [
              "array([11, 14, 16])"
            ]
          },
          "metadata": {},
          "execution_count": 17
        }
      ]
    },
    {
      "cell_type": "markdown",
      "source": [
        "Para contar el numero de valores únicos usamos el parámetro `return_counts=True` del  método `unique()`.\n",
        "\n",
        "Cuando usamos éste parámetro, el método `unique()` devuelve una matriz con dos arrays:\n",
        "+   El primer array contiene los valores únicos del array o matriz dado.\n",
        "+   El segundo array contiene los valores del número de veces que se repite cada valor único.\n",
        "\n",
        "Si solo utilizamos una variable para contener el valor que devuelve el método `unique()` con el parámetro `return_counts=True`, obtendremos una matriz con los dos arrays.\n",
        "\n",
        "En el snippet siguiente utilizamos dos variables para guardar cada array en una variable diferente:"
      ],
      "metadata": {
        "id": "GYZZKYzu-M5p"
      }
    },
    {
      "cell_type": "code",
      "source": [
        "arr = np.array([[2, 4, 6, 2, 2, 5, 6, 6, 7],[8, 4, 4, 3, 2, 3, 2, 7, 4]])"
      ],
      "metadata": {
        "id": "y9pDH_B5_mZR"
      },
      "execution_count": null,
      "outputs": []
    },
    {
      "cell_type": "code",
      "source": [
        "unicos, ocurren= np.unique(arr, return_counts=True)\n",
        "\n",
        "print('Array de valores unicos:', unicos)\n",
        "print('Array de ocurrencias:', ocurren)"
      ],
      "metadata": {
        "id": "_rFjnx03uf6P",
        "colab": {
          "base_uri": "https://localhost:8080/"
        },
        "outputId": "d6a9d958-9c04-45cf-d8d9-1dc7b5094bcf"
      },
      "execution_count": null,
      "outputs": [
        {
          "output_type": "stream",
          "name": "stdout",
          "text": [
            "Array de valores unicos: [2 3 4 5 6 7 8]\n",
            "Array de ocurrencias [5 2 4 1 3 2 1]\n"
          ]
        }
      ]
    },
    {
      "cell_type": "markdown",
      "source": [
        "## <u>***11.- Transponer y Reformar una Matriz***</u>"
      ],
      "metadata": {
        "id": "bfguciewwJWi"
      }
    },
    {
      "cell_type": "markdown",
      "source": [
        "Transponer es pasar una matriz de 2x3 a una de 3x2. Para ello podemos usar el método `reshape()` (visto anteriormente) y el método `transpose()`.\n",
        "\n",
        "El método `transpose()` es más sencillo de usar que `reshape()`, ya que realiza la acción de forma transparente para el usuario.\n",
        "\n",
        "Más info en [Numpy](https://numpy.org/doc/stable/reference/generated/numpy.transpose.html#numpy.transpose)."
      ],
      "metadata": {
        "id": "aSkp6L1aDRwK"
      }
    },
    {
      "cell_type": "code",
      "source": [
        "data.reshape(2, 3)"
      ],
      "metadata": {
        "id": "GEHkn_6ow0MS",
        "colab": {
          "base_uri": "https://localhost:8080/"
        },
        "outputId": "4a931ebb-32fc-4970-b91c-ffa7c94e823d"
      },
      "execution_count": null,
      "outputs": [
        {
          "output_type": "execute_result",
          "data": {
            "text/plain": [
              "array([[1, 2, 3],\n",
              "       [4, 5, 6]])"
            ]
          },
          "metadata": {},
          "execution_count": 26
        }
      ]
    },
    {
      "cell_type": "code",
      "source": [
        "data.reshape(3,2)"
      ],
      "metadata": {
        "id": "odWUfJ7Jw36z",
        "colab": {
          "base_uri": "https://localhost:8080/"
        },
        "outputId": "49ff08c6-8962-4310-8a73-44ca9e7d19a2"
      },
      "execution_count": null,
      "outputs": [
        {
          "output_type": "execute_result",
          "data": {
            "text/plain": [
              "array([[1, 2],\n",
              "       [5, 3],\n",
              "       [4, 6]])"
            ]
          },
          "metadata": {},
          "execution_count": 27
        }
      ]
    },
    {
      "cell_type": "code",
      "source": [
        "# Creamos un nuevo array\n",
        "\n",
        "a=np.arange(20)\n",
        "\n",
        "a"
      ],
      "metadata": {
        "colab": {
          "base_uri": "https://localhost:8080/"
        },
        "id": "AV5Opq142TX-",
        "outputId": "114c3ef0-66c0-4d87-be28-ad0357897ca2"
      },
      "execution_count": null,
      "outputs": [
        {
          "output_type": "execute_result",
          "data": {
            "text/plain": [
              "array([ 0,  1,  2,  3,  4,  5,  6,  7,  8,  9, 10, 11, 12, 13, 14, 15, 16,\n",
              "       17, 18, 19])"
            ]
          },
          "metadata": {},
          "execution_count": 27
        }
      ]
    },
    {
      "cell_type": "code",
      "source": [
        "# Usamos el método reshape() para reformar el array anterior.\n",
        "\n",
        "a=np.arange(20).reshape(5,4)\n",
        "\n",
        "a"
      ],
      "metadata": {
        "id": "JLFCpliExDpR",
        "colab": {
          "base_uri": "https://localhost:8080/"
        },
        "outputId": "a9a4e82e-1b8b-4b8e-d1bf-d4faf7435362"
      },
      "execution_count": null,
      "outputs": [
        {
          "output_type": "execute_result",
          "data": {
            "text/plain": [
              "array([[ 0,  1,  2,  3],\n",
              "       [ 4,  5,  6,  7],\n",
              "       [ 8,  9, 10, 11],\n",
              "       [12, 13, 14, 15],\n",
              "       [16, 17, 18, 19]])"
            ]
          },
          "metadata": {},
          "execution_count": 28
        }
      ]
    },
    {
      "cell_type": "code",
      "source": [
        "#Y ahora usamos transpose()para invertir (transponer) los ejes (axis).\n",
        "\n",
        "a.transpose()"
      ],
      "metadata": {
        "id": "QZiMwjY4xUjw",
        "colab": {
          "base_uri": "https://localhost:8080/"
        },
        "outputId": "24a33b0e-764e-4e1c-918d-3b253ea2ca9a"
      },
      "execution_count": null,
      "outputs": [
        {
          "output_type": "execute_result",
          "data": {
            "text/plain": [
              "array([[ 0,  4,  8, 12, 16],\n",
              "       [ 1,  5,  9, 13, 17],\n",
              "       [ 2,  6, 10, 14, 18],\n",
              "       [ 3,  7, 11, 15, 19]])"
            ]
          },
          "metadata": {},
          "execution_count": 30
        }
      ]
    },
    {
      "cell_type": "code",
      "source": [
        "#tambien podemos usar la T\n",
        "\n",
        "a.T"
      ],
      "metadata": {
        "id": "lbJ0qTBdxbZ_",
        "colab": {
          "base_uri": "https://localhost:8080/"
        },
        "outputId": "f731cdc2-c4d7-4eda-a2d6-2c974e30aec8"
      },
      "execution_count": null,
      "outputs": [
        {
          "output_type": "execute_result",
          "data": {
            "text/plain": [
              "array([[ 0,  4,  8, 12, 16],\n",
              "       [ 1,  5,  9, 13, 17],\n",
              "       [ 2,  6, 10, 14, 18],\n",
              "       [ 3,  7, 11, 15, 19]])"
            ]
          },
          "metadata": {},
          "execution_count": 121
        }
      ]
    },
    {
      "cell_type": "markdown",
      "source": [
        "## <u>***12.-Darle la Vuelta a un Array***</u>"
      ],
      "metadata": {
        "id": "a0T5H0Vux9un"
      }
    },
    {
      "cell_type": "markdown",
      "source": [
        "El método `flip()` conserva la forma (shape) de la matriz pero los elementos se reordenan (se voltea sobre un eje).\n",
        "\n",
        "Más info en [Numpy](https://numpy.org/doc/stable/reference/generated/numpy.flip.html#numpy.flip)."
      ],
      "metadata": {
        "id": "pnezNPNgNooz"
      }
    },
    {
      "cell_type": "code",
      "source": [
        "a= np.array([1, 2, 3, 4, 5, 6, 7, 8])\n",
        "\n",
        "np.flip(a)\n"
      ],
      "metadata": {
        "id": "TPIsSNdayC7w",
        "colab": {
          "base_uri": "https://localhost:8080/"
        },
        "outputId": "f4d21161-707b-4161-baff-cf30eb8274d7"
      },
      "execution_count": null,
      "outputs": [
        {
          "output_type": "execute_result",
          "data": {
            "text/plain": [
              "array([8, 7, 6, 5, 4, 3, 2, 1])"
            ]
          },
          "metadata": {},
          "execution_count": 29
        }
      ]
    },
    {
      "cell_type": "code",
      "source": [
        "# Para un array 2D funciona parecido (se voltean tanto el orden de los\n",
        "# subarrays, como el orden de los elementos de cada subarray).\n",
        "\n",
        "a2=np.array([[1, 2, 3, 4], [5, 6, 7, 8],[9, 10, 11, 12]])\n",
        "\n",
        "a2\n"
      ],
      "metadata": {
        "id": "2iS70Cq5yomE",
        "colab": {
          "base_uri": "https://localhost:8080/"
        },
        "outputId": "a19d1c43-e970-48da-d056-e0f39b47df47"
      },
      "execution_count": null,
      "outputs": [
        {
          "output_type": "execute_result",
          "data": {
            "text/plain": [
              "array([[ 1,  2,  3,  4],\n",
              "       [ 5,  6,  7,  8],\n",
              "       [ 9, 10, 11, 12]])"
            ]
          },
          "metadata": {},
          "execution_count": 31
        }
      ]
    },
    {
      "cell_type": "code",
      "source": [
        "np.flip(a2)"
      ],
      "metadata": {
        "id": "LyVfv4fwla4p",
        "colab": {
          "base_uri": "https://localhost:8080/"
        },
        "outputId": "d62800cd-ca20-4875-ed80-0de7b0ad9bf1"
      },
      "execution_count": null,
      "outputs": [
        {
          "output_type": "execute_result",
          "data": {
            "text/plain": [
              "array([[12, 11, 10,  9],\n",
              "       [ 8,  7,  6,  5],\n",
              "       [ 4,  3,  2,  1]])"
            ]
          },
          "metadata": {},
          "execution_count": 35
        }
      ]
    },
    {
      "cell_type": "markdown",
      "source": [
        "Si añadimos el parámetro `axis=`, volteamos la matriz o array sobre un eje en concreto:\n",
        "+   `0` para las filas.\n",
        "+   `1` para las columnas."
      ],
      "metadata": {
        "id": "DyGQIS39OsDc"
      }
    },
    {
      "cell_type": "code",
      "source": [
        "# Le damos la vuelta solo a las filas\n",
        "\n",
        "solofilas=np.flip(a2, axis=0)\n",
        "\n",
        "solofilas"
      ],
      "metadata": {
        "id": "aazr6KqozMq9",
        "colab": {
          "base_uri": "https://localhost:8080/"
        },
        "outputId": "c8f41895-cd06-4624-8985-005bf922ceb8"
      },
      "execution_count": null,
      "outputs": [
        {
          "output_type": "execute_result",
          "data": {
            "text/plain": [
              "array([[ 9, 10, 11, 12],\n",
              "       [ 5,  6,  7,  8],\n",
              "       [ 1,  2,  3,  4]])"
            ]
          },
          "metadata": {},
          "execution_count": 32
        }
      ]
    },
    {
      "cell_type": "code",
      "source": [
        "# Le damos la vuelta solo a las columnas.\n",
        "\n",
        "solocolumnas= np.flip(a2, axis=1)\n",
        "\n",
        "solocolumnas"
      ],
      "metadata": {
        "id": "CCWBZ1eEzjhl",
        "colab": {
          "base_uri": "https://localhost:8080/"
        },
        "outputId": "deff2052-f3af-4bed-c86b-5680f793ef8e"
      },
      "execution_count": null,
      "outputs": [
        {
          "output_type": "execute_result",
          "data": {
            "text/plain": [
              "array([[ 4,  3,  2,  1],\n",
              "       [ 8,  7,  6,  5],\n",
              "       [12, 11, 10,  9]])"
            ]
          },
          "metadata": {},
          "execution_count": 126
        }
      ]
    },
    {
      "cell_type": "markdown",
      "source": [
        "## <u>***13.-Aplanar Arrays Multidimensionales***</u>"
      ],
      "metadata": {
        "id": "Ozq8INwbl0la"
      }
    },
    {
      "cell_type": "markdown",
      "source": [
        "> El método `flatten()` devuelve una copia de la matriz comprimida en una dimensión (1D). Podemos aplanar arrays de 2, 3, 4 dimensiones y nos las convierte en 1D\n",
        "\n",
        "Más info en [Numpy](https://numpy.org/doc/stable/reference/generated/numpy.ndarray.flatten.html#numpy.ndarray.flatten)."
      ],
      "metadata": {
        "id": "KltKmuHMQGek"
      }
    },
    {
      "cell_type": "code",
      "source": [
        "x=np.array([[1, 2, 3, 4], [5, 6, 7, 8], [9, 10, 11, 12]])\n",
        "\n",
        "x\n"
      ],
      "metadata": {
        "id": "ak2n96NJ0HyM",
        "colab": {
          "base_uri": "https://localhost:8080/"
        },
        "outputId": "85ffe834-82d9-4c27-e8ad-cdddba3c75d8"
      },
      "execution_count": null,
      "outputs": [
        {
          "output_type": "execute_result",
          "data": {
            "text/plain": [
              "array([[ 1,  2,  3,  4],\n",
              "       [ 5,  6,  7,  8],\n",
              "       [ 9, 10, 11, 12]])"
            ]
          },
          "metadata": {},
          "execution_count": 37
        }
      ]
    },
    {
      "cell_type": "code",
      "source": [
        "x.flatten()"
      ],
      "metadata": {
        "id": "gTXh8kQzl_lM",
        "colab": {
          "base_uri": "https://localhost:8080/"
        },
        "outputId": "d3bcb9cd-2c80-4926-c487-b03d3160fd9f"
      },
      "execution_count": null,
      "outputs": [
        {
          "output_type": "execute_result",
          "data": {
            "text/plain": [
              "array([ 1,  2,  3,  4,  5,  6,  7,  8,  9, 10, 11, 12])"
            ]
          },
          "metadata": {},
          "execution_count": 38
        }
      ]
    },
    {
      "cell_type": "markdown",
      "source": [
        "## <u>***14.-El Método `numpy.linalg`***</u>"
      ],
      "metadata": {
        "id": "EXOP8texm4KA"
      }
    },
    {
      "cell_type": "markdown",
      "source": [
        "El método `linalg()` de **Numpy** ofrece una amplia gama de operaciones y calculos en algebra lineal como la resolucion de sistemas de ecuaciones lineales, calculo de la inversa de una matriz, etc.\n",
        "\n",
        "> <u>***NOTA***</u>: *El término \"coeficientes de las variables\" se utiliza comúnmente en el contexto de modelos matemáticos y estadísticos, como en el ámbito de la regresión lineal. Los coeficientes de las variables son los valores que acompañan a las variables en un modelo matemático para expresar la relación entre esas variables*.\n",
        "\n",
        "Más info en [Numpy](https://numpy.org/doc/stable/reference/routines.linalg.html#module-numpy.linalg)."
      ],
      "metadata": {
        "id": "7bDKBYLwQ4oc"
      }
    },
    {
      "cell_type": "code",
      "source": [
        "# Vamos a resolver un sistema de 3 ecuaciones lineales con 3 incognitas\n",
        "# usando el metodo numpy.linalg.solve().\n",
        "\n",
        "a= np.array([[2, 3, -1], [4, 1, 2], [3, -2, 1]]) # Coeficientes de las variables\n",
        "\n",
        "b= np.array([7, 4, 10]) # Terminos independientes, detras del signo igual\n",
        "\n",
        "# 2x + 3y - z = 7\n",
        "# 4x + y + 2z = 4\n",
        "# 3x -2y + z = 10\n",
        "\n",
        "x=np.linalg.solve(a, b)\n",
        "\n",
        "x"
      ],
      "metadata": {
        "id": "rxf8tqhAyhOf",
        "colab": {
          "base_uri": "https://localhost:8080/"
        },
        "outputId": "df7fdc23-4135-43e7-8c61-b48344ff0694"
      },
      "execution_count": null,
      "outputs": [
        {
          "output_type": "execute_result",
          "data": {
            "text/plain": [
              "array([ 3.74074074, -1.7037037 , -4.62962963])"
            ]
          },
          "metadata": {},
          "execution_count": 39
        }
      ]
    },
    {
      "cell_type": "code",
      "source": [
        "a=np.array([[2, 3], [4, 1]])\n",
        "\n",
        "b= np.array([7, 4])\n",
        "\n",
        "#2x + 3y = 7\n",
        "#4x + y = 4\n",
        "\n",
        "x=np.linalg.solve(a, b)\n",
        "\n",
        "x"
      ],
      "metadata": {
        "id": "Ext-ReU91oZA",
        "colab": {
          "base_uri": "https://localhost:8080/"
        },
        "outputId": "676212a7-acb6-479f-e8e4-ac9baf265d71"
      },
      "execution_count": null,
      "outputs": [
        {
          "output_type": "execute_result",
          "data": {
            "text/plain": [
              "array([0.5, 2. ])"
            ]
          },
          "metadata": {},
          "execution_count": 40
        }
      ]
    },
    {
      "cell_type": "markdown",
      "source": [
        "\n",
        "\n",
        "---\n",
        "\n",
        "\n",
        "\n",
        "La matriz inversa de una matriz cuadrada es la matriz que cumple la propiedad de que al multiplicarla por 𝐴, se obtiene la matriz identidad 𝐼.\n",
        "\n",
        "> Imaginemos que tienes una caja mágica llamada \"matriz cuadrada\". Si colocas otra matriz dentro de esta caja y obtienes el resultado original, se dice que la matriz que pusiste adentro es la \"matriz inversa\".\n",
        ">\n",
        ">En términos más matemáticos, si tienes una matriz cuadrada 𝐴 y encuentras otra matriz 𝛣 de modo que al multiplicarlas obtienes la matriz identidad 𝐼, entonces 𝛣 es la matriz inversa de 𝐴. Se denota como 𝐴<sup>-1</sup>.\n",
        ">\n",
        ">La matriz inversa es como la \"opuesta\" que deshace lo que hace la matriz original. Sin embargo, no todas las matrices tienen una matriz inversa, y una condición importante es que la matriz original 𝐴 debe ser no singular (su determinante no debe ser cero).\n",
        ">\n",
        ">Piensa en esto como el \"número inverso\" en la multiplicación. Si tienes $3 \\times \\frac{1}{3} = 1$, el $\\frac{1}{3}$ es el inverso de $3$ en multiplicación. De manera similar, la matriz inversa es el \"inverso\" de una matriz en la multiplicación de matrices."
      ],
      "metadata": {
        "id": "SKCnxPFeTtX9"
      }
    },
    {
      "cell_type": "code",
      "source": [
        "# Creamos una matriz\n",
        "a = np.array([[1, 2], [3, 4]])\n",
        "\n",
        "# Calcular la inversa de la matriz\n",
        "a_inversa = np.linalg.inv(a)\n",
        "\n",
        "# Mostrar la matriz original y su inversa\n",
        "print(\"Matriz a:\")\n",
        "print(a)\n",
        "print(\"\\nInversa de la matriz a:\")\n",
        "print(a_inversa)"
      ],
      "metadata": {
        "id": "qiDmhuxtm8s0",
        "colab": {
          "base_uri": "https://localhost:8080/"
        },
        "outputId": "677dfd40-82fe-4cf7-cf43-6976e63c0a69"
      },
      "execution_count": null,
      "outputs": [
        {
          "output_type": "stream",
          "name": "stdout",
          "text": [
            "Matriz a:\n",
            "[[1 2]\n",
            " [3 4]]\n",
            "\n",
            "Inversa de la matriz a:\n",
            "[[-2.   1. ]\n",
            " [ 1.5 -0.5]]\n"
          ]
        }
      ]
    },
    {
      "cell_type": "markdown",
      "source": [
        "Para comprobar que hemos calculado bien la matriz inversa de 𝐴 vamos a multiplicar la matriz 𝐴 por la matriz inversa 𝛣 y nos tiene que dar la matriz identidad 𝐼 que es una matriz cuadrada en la que los elementos de la\n",
        "diagonal son todos 1 y el resto de los elementos todos cero.\n",
        "Por ejemplo: [1,0] [0, 1]"
      ],
      "metadata": {
        "id": "X1HV0OWIaZuo"
      }
    },
    {
      "cell_type": "code",
      "source": [
        "a=np.array([[1, 2], [3, 4]])\n",
        "ainv=np.array([[-2, 1], [1.5, -0.5]])\n",
        "\n",
        "a @ ainv"
      ],
      "metadata": {
        "id": "_aCu-Uronu80",
        "colab": {
          "base_uri": "https://localhost:8080/"
        },
        "outputId": "191e1d2a-19c1-4b42-eeb4-ab051cd8f887"
      },
      "execution_count": null,
      "outputs": [
        {
          "output_type": "execute_result",
          "data": {
            "text/plain": [
              "array([[1., 0.],\n",
              "       [0., 1.]])"
            ]
          },
          "metadata": {},
          "execution_count": 42
        }
      ]
    },
    {
      "cell_type": "markdown",
      "source": [
        "## <u>***15.- Ejercicios de Arrays***</u>"
      ],
      "metadata": {
        "id": "XNyvdqNN0zFN"
      }
    },
    {
      "cell_type": "code",
      "source": [
        "import numpy as np"
      ],
      "metadata": {
        "id": "GO-foO9tRMc8"
      },
      "execution_count": null,
      "outputs": []
    },
    {
      "cell_type": "code",
      "source": [
        "# Crear dos matrices\n",
        "A = np.array([[1, 2, 3], [4, 5, 6], [7, 8, 9]])\n",
        "B = np.array([[10, 11, 12], [13, 14, 15], [16, 17, 18]])\n",
        "\n",
        "# Realizar la suma de las matrices\n",
        "C = A + B\n",
        "\n",
        "# Realizar la multiplicación elemento a elemento de las matrices\n",
        "D = A * B\n",
        "\n",
        "# Realizar la multiplicación matricial de las matrices\n",
        "E = np.dot(A, B)\n",
        "\n",
        "# Calcular la transpuesta de una matriz\n",
        "F = A.T\n",
        "\n",
        "# Mostrar los resultados\n",
        "print(\"Matriz A:\")\n",
        "print(A)\n",
        "print(\"\\nMatriz B:\")\n",
        "print(B)\n",
        "print(\"\\nSuma de las matrices (A + B):\")\n",
        "print(C)\n",
        "print(\"\\nMultiplicación elemento a elemento (A * B):\")\n",
        "print(D)\n",
        "print(\"\\nMultiplicación matricial (A dot B):\")\n",
        "print(E)\n",
        "print(\"\\nTranspuesta de la matriz A:\")\n",
        "print(F)\n",
        "\n"
      ],
      "metadata": {
        "id": "lFpkUgVsD1hW",
        "colab": {
          "base_uri": "https://localhost:8080/"
        },
        "outputId": "e0cbffa9-b1cf-455d-fa66-93da3185aa46"
      },
      "execution_count": null,
      "outputs": [
        {
          "output_type": "stream",
          "name": "stdout",
          "text": [
            "Matriz A:\n",
            "[[1 2 3]\n",
            " [4 5 6]\n",
            " [7 8 9]]\n",
            "\n",
            "Matriz B:\n",
            "[[10 11 12]\n",
            " [13 14 15]\n",
            " [16 17 18]]\n",
            "\n",
            "Suma de las matrices (A + B):\n",
            "[[11 13 15]\n",
            " [17 19 21]\n",
            " [23 25 27]]\n",
            "\n",
            "Multiplicación elemento a elemento (A * B):\n",
            "[[ 10  22  36]\n",
            " [ 52  70  90]\n",
            " [112 136 162]]\n",
            "\n",
            "Multiplicación matricial (A dot B):\n",
            "[[ 84  90  96]\n",
            " [201 216 231]\n",
            " [318 342 366]]\n",
            "\n",
            "Transpuesta de la matriz A:\n",
            "[[1 4 7]\n",
            " [2 5 8]\n",
            " [3 6 9]]\n"
          ]
        }
      ]
    },
    {
      "cell_type": "code",
      "source": [
        "matriz = np.array([[1, 2, 3],\n",
        "                  [4, 5, 6],\n",
        "                  [8, 8, 9]])\n",
        "\n",
        "matriz"
      ],
      "metadata": {
        "id": "NyEOh_nLDq2U",
        "colab": {
          "base_uri": "https://localhost:8080/"
        },
        "outputId": "b70eeeeb-9390-46e5-8534-da091b40dc98"
      },
      "execution_count": null,
      "outputs": [
        {
          "output_type": "execute_result",
          "data": {
            "text/plain": [
              "array([[1, 2, 3],\n",
              "       [4, 5, 6],\n",
              "       [8, 8, 9]])"
            ]
          },
          "metadata": {},
          "execution_count": 4
        }
      ]
    },
    {
      "cell_type": "code",
      "source": [
        "# Nos va a dar error porque no todas las matrices tienen su inversa, las matrices\n",
        "# singulares son cuadradas pero no tienen matriz inversa.\n",
        "\n",
        "matriz_inversa = np.linalg.inv(matriz)\n",
        "\n",
        "matriz_inversa"
      ],
      "metadata": {
        "id": "B0sERkPyuRc-",
        "colab": {
          "base_uri": "https://localhost:8080/"
        },
        "outputId": "8f287773-ebf2-4b85-83c1-aa227d00f973"
      },
      "execution_count": null,
      "outputs": [
        {
          "output_type": "execute_result",
          "data": {
            "text/plain": [
              "array([[ 1.        , -2.        ,  1.        ],\n",
              "       [-4.        ,  5.        , -2.        ],\n",
              "       [ 2.66666667, -2.66666667,  1.        ]])"
            ]
          },
          "metadata": {},
          "execution_count": 8
        }
      ]
    },
    {
      "cell_type": "code",
      "source": [
        "matriz @ matriz_inversa"
      ],
      "metadata": {
        "colab": {
          "base_uri": "https://localhost:8080/"
        },
        "id": "Xmaht53kSlLh",
        "outputId": "df1fb6a9-7362-4f7e-8e4f-aa6d1e4915bf"
      },
      "execution_count": null,
      "outputs": [
        {
          "output_type": "execute_result",
          "data": {
            "text/plain": [
              "array([[ 1.00000000e+00,  4.44089210e-16,  0.00000000e+00],\n",
              "       [-8.88178420e-16,  1.00000000e+00,  0.00000000e+00],\n",
              "       [-1.33226763e-15,  1.33226763e-15,  1.00000000e+00]])"
            ]
          },
          "metadata": {},
          "execution_count": 6
        }
      ]
    },
    {
      "cell_type": "markdown",
      "source": [
        "Para ver si una matriz es inversa usamos la funcion `linalg.det()` de **Numpy** si nos da cero entonces la matriz es singular y no tiene inversa."
      ],
      "metadata": {
        "id": "km5XKkrTcHuN"
      }
    },
    {
      "cell_type": "code",
      "source": [
        "matriz = np.array([[1, 2, 3],\n",
        "                  [4, 5, 6],\n",
        "                  [8, 8, 9]])\n",
        "\n",
        "det=np.linalg.det(matriz)\n",
        "\n",
        "det"
      ],
      "metadata": {
        "id": "ZYSdrqH5wJpH",
        "colab": {
          "base_uri": "https://localhost:8080/"
        },
        "outputId": "cf617a73-138d-4485-e5cd-6541633faaad"
      },
      "execution_count": null,
      "outputs": [
        {
          "output_type": "execute_result",
          "data": {
            "text/plain": [
              "-2.9999999999999996"
            ]
          },
          "metadata": {},
          "execution_count": 9
        }
      ]
    },
    {
      "cell_type": "code",
      "source": [
        "# Un ejemplo de una matriz no singular es:\n",
        "\n",
        "m= np.array([[2, 1, 3], [1, 0, 2], [3, 2, 1]])\n",
        "\n",
        "inv=np.linalg.inv(m)\n",
        "\n",
        "inv"
      ],
      "metadata": {
        "id": "A0vBgZfMw1bC",
        "colab": {
          "base_uri": "https://localhost:8080/"
        },
        "outputId": "bae5acd6-6bba-45cf-93b7-e70fffd4f608"
      },
      "execution_count": null,
      "outputs": [
        {
          "output_type": "execute_result",
          "data": {
            "text/plain": [
              "array([[-1.33333333,  1.66666667,  0.66666667],\n",
              "       [ 1.66666667, -2.33333333, -0.33333333],\n",
              "       [ 0.66666667, -0.33333333, -0.33333333]])"
            ]
          },
          "metadata": {},
          "execution_count": 47
        }
      ]
    },
    {
      "cell_type": "markdown",
      "source": [
        "### 15.1.- Sudoku de Índices"
      ],
      "metadata": {
        "id": "7cfr-qA48if2"
      }
    },
    {
      "cell_type": "code",
      "source": [
        "import numpy as np\n",
        "a=np.array([[1,2,3,4,5], [6,7,8,9,10], [11,12,13,14,15],\n",
        "    [16,17,18,19,20], [21,22,23,24,25], [26,27,28,29,30]])\n",
        "\n",
        "a"
      ],
      "metadata": {
        "id": "NhQxOwPo8mhT",
        "colab": {
          "base_uri": "https://localhost:8080/"
        },
        "outputId": "86e0332a-643c-4fe1-e62f-721c7d9c28f7"
      },
      "execution_count": null,
      "outputs": [
        {
          "output_type": "execute_result",
          "data": {
            "text/plain": [
              "array([[ 1,  2,  3,  4,  5],\n",
              "       [ 6,  7,  8,  9, 10],\n",
              "       [11, 12, 13, 14, 15],\n",
              "       [16, 17, 18, 19, 20],\n",
              "       [21, 22, 23, 24, 25],\n",
              "       [26, 27, 28, 29, 30]])"
            ]
          },
          "metadata": {},
          "execution_count": 2
        }
      ]
    },
    {
      "cell_type": "code",
      "source": [
        "# Calcula los indices de 11, 12, 16, 17\n",
        "\n",
        "a[2:4, 0:2] #filas y columnas"
      ],
      "metadata": {
        "id": "OG_E2-i-9QHo",
        "colab": {
          "base_uri": "https://localhost:8080/"
        },
        "outputId": "f3cdc1e8-26f8-4ff6-bb53-141abafea286"
      },
      "execution_count": null,
      "outputs": [
        {
          "output_type": "execute_result",
          "data": {
            "text/plain": [
              "array([[11, 12],\n",
              "       [16, 17]])"
            ]
          },
          "metadata": {},
          "execution_count": 49
        }
      ]
    },
    {
      "cell_type": "code",
      "source": [
        "# Calcula los indices de 2, 8, 14, 20\n",
        "\n",
        "a[[0,1,2,3], [1,2,3,4]] #filas y columnas"
      ],
      "metadata": {
        "id": "oduJgIPo9rgB",
        "colab": {
          "base_uri": "https://localhost:8080/"
        },
        "outputId": "c1325d7f-bdd6-4959-9bac-bbb98cd2c6ce"
      },
      "execution_count": null,
      "outputs": [
        {
          "output_type": "execute_result",
          "data": {
            "text/plain": [
              "array([ 2,  8, 14, 20])"
            ]
          },
          "metadata": {},
          "execution_count": 50
        }
      ]
    },
    {
      "cell_type": "code",
      "source": [
        "# Calcula los indices de 4, 5, 24, 25, 29, 30\n",
        "\n",
        "a[[0,4,5], 3:] #filas y columnas"
      ],
      "metadata": {
        "id": "ZoyxluVp96KQ",
        "colab": {
          "base_uri": "https://localhost:8080/"
        },
        "outputId": "81186e7f-b5e4-425f-8b08-cff9063444f1"
      },
      "execution_count": null,
      "outputs": [
        {
          "output_type": "execute_result",
          "data": {
            "text/plain": [
              "array([[ 4,  5],\n",
              "       [24, 25],\n",
              "       [29, 30]])"
            ]
          },
          "metadata": {},
          "execution_count": 51
        }
      ]
    },
    {
      "cell_type": "code",
      "source": [
        "# EJERCICIOS SIN SOLUCION\n",
        "\n",
        "# Calcula los indices de 1, 5, 26, 30\n",
        "# Calcula los indices de 5, 10, 15, 20, 25, 30\n",
        "# Calcula los indices de 1, 7, 13, 19, 25\n",
        "# Calcula los indices de 26, 21, 16, 11, 6, 1\n",
        "# Calcula los indices de 11, 12, 13, 14, 15\n",
        "\n",
        "# Realiza, a continuación, las soluciones de los ejercicios."
      ],
      "metadata": {
        "id": "tp5d9G5X_mqw"
      },
      "execution_count": null,
      "outputs": []
    },
    {
      "cell_type": "code",
      "source": [
        "b=np.arange(1,26).reshape(5,5)\n",
        "b"
      ],
      "metadata": {
        "colab": {
          "base_uri": "https://localhost:8080/"
        },
        "id": "2LZKALsMs0Ot",
        "outputId": "4f96d8e2-ce21-40ad-bbf8-a47a0e3c218a"
      },
      "execution_count": null,
      "outputs": [
        {
          "output_type": "execute_result",
          "data": {
            "text/plain": [
              "array([[ 1,  2,  3,  4,  5],\n",
              "       [ 6,  7,  8,  9, 10],\n",
              "       [11, 12, 13, 14, 15],\n",
              "       [16, 17, 18, 19, 20],\n",
              "       [21, 22, 23, 24, 25]])"
            ]
          },
          "metadata": {},
          "execution_count": 47
        }
      ]
    },
    {
      "cell_type": "code",
      "source": [
        "b[:2, :2]"
      ],
      "metadata": {
        "colab": {
          "base_uri": "https://localhost:8080/"
        },
        "id": "rafTlrhmfigN",
        "outputId": "c74037ea-6d9c-4430-cd37-d7f891f3b87e"
      },
      "execution_count": null,
      "outputs": [
        {
          "output_type": "execute_result",
          "data": {
            "text/plain": [
              "array([[1, 2],\n",
              "       [6, 7]])"
            ]
          },
          "metadata": {},
          "execution_count": 50
        }
      ]
    },
    {
      "cell_type": "code",
      "source": [
        "b[2:4, 0:2]"
      ],
      "metadata": {
        "colab": {
          "base_uri": "https://localhost:8080/"
        },
        "id": "w17mww14f5aT",
        "outputId": "75a4d3c1-c934-453d-c6a4-e4f0f11175bb"
      },
      "execution_count": null,
      "outputs": [
        {
          "output_type": "execute_result",
          "data": {
            "text/plain": [
              "array([[11, 12],\n",
              "       [16, 17]])"
            ]
          },
          "metadata": {},
          "execution_count": 52
        }
      ]
    },
    {
      "cell_type": "code",
      "source": [
        "b[[0,1,2,3,4], [0,1,2,3,4]]"
      ],
      "metadata": {
        "colab": {
          "base_uri": "https://localhost:8080/"
        },
        "id": "5Qfw7wnXYiQa",
        "outputId": "6f4f21ce-0b22-47ea-9f1e-e4e7e915161b"
      },
      "execution_count": null,
      "outputs": [
        {
          "output_type": "execute_result",
          "data": {
            "text/plain": [
              "array([ 1,  7, 13, 19, 25])"
            ]
          },
          "metadata": {},
          "execution_count": 11
        }
      ]
    },
    {
      "cell_type": "code",
      "source": [
        "b[[2,1,0], [4,4,4]]"
      ],
      "metadata": {
        "colab": {
          "base_uri": "https://localhost:8080/"
        },
        "id": "sIb1T8iEYvsD",
        "outputId": "765a8bab-322a-4bec-e927-3b8d3e9b889c"
      },
      "execution_count": null,
      "outputs": [
        {
          "output_type": "execute_result",
          "data": {
            "text/plain": [
              "array([15, 10,  5])"
            ]
          },
          "metadata": {},
          "execution_count": 13
        }
      ]
    },
    {
      "cell_type": "code",
      "source": [
        "b[[2,3,4], [2,2,2]]"
      ],
      "metadata": {
        "colab": {
          "base_uri": "https://localhost:8080/"
        },
        "id": "CVroj5-nZDuj",
        "outputId": "7d3863b1-64f5-4672-e409-abd723bdccbd"
      },
      "execution_count": null,
      "outputs": [
        {
          "output_type": "execute_result",
          "data": {
            "text/plain": [
              "array([13, 18, 23])"
            ]
          },
          "metadata": {},
          "execution_count": 14
        }
      ]
    },
    {
      "cell_type": "code",
      "source": [
        "b[[1,1,2,3,3], [1,3,2,1,3]]"
      ],
      "metadata": {
        "colab": {
          "base_uri": "https://localhost:8080/"
        },
        "id": "G3ntpjbBZgYo",
        "outputId": "cc3a2966-278e-4e34-bbae-7cb76fdb1a3f"
      },
      "execution_count": null,
      "outputs": [
        {
          "output_type": "execute_result",
          "data": {
            "text/plain": [
              "array([ 7,  9, 13, 17, 19])"
            ]
          },
          "metadata": {},
          "execution_count": 21
        }
      ]
    },
    {
      "cell_type": "code",
      "source": [
        "b[[0,0,4,4],[0,4,4,0]]"
      ],
      "metadata": {
        "colab": {
          "base_uri": "https://localhost:8080/"
        },
        "id": "dMHRkG-YajZC",
        "outputId": "e390500a-fc37-4eb1-d44e-d81210f7552f"
      },
      "execution_count": null,
      "outputs": [
        {
          "output_type": "execute_result",
          "data": {
            "text/plain": [
              "array([ 1,  5, 25, 21])"
            ]
          },
          "metadata": {},
          "execution_count": 22
        }
      ]
    },
    {
      "cell_type": "code",
      "source": [
        "b[::-1, 4]"
      ],
      "metadata": {
        "colab": {
          "base_uri": "https://localhost:8080/"
        },
        "id": "5nkZnqopa2KO",
        "outputId": "6f901959-d880-4358-e0c4-85183cf40891"
      },
      "execution_count": null,
      "outputs": [
        {
          "output_type": "execute_result",
          "data": {
            "text/plain": [
              "array([25, 20, 15, 10,  5])"
            ]
          },
          "metadata": {},
          "execution_count": 54
        }
      ]
    }
  ]
}